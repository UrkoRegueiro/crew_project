{
 "cells": [
  {
   "cell_type": "code",
   "execution_count": 49,
   "id": "644eedc7-62a8-425a-b226-e3241c3a6fca",
   "metadata": {},
   "outputs": [
    {
     "data": {
      "text/plain": [
       "True"
      ]
     },
     "execution_count": 49,
     "metadata": {},
     "output_type": "execute_result"
    }
   ],
   "source": [
    "from uuid import uuid4\n",
    "import os\n",
    "from dotenv import load_dotenv\n",
    "import pprint\n",
    "\n",
    "from langchain_community.document_loaders import PyPDFLoader\n",
    "from langchain.text_splitter import RecursiveCharacterTextSplitter\n",
    "from langchain_openai import OpenAIEmbeddings\n",
    "from langchain_groq import ChatGroq\n",
    "from langchain.vectorstores import Qdrant\n",
    "from langchain import hub\n",
    "from langchain.chains import RetrievalQA\n",
    "from langchain.prompts import PromptTemplate, ChatPromptTemplate\n",
    "from langchain.callbacks import StdOutCallbackHandler\n",
    "\n",
    "\n",
    "# Youtube transcript\n",
    "from langchain.document_loaders import YoutubeLoader\n",
    "from langchain.chains.summarize import load_summarize_chain\n",
    "from langchain.chains.llm import LLMChain\n",
    "from langchain.chains.combine_documents.stuff import StuffDocumentsChain\n",
    "from langchain.chains import MapReduceDocumentsChain, ReduceDocumentsChain\n",
    "\n",
    "\n",
    "# Vectorial DB\n",
    "from qdrant_client import QdrantClient\n",
    "from qdrant_client.models import Distance, VectorParams\n",
    "from qdrant_client.models import PointStruct\n",
    "\n",
    "\n",
    "# CrewAI\n",
    "from crewai import Agent, Task, Crew\n",
    "from crewai_tools import BaseTool\n",
    "\n",
    "load_dotenv()"
   ]
  },
  {
   "cell_type": "markdown",
   "id": "e86daa54-982f-4a1f-9ad7-8d0b1b917125",
   "metadata": {},
   "source": [
    "## Cargo claves"
   ]
  },
  {
   "cell_type": "code",
   "execution_count": 2,
   "id": "e1c2fbda-af84-4ba3-90ff-167aedface97",
   "metadata": {},
   "outputs": [],
   "source": [
    "GROQ_API_KEY = os.getenv('GROQ_API_KEY')\n",
    "QDRANT_API_KEY = os.getenv('QDRANT_API_KEY')\n",
    "QDRANT_URL = os.getenv('QDRANT_URL')\n",
    "OPENAI_API_KEY = os.getenv('OPENAI_API_KEY')"
   ]
  },
  {
   "cell_type": "markdown",
   "id": "94c984a7-1a95-425a-ac5b-eb339b4b1fb4",
   "metadata": {},
   "source": [
    "# Transcripcion videos Youtube"
   ]
  },
  {
   "cell_type": "code",
   "execution_count": 88,
   "id": "729ade8b-75a2-4195-8a23-48d01a8f1f76",
   "metadata": {},
   "outputs": [],
   "source": [
    "loader = YoutubeLoader.from_youtube_url(\"https://www.youtube.com/watch?v=UFfwqyM5lsQ&ab_channel=WhenPhysics\",\n",
    "                                        add_video_info=True,\n",
    "                                        language=[\"es\"]\n",
    "                                       )"
   ]
  },
  {
   "cell_type": "code",
   "execution_count": 105,
   "id": "c464d28a-2426-48fc-a494-81ce3510482c",
   "metadata": {},
   "outputs": [],
   "source": [
    "transcript = loader.load()"
   ]
  },
  {
   "cell_type": "markdown",
   "id": "f541b73b-c872-4d3a-882a-b5883309867d",
   "metadata": {},
   "source": [
    "## Resumen\n",
    "[Documentación summarization](\"https://python.langchain.com/v0.2/docs/tutorials/summarization/#stuff\")\n",
    "\n",
    "Dado que las transcripciones serán textos largos necesitaremos dividir el texto en trozos. Veremos que técnica los da mejores resultados."
   ]
  },
  {
   "cell_type": "markdown",
   "id": "91541c8d-b466-46df-8a4e-c6848775bd36",
   "metadata": {},
   "source": [
    "- Primero dividimos la transcripción en trozos(probando diferentes tamaños):"
   ]
  },
  {
   "cell_type": "code",
   "execution_count": 106,
   "id": "591641e6-4c66-45f4-9418-721be751c691",
   "metadata": {},
   "outputs": [],
   "source": [
    "text_splitter = RecursiveCharacterTextSplitter(chunk_size=5000, chunk_overlap=1000)"
   ]
  },
  {
   "cell_type": "code",
   "execution_count": 107,
   "id": "661078ae-a323-45c8-b6fc-301e96a8b126",
   "metadata": {},
   "outputs": [],
   "source": [
    "texts = text_splitter.split_documents(transcript)"
   ]
  },
  {
   "cell_type": "code",
   "execution_count": 108,
   "id": "b3f69769-456e-4056-a5cc-23f1d73e2516",
   "metadata": {},
   "outputs": [
    {
     "data": {
      "text/plain": [
       "7"
      ]
     },
     "execution_count": 108,
     "metadata": {},
     "output_type": "execute_result"
    }
   ],
   "source": [
    "len(texts)"
   ]
  },
  {
   "cell_type": "markdown",
   "id": "2bf5e44e-a35b-4fc6-af56-6f89f4b357ea",
   "metadata": {},
   "source": [
    "- Definimos el LLM:"
   ]
  },
  {
   "cell_type": "code",
   "execution_count": 10,
   "id": "7a21881f-ef52-4856-953b-778c71e88182",
   "metadata": {},
   "outputs": [],
   "source": [
    "llm = ChatGroq(model=\"llama3-70b-8192\",\n",
    "               groq_api_key= GROQ_API_KEY)"
   ]
  },
  {
   "cell_type": "markdown",
   "id": "4f8f4de1-6ade-407a-af1a-8fc34ae4d78f",
   "metadata": {},
   "source": [
    "# Map-reduce"
   ]
  },
  {
   "cell_type": "markdown",
   "id": "1f2aa526-25f8-413c-8f0b-9f3629bb349b",
   "metadata": {},
   "source": [
    "- Creamos una cadena para hacer un resumen de cada trozo de transcripción"
   ]
  },
  {
   "cell_type": "code",
   "execution_count": 42,
   "id": "f3e07c5b-37ce-4b1c-8483-7a10f663e26e",
   "metadata": {},
   "outputs": [],
   "source": [
    "map_template = \"\"\"The following is a set of texts in spanish from a video transcription\n",
    "{texts}\n",
    "Based on this list of texts, please identify the main themes \n",
    "Helpful Answer in Spanish:\"\"\"\n",
    "map_prompt = PromptTemplate.from_template(map_template)\n",
    "\n",
    "map_chain = LLMChain(llm=llm,\n",
    "                     prompt=map_prompt)"
   ]
  },
  {
   "cell_type": "code",
   "execution_count": 43,
   "id": "5d2262d1-72d9-4792-a6ec-cdb1bcc5c643",
   "metadata": {},
   "outputs": [
    {
     "data": {
      "text/plain": [
       "LLMChain(prompt=PromptTemplate(input_variables=['texts'], template='The following is a set of texts in spanish from a video transcription\\n{texts}\\nBased on this list of texts, please identify the main themes \\nHelpful Answer in Spanish:'), llm=ChatGroq(client=<groq.resources.chat.completions.Completions object at 0x0000022E08F16D10>, async_client=<groq.resources.chat.completions.AsyncCompletions object at 0x0000022E08D32A50>, model_name='llama3-70b-8192', groq_api_key=SecretStr('**********')))"
      ]
     },
     "execution_count": 43,
     "metadata": {},
     "output_type": "execute_result"
    }
   ],
   "source": [
    "map_chain"
   ]
  },
  {
   "cell_type": "markdown",
   "id": "0dd10078-c5ac-407b-a71e-0ac7261534ca",
   "metadata": {},
   "source": [
    "- Creamos una cadena para hacer un resumen final de los resumenes de cada trozo"
   ]
  },
  {
   "cell_type": "code",
   "execution_count": 50,
   "id": "dc1c646b-1400-439a-8d5f-d1e540faa86e",
   "metadata": {},
   "outputs": [],
   "source": [
    "# Reduce\n",
    "reduce_template = \"\"\"The following is set of summaries in spanish:\n",
    "{texts}\n",
    "Take these and distill it into a final, consolidated summary of the main themes. \n",
    "Helpful Answer in Spanish:\"\"\"\n",
    "reduce_prompt = PromptTemplate.from_template(reduce_template)\n",
    "\n",
    "# Run chain\n",
    "reduce_chain = LLMChain(llm=llm,\n",
    "                        prompt=reduce_prompt)\n",
    "# Takes a list of documents, combines them into a single string, and passes this to an LLMChain\n",
    "combine_documents_chain = StuffDocumentsChain(llm_chain=reduce_chain,\n",
    "                                              document_variable_name=\"texts\")\n",
    "\n",
    "# Combines and iteratively reduces the mapped documents\n",
    "reduce_documents_chain = ReduceDocumentsChain(\n",
    "    # This is final chain that is called.\n",
    "    combine_documents_chain=combine_documents_chain,\n",
    "    # If documents exceed context for `StuffDocumentsChain`\n",
    "    collapse_documents_chain=combine_documents_chain,\n",
    "    # The maximum number of tokens to group documents into.\n",
    "    token_max=10000,\n",
    ")"
   ]
  },
  {
   "cell_type": "code",
   "execution_count": 53,
   "id": "49c7d162-d1a8-4aa2-84c1-b44427f50ca3",
   "metadata": {},
   "outputs": [],
   "source": [
    "# Combining documents by mapping a chain over them, then combining results\n",
    "map_reduce_chain = MapReduceDocumentsChain(\n",
    "    # Map chain\n",
    "    llm_chain=map_chain,\n",
    "    # Reduce chain\n",
    "    reduce_documents_chain=reduce_documents_chain,\n",
    "    # The variable name in the llm_chain to put the documents in\n",
    "    document_variable_name=\"texts\",\n",
    "    # Return the results of the map steps in the output\n",
    "    return_intermediate_steps=True,\n",
    ")"
   ]
  },
  {
   "cell_type": "code",
   "execution_count": 54,
   "id": "1f9eeb59-2d54-4fc1-a4e7-4c283e14c3ca",
   "metadata": {},
   "outputs": [
    {
     "name": "stderr",
     "output_type": "stream",
     "text": [
      "Token indices sequence length is longer than the specified maximum sequence length for this model (2787 > 1024). Running this sequence through the model will result in indexing errors\n"
     ]
    }
   ],
   "source": [
    "result = map_reduce_chain.invoke(texts)"
   ]
  },
  {
   "cell_type": "code",
   "execution_count": 55,
   "id": "1c7abf11-9bc3-4c56-bc42-830d03b9fbdf",
   "metadata": {},
   "outputs": [
    {
     "name": "stdout",
     "output_type": "stream",
     "text": [
      "Basándome en los textos, puedo identificar los siguientes temas principales consolidados:\n",
      "\n",
      "1. **Crítica al Partido Popular y su programa electoral**: La crítica al Partido Popular y su programa electoral es un tema recurrente, destacando la falta de transparencia, sinceridad y medidas concretas.\n",
      "\n",
      "2. **Desilusión con la política y los partidos políticos**: La desilusión con la política y los partidos políticos en general, y específicamente con el Partido Popular, es un tema destacado en varios textos.\n",
      "\n",
      "3. **Europa y valores europeos**: La importancia de Europa, los valores europeos como la libertad, la igualdad y la democracia, y la necesidad de reafirmar la identidad europea son temas importantes.\n",
      "\n",
      "4. **Desafíos actuales y futuro de Europa**: Los desafíos actuales que enfrenta Europa, como la demografía, la economía, la seguridad y la globalización, y la necesidad de abordarlos de manera efectiva para garantizar un futuro próspero.\n",
      "\n",
      "5. **Democracia y Estado de Derecho**: La importancia de la democracia y el estado de derecho, y la necesidad de defenderlos en Europa, es un tema destacado.\n",
      "\n",
      "6. **Política y liderazgo**: La capacidad de liderazgo y la toma de decisiones políticas efectivas para abordar los desafíos económicos y de competitividad en Europa también son mencionados.\n",
      "\n",
      "En resumen, los temas principales consolidados se centran en la crítica al Partido Popular, la desilusión con la política, la importancia de Europa y los valores europeos, los desafíos actuales y el futuro de Europa, la democracia y el estado de derecho, y la política y el liderazgo.\n"
     ]
    }
   ],
   "source": [
    "print(result[\"output_text\"])"
   ]
  },
  {
   "cell_type": "markdown",
   "id": "4f58d086-d26b-4bb6-a205-51934f2f7abb",
   "metadata": {},
   "source": [
    "# Refine\n",
    "\n",
    "En este caso se crea un resumen del primer trozo de la transcripción y se van añadiendo a este los siguientes trozos generando otro resumen refinado con la nueva información."
   ]
  },
  {
   "cell_type": "code",
   "execution_count": 110,
   "id": "edbba36e-f6cf-4a32-b44b-0caf5d7d9119",
   "metadata": {},
   "outputs": [],
   "source": [
    "prompt_template = \"\"\"Write a summary in SPANISH of the following:\n",
    "{text}\n",
    "SUMMARY:\"\"\"\n",
    "prompt = PromptTemplate.from_template(prompt_template)\n",
    "\n",
    "refine_template = (\n",
    "    \"Your job is to produce a final summary in SPANISH\\n\"\n",
    "    \"We have provided an existing summary in spanish up to a certain point: {existing_answer}\\n\"\n",
    "    \"We have the opportunity to refine the existing summary\"\n",
    "    \"(only if needed) with some more context below.\\n\"\n",
    "    \"------------\\n\"\n",
    "    \"{text}\\n\"\n",
    "    \"------------\\n\"\n",
    "    \"Given the new context, refine the original summary\"\n",
    "    \"If the context isn't useful, return the original summary.\"\n",
    ")\n",
    "refine_prompt = PromptTemplate.from_template(refine_template)\n",
    "\n",
    "# Chain\n",
    "chain = load_summarize_chain(\n",
    "    llm=llm,\n",
    "    chain_type=\"refine\",\n",
    "    question_prompt=prompt,\n",
    "    refine_prompt=refine_prompt,\n",
    "    return_intermediate_steps=False,\n",
    "    input_key=\"input_documents\",\n",
    "    output_key=\"output_text\",\n",
    ")"
   ]
  },
  {
   "cell_type": "code",
   "execution_count": 111,
   "id": "5ebca2f8-86d7-4fc7-881b-2d4e78d882bf",
   "metadata": {},
   "outputs": [],
   "source": [
    "result = chain.invoke({\"input_documents\": texts}, return_only_outputs=True)"
   ]
  },
  {
   "cell_type": "code",
   "execution_count": 112,
   "id": "687f813c-9197-4a32-b662-df559c0d33ed",
   "metadata": {},
   "outputs": [
    {
     "name": "stdout",
     "output_type": "stream",
     "text": [
      "Based on the provided context, I refined the original summary in Spanish:\n",
      "\n",
      "Resumen:\n",
      "\n",
      "La decisión de estudiar física depende de tus motivos. Si la física es tu pasión, entonces vale la pena. Sin embargo, si buscas ganar dinero, puede no ser la mejor opción. La carrera de física es complicada y las salidas laborales no son tan claras.\n",
      "\n",
      "Las salidas laborales en física pueden ser investigador en una universidad, dedicarse a la programación, investigar en una empresa privada o ser profesor de física. También es posible meterse en otros campos como mercados financieros, física de materiales, física química, computación cuántica, análisis de datos, estadística y Machine learning, dependiendo de la especialización.\n",
      "\n",
      "Es importante recordar que la carrera de física es difícil y requiere mucho esfuerzo y dedicación. Es fundamental tener una buena base en matemáticas y ser cuidadoso en el laboratorio. Además, es importante presentar informes y gráficas de manera clara y precisa.\n",
      "\n",
      "Para tener éxito en esta carrera, es fundamental tener buena organización y planificación. Es recomendable terminar de preparar los exámenes dos semanas antes, para que el cerebro repose el conocimiento y salga más fluido en el examen. También es importante aprovechar el tiempo en clase, atendiendo lo máximo posible al profesor y procesando parte de la información durante la clase.\n",
      "\n",
      "Además, es recomendable buscar recursos online para resolver dudas y entender parte del temario. Es importante ser consciente de la importancia de la ortografía y la gramática al presentar informes y gráficas.\n",
      "\n",
      "Es fundamental ser autónomo en la universidad, ya que eres lo suficientemente maduro para determinar cuándo puedes y cuando no puedes ir a clase. También es recomendable buscar recursos online para resolver dudas y entender parte del temario.\n",
      "\n",
      "Para presentar ejercicios, es importante cuidar la presentación, indicar bien qué ejercicio se está resolviendo, poner los datos principales del ejercicio en la parte de arriba y después ir desarrollando los diferentes elementos del ejercicio de una manera clara y precisa.\n",
      "\n",
      "En los exámenes, es recomendable mirar bien todas las preguntas antes de empezar y luego escoger las más sencillas para empezar por ellas. También es importante tener una calculadora avanzada que permita realizar cálculos complejos.\n",
      "\n",
      "Aprendizaje de programación es fundamental en la carrera de física, especialmente en física experimental y teórica. Es importante dominar al menos dos lenguajes de programación, como Python y C++. La programación es esencial para realizar análisis de datos y ajustes en física experimental, y para realizar cálculos numéricos en física teórica.\n",
      "\n",
      "Para tener éxito en el sector laboral, es fundamental especializarse en un campo concreto y saber programar. También es importante estar al tanto de las tendencias del momento y saber qué necesita la gente. No basta con dominar varios lenguajes de programación, sino que también es importante tener experiencia en el trabajo y saber aplicar los conocimientos en la práctica.\n",
      "\n",
      "Es importante recordar que el hecho de tener o no tener una carrera de física no te hace ni mejor ni peor persona, ni te hace ser alguien más o menos listo ni tampoco hace que seas moralmente superior o algo. Lo que importa es el sector laboral y cómo te desenvuelves en él.\n"
     ]
    }
   ],
   "source": [
    "print(result[\"output_text\"])"
   ]
  },
  {
   "cell_type": "markdown",
   "id": "2ad4127f-39ea-4b45-902a-9d3c0ff61876",
   "metadata": {},
   "source": [
    "# Crew"
   ]
  },
  {
   "cell_type": "markdown",
   "id": "09eb3888-110c-40cf-8d2c-0cf458f9f640",
   "metadata": {},
   "source": [
    "## Carga y split de documentos"
   ]
  },
  {
   "cell_type": "code",
   "execution_count": 3,
   "id": "f5e46286-6b14-45d3-abf5-1fb9931e94fe",
   "metadata": {},
   "outputs": [],
   "source": [
    "def doc_loader(pdf):\n",
    "    pdf_loader = PyPDFLoader(pdf)\n",
    "    text_splitter = RecursiveCharacterTextSplitter(chunk_size= 1024, chunk_overlap= 100)\n",
    "    doc = pdf_loader.load_and_split(text_splitter)\n",
    "\n",
    "    return doc"
   ]
  },
  {
   "cell_type": "code",
   "execution_count": 4,
   "id": "21efc1f5-1338-4a14-b970-8f178b5e4c30",
   "metadata": {},
   "outputs": [],
   "source": [
    "doc = doc_loader(\"docs/tfg.pdf\")"
   ]
  },
  {
   "cell_type": "markdown",
   "id": "c8dac0e5-e8e1-4fe3-978c-427eeda080b8",
   "metadata": {},
   "source": [
    "## Almacenamiento en la VDB de Qdrant"
   ]
  },
  {
   "cell_type": "code",
   "execution_count": 5,
   "id": "cbcadc7d-6c08-4511-b816-1567f25408f4",
   "metadata": {},
   "outputs": [
    {
     "data": {
      "text/plain": [
       "True"
      ]
     },
     "execution_count": 5,
     "metadata": {},
     "output_type": "execute_result"
    }
   ],
   "source": [
    "# Creo una colección en la base de datos vectorial\n",
    "\n",
    "client = QdrantClient(url=QDRANT_URL,\n",
    "                      api_key=QDRANT_API_KEY\n",
    "                     )\n",
    "\n",
    "\n",
    "client.create_collection(collection_name=\"tfg\",\n",
    "                         vectors_config={\"content\": VectorParams(size=1536, distance=Distance.COSINE)}\n",
    "                        )"
   ]
  },
  {
   "cell_type": "code",
   "execution_count": 6,
   "id": "de9b284c-04ed-4fc6-b69e-500a5050ead5",
   "metadata": {},
   "outputs": [],
   "source": [
    "# Almaceno documentos en la base de datos vectorial:\n",
    "\n",
    "embedding = OpenAIEmbeddings()\n",
    "\n",
    "def chunked_metadata(doc, client=client, collection_name=\"tfg\"):\n",
    "\n",
    "    chunked_metadata = []\n",
    "\n",
    "    for item in doc:\n",
    "\n",
    "      id = str(uuid4())\n",
    "      content = item.page_content\n",
    "      source = item.metadata[\"source\"]\n",
    "      page = item.metadata[\"page\"]\n",
    "\n",
    "      content_vector = embedding.embed_documents([content])[0]\n",
    "      vector_dict = {\"content\": content_vector}\n",
    "\n",
    "      payload = {\"page_content\": content,\n",
    "                 \"metadata\": {\"id\": id,\n",
    "                              \"source\": source,\n",
    "                              \"page\": page,\n",
    "                             }\n",
    "                }\n",
    "\n",
    "\n",
    "      metadata = PointStruct(id=id, vector=vector_dict, payload=payload)\n",
    "      chunked_metadata.append(metadata)\n",
    "\n",
    "    client.upsert(collection_name=collection_name,\n",
    "                  wait=True,\n",
    "                  points=chunked_metadata)"
   ]
  },
  {
   "cell_type": "code",
   "execution_count": 7,
   "id": "8bd2ce66-6290-4b96-ad79-659f2b218abf",
   "metadata": {},
   "outputs": [],
   "source": [
    "chunked_metadata(doc)"
   ]
  },
  {
   "cell_type": "markdown",
   "id": "5fa8bc5b-2f9c-40c2-8ce1-a2d19db48a3a",
   "metadata": {},
   "source": [
    "### Reviso que colecciones tenemos en el cluster0:"
   ]
  },
  {
   "cell_type": "code",
   "execution_count": null,
   "id": "fbfc0f6b-4c6e-4627-ab26-139a26f524a0",
   "metadata": {},
   "outputs": [],
   "source": [
    "client.get_collections()"
   ]
  },
  {
   "cell_type": "code",
   "execution_count": 42,
   "id": "a41e5fef-7e09-45b7-a013-bb5ab4f91233",
   "metadata": {},
   "outputs": [
    {
     "name": "stdout",
     "output_type": "stream",
     "text": [
      "Points: 113 \n"
     ]
    }
   ],
   "source": [
    "attention_collection = client.get_collection(\"tfg\")\n",
    "\n",
    "print(f\"Points: {attention_collection.points_count} \")"
   ]
  },
  {
   "cell_type": "code",
   "execution_count": 8,
   "id": "94c58dc3-82b7-4c5a-ba2f-f7ab2bc143bd",
   "metadata": {},
   "outputs": [
    {
     "data": {
      "text/plain": [
       "[ScoredPoint(id='0b349987-b9c8-4f9f-8795-b28ddbf8a430', version=0, score=0.7982359, payload={'page_content': 'para su archivo, consulta y empleo para usos académicos y de investigación con la\\nmención específica al autor.\\nEn Santiago de Compostela, a 6 de Febrero de 2023. Firmado,'}, vector=None, shard_key=None),\n",
       " ScoredPoint(id='b121feff-8762-492d-a0df-82223ed98710', version=0, score=0.7963041, payload={'page_content': '1. Introducción\\nEn la actualidad se hace necesaria una transición energética hacia la electrifica-\\nción debido a la urgencia de reducir las emisiones de CO2y la escasez, cada vez\\nmayor, de los combustibles fósiles. En el ámbito de la automoción, la industria es-\\ntá tratando de sustituir los vehículos de combustión (VCs) convencionales por una\\nnueva generación de vehículos eléctricos (VEs) e híbridos (VHs) con el objetivo de\\nreducir los gases de efecto invernadero.\\nComo en toda maquinaria, los lubricantes juegan un papel fundamental en la\\nvida útil de sus componentes, reduciendo la fricción, protegiéndolos de la corro-\\nsión y trasfiriendo el calor generado. Los nuevos VEs y VHs, a diferencia de los\\nVCs, contienen una mayor cantidad de componentes electrónicos en su sistema de\\npropulsión eléctrico y, sin embargo, estos siguen utilizando lubricantes de automo-\\nción convencionales. Se hace necesario por tanto, el estudio de nuevos lubricantes'}, vector=None, shard_key=None),\n",
       " ScoredPoint(id='d84738fa-5d30-4f25-9c09-9e91778c8513', version=0, score=0.79592705, payload={'page_content': 'FACULTAD DE FÍSICA\\nGRAO EN FÍSICA\\nCurso 2022-23\\nTRABAJO DE FIN DE GRADO\\nCARACTERIZACIÓN DE LUBRICANTES:CONDUCTIVIDAD ELÉCTRICA Y TENSIÓNSUPERFICIAL\\nAutor:\\nUrko Regueiro Ramos\\nTutor:\\nAlfredo José Amigo Pombo\\nDepartamento de Física Aplicada\\nCotutor:\\nÓscar Giner Rajala\\nDepartamento de Física Aplicada\\nFebrero 2023\\nO autor autoriza a consulta e emprego desta memoria para uso académico e de investigación (autorización detallada nas páxinas interiores).'}, vector=None, shard_key=None),\n",
       " ScoredPoint(id='aeea2ae5-4a06-4166-9283-935039f61474', version=0, score=0.7929298, payload={'page_content': 'Facultad de Física\\nGrado en Física\\nCurso 2022-23\\nTRABAJO DE FIN DE GRADO\\nCARACTERIZACIÓN DE LUBRICANTES: CONDUCTIVIDAD ELÉCTRICA Y TEN-\\nSIÓN SUPERFICIAL\\nAutor: Urko Regueiro Ramos\\nTutor: Alfredo José Amigo Pombo ,Departamento de Física Aplicada\\nCotutor: Óscar Giner Rajala ,Departamento de Física Aplicada\\nFecha de presentación: Febrero 2023'}, vector=None, shard_key=None),\n",
       " ScoredPoint(id='67250a15-aa36-422f-b70d-9c23070f687b', version=0, score=0.7907448, payload={'page_content': 'Los agregados moleculares son estructuras compuestas por moléculas de un\\nsurfactante. Cuando se añade un surfactante a un aceite, la parte polar de sus mo-\\nléculas se desplazará a la superficie para evitar el contacto con este. Si se aumenta\\nsu concentración, las moléculas empezaran a ocupar toda la superficie disponible\\nhasta saturarla. Cuando la concentración de surfactante sobrepasa este punto críti-\\nco, conocido como concentración micelar crítica (CMC), las moléculas empiezan a\\nagruparse formando estructuras en seno de la mezcla, como se ilustra en la Figura\\n4, que les permiten aislar sus partes polares del aceite.\\n4'}, vector=None, shard_key=None)]"
      ]
     },
     "execution_count": 8,
     "metadata": {},
     "output_type": "execute_result"
    }
   ],
   "source": [
    "# Hagamos una busqueda para ver que documentos son más similares\n",
    "\n",
    "client.search(\n",
    "    collection_name=\"tfg\",\n",
    "    query_vector=(\"content\", embedding.embed_documents([\"resumen\"])[0]),\n",
    "    with_payload=[\"page_content\", \"source\"],\n",
    "    limit=5\n",
    ")"
   ]
  },
  {
   "cell_type": "markdown",
   "id": "fb76ee48-b5db-4fa0-8467-daadb61d48bf",
   "metadata": {},
   "source": [
    "## Inicializar la base de datos vectorial"
   ]
  },
  {
   "cell_type": "code",
   "execution_count": 3,
   "id": "a5f994f1-9ca4-4efa-a90f-d1f08c5baae6",
   "metadata": {},
   "outputs": [],
   "source": [
    "# Initialize vector store\n",
    "client = QdrantClient(url=QDRANT_URL,\n",
    "                      api_key=QDRANT_API_KEY\n",
    "                     )\n",
    "\n",
    "embedding = OpenAIEmbeddings()\n",
    "\n",
    "vectorstore = Qdrant(client=client,\n",
    "                     collection_name=\"tfg\",\n",
    "                     embeddings=embedding,\n",
    "                     vector_name=\"content\")"
   ]
  },
  {
   "cell_type": "code",
   "execution_count": 49,
   "id": "1be8261a-2d13-417d-bb7f-e6482d8221d0",
   "metadata": {},
   "outputs": [],
   "source": [
    "# Downlad prompt template\n",
    "\n",
    "rag_prompt = hub.pull(\"rlm/rag-prompt\")"
   ]
  },
  {
   "cell_type": "code",
   "execution_count": 64,
   "id": "9a6e6438-5566-45cc-87b0-a739f9202c6e",
   "metadata": {},
   "outputs": [
    {
     "data": {
      "text/plain": [
       "\"You are an assistant for question-answering tasks. Use the following pieces of retrieved context to answer the question. If you don't know the answer, just say that you don't know. Use four sentences maximum and keep the answer concise.\\nQuestion: {question} \\nContext: {context} \\nAnswer:\""
      ]
     },
     "execution_count": 64,
     "metadata": {},
     "output_type": "execute_result"
    }
   ],
   "source": [
    "rag_prompt.messages[0].prompt.template"
   ]
  },
  {
   "cell_type": "markdown",
   "id": "3d9828c8-387d-48a2-a666-4b04d0d1c506",
   "metadata": {},
   "source": [
    "## RAG Pipeline"
   ]
  },
  {
   "cell_type": "code",
   "execution_count": 4,
   "id": "f4ba8769-e3c8-48c0-aed3-5a972eaf2ea3",
   "metadata": {},
   "outputs": [],
   "source": [
    "rag_prompt = '''\n",
    "You are an assistant for summary tasks. \\\n",
    "Use the following pieces of retrieved context to summarize. \\\n",
    "If you don't know the answer, just say that you don't know. \\\n",
    "\"{context}\" CONCISE SUMMARY: \n",
    "'''\n",
    "prompt = PromptTemplate(template=rag_prompt,\n",
    "                        input_variables=[\"context\", \"question\"])"
   ]
  },
  {
   "cell_type": "code",
   "execution_count": 5,
   "id": "5fae6637-fa07-4f28-a80b-75cfd77e4a47",
   "metadata": {},
   "outputs": [],
   "source": [
    "handler = StdOutCallbackHandler()\n",
    "retriever = vectorstore.as_retriever()\n",
    "\n",
    "llm = ChatGroq(model=\"llama3-70b-8192\",\n",
    "               groq_api_key= GROQ_API_KEY)\n",
    "\n",
    "# Retrieval qa chain\n",
    "qa_chain = RetrievalQA.from_chain_type(llm=llm,\n",
    "                                       chain_type=\"stuff\",\n",
    "                                       callbacks=[handler],\n",
    "                                       retriever=retriever,\n",
    "                                       chain_type_kwargs={\"prompt\": prompt})"
   ]
  },
  {
   "cell_type": "code",
   "execution_count": 7,
   "id": "d1b5ef26-6698-4df0-b5b0-0bfeb05de5a2",
   "metadata": {},
   "outputs": [
    {
     "name": "stdout",
     "output_type": "stream",
     "text": [
      "\n",
      "\n",
      "\u001b[1m> Entering new RetrievalQA chain...\u001b[0m\n",
      "\n",
      "\u001b[1m> Finished chain.\u001b[0m\n"
     ]
    },
    {
     "data": {
      "text/plain": [
       "'Aunque no hay un resumen explícito en el texto, se puede inferir que el estudio se enfoca en la caracterización de lubricantes, específicamente en la relación entre la longitud de la cadena del alcohol y la conductividad eléctrica y la tensión superficial. El estudio encontró que la longitud de la cadena del alcohol juega un papel fundamental en la estabilidad de la mezcla y que el aumento de la conductividad eléctrica se debe a la formación de agregados moleculares.'"
      ]
     },
     "execution_count": 7,
     "metadata": {},
     "output_type": "execute_result"
    }
   ],
   "source": [
    "# Invoke qa_chain gpt-3.5-turbo\n",
    "\n",
    "qa_chain.invoke({\"query\": \"Cual es el resumen del estudio?\"})[\"result\"]"
   ]
  },
  {
   "cell_type": "code",
   "execution_count": 73,
   "id": "4b955500-950f-4098-b34e-21456e0ed18d",
   "metadata": {},
   "outputs": [
    {
     "name": "stdout",
     "output_type": "stream",
     "text": [
      "\n",
      "\n",
      "\u001b[1m> Entering new RetrievalQA chain...\u001b[0m\n",
      "\n",
      "\u001b[1m> Finished chain.\u001b[0m\n"
     ]
    },
    {
     "data": {
      "text/plain": [
       "'Según el texto, los resultados obtenidos de la conductividad eléctrica son:\\n\\n* La conductividad eléctrica aumenta con la concentración de alcohol en la mezcla.\\n* La longitud de la cadena del alcohol juega un papel fundamental en la estabilidad de la mezcla, y se obtienen mejores resultados con alcoholes de cadena larga.\\n* La conductividad eléctrica es mayor en la mezcla de 1-Nonanol que en otras mezclas.\\n* La medida de la conductividad eléctrica puede ser poco certera debido a la inestabilidad de los agregados que se forman en la disolución.\\n\\nNo se mencionan otros resultados específicos de la conductividad eléctrica, pero se habla de la importancia de la longitud de la cadena del alcohol y la concentración de alcohol en la mezcla.'"
      ]
     },
     "execution_count": 73,
     "metadata": {},
     "output_type": "execute_result"
    }
   ],
   "source": [
    "qa_chain.invoke({\"query\": \"Que resultados se obtienen de la conductividad electrica\"})[\"result\"]"
   ]
  },
  {
   "cell_type": "code",
   "execution_count": 16,
   "id": "3aaa598c-5a21-4041-b59d-d9088c8bdfb1",
   "metadata": {},
   "outputs": [
    {
     "name": "stdout",
     "output_type": "stream",
     "text": [
      "\n",
      "\n",
      "\u001b[1m> Entering new RetrievalQA chain...\u001b[0m\n",
      "\n",
      "\u001b[1m> Finished chain.\u001b[0m\n"
     ]
    },
    {
     "data": {
      "text/plain": [
       "{'query': 'Can you analyze the research paper?',\n",
       " 'result': \"I'd be happy to try! However, I need more information about what you would like me to analyze. \\n\\nThe references provided appear to be a list of citations from a research paper, but without the actual paper, it's challenging to provide a comprehensive analysis.\\n\\nCould you please provide more context or clarify what specifically you would like me to analyze? For example, are you looking for an analysis of the methodology, results, conclusions, or something else? Additionally, do you have access to the full paper, and if so, can you share it with me?\"}"
      ]
     },
     "execution_count": 16,
     "metadata": {},
     "output_type": "execute_result"
    }
   ],
   "source": [
    "qa_chain.invoke(\"Can you analyze the research paper?\")"
   ]
  },
  {
   "cell_type": "code",
   "execution_count": 7,
   "id": "ad6a8392-9529-4d44-a410-240800de8b6a",
   "metadata": {},
   "outputs": [
    {
     "data": {
      "text/plain": [
       "PromptTemplate(input_variables=['question'], template='{question}')"
      ]
     },
     "execution_count": 7,
     "metadata": {},
     "output_type": "execute_result"
    }
   ],
   "source": [
    "qa_chain.combine_documents_chain.llm_chain.prompt.messages[1].prompt"
   ]
  },
  {
   "cell_type": "code",
   "execution_count": 6,
   "id": "efa4711b-91f3-40e2-af3e-87480a4578f1",
   "metadata": {},
   "outputs": [],
   "source": [
    "# Create custom tool to use the vector store\n",
    "\n",
    "class MyCustomTool(BaseTool):\n",
    "    name: str = \"Research Paper\"\n",
    "    description: str = \"A tool used to read and understand a research paper for extracting information.\"\n",
    "\n",
    "    def _run(self, argument: str):\n",
    "\n",
    "        if argument == \"string\":\n",
    "            return qa_chain.invoke(\"What is the research paper about?\")\n",
    "        else:\n",
    "            return qa_chain.invoke(argument)\n",
    "\n",
    "tool_instance = MyCustomTool()"
   ]
  },
  {
   "cell_type": "code",
   "execution_count": 7,
   "id": "e0350e05-134d-41dc-8512-b37225744b15",
   "metadata": {},
   "outputs": [],
   "source": [
    "### RESEARCHER ###\n",
    "\n",
    "# Agent\n",
    "reasarcher = Agent(\n",
    "    role=\"Physicist Researcher\",\n",
    "    goal='Understand all sections of the research paper and describe the important information',\n",
    "    backstory=\"\"\"You work investigating at the Physics department of the university.\n",
    "                  A new paper has been published and you need to extract\n",
    "                  the main information and provide the information to\n",
    "                  your co-workers.You have a knack for dissecting complex\n",
    "                  research papers\"\"\",\n",
    "    verbose=True,\n",
    "    llm= llm,\n",
    "    tools=[tool_instance],\n",
    "    allow_delegation=False\n",
    "    )\n",
    "\n",
    "\n",
    "# Tasks\n",
    "task_research = Task(\n",
    "    description=\"\"\"Conduct an in-depth analysis of the published research paper\"\"\",\n",
    "    expected_output=\"\"\"Your final answer must be a full analysis report of the research paper\"\"\",\n",
    "    agent=reasarcher,\n",
    "    output_file='researcher_analysis.md' \n",
    "\n",
    ")\n",
    "\n",
    "\n",
    "### WRITER ###\n",
    "\n",
    "# Agent\n",
    "writer = Agent(\n",
    "    role=\"Physicist Writer\",\n",
    "    goal= 'Craft a detailed report to present to your co-workers',\n",
    "    backstory=\"\"\"You are working on writing a detailed summary of a research paper.\n",
    "                  Use the content of the Physicist Researcher to develop\n",
    "                  a comprehensive summary of the research paper\"\"\",\n",
    "    verbose=True,\n",
    "    llm= llm,\n",
    "    allow_delegation=False,\n",
    ")\n",
    "\n",
    "# Tasks\n",
    "task_writer = Task(\n",
    "    description=\"\"\"Extract the most important topics and key components of the report\n",
    "                    developed by the Physicist Researcher.\"\"\",\n",
    "    expected_output=\"\"\"Your final answer must be a summary \n",
    "                        to understand report for your co-workers\"\"\",\n",
    "    agent=writer,\n",
    "    output_file='writer_summary.md' \n",
    "\n",
    ")\n",
    "\n",
    "# CREWAI KICKOFF\n",
    "\n",
    "Crew = Crew(agents=[reasarcher, writer],\n",
    "            tasks=[task_research, task_writer],\n",
    "            verbose=99)"
   ]
  },
  {
   "cell_type": "code",
   "execution_count": 8,
   "id": "69554ea5-934e-4fc1-9d4c-b5fba4135992",
   "metadata": {},
   "outputs": [
    {
     "name": "stdout",
     "output_type": "stream",
     "text": [
      "\u001b[1m\u001b[95m [DEBUG]: == Working Agent: Physicist Researcher\u001b[00m\n",
      "\u001b[1m\u001b[95m [INFO]: == Starting Task: Conduct an in-depth analysis of the published research paper\u001b[00m\n",
      "\n",
      "\n",
      "\u001b[1m> Entering new CrewAgentExecutor chain...\u001b[0m\n",
      "\u001b[32;1m\u001b[1;3mThought: I need to thoroughly read and understand the research paper to extract the main information.\n",
      "\n",
      "Action: Research Paper\n",
      "Action Input: {\"argument\": \"string\"}\u001b[0m\n",
      "\n",
      "\u001b[1m> Entering new RetrievalQA chain...\u001b[0m\n",
      "\n",
      "\u001b[1m> Finished chain.\u001b[0m\n",
      "\u001b[95m \n",
      "\n",
      "{'query': 'What is the research paper about?', 'result': 'Based on the provided context, here is a concise summary:\\n\\nThe document appears to be a Final Degree Project report in Physics, titled \"Characterization of Lubricants: Electrical Conductivity and Surface Tension\". The author is Urko Regueiro Ramos, and the tutors are Alfredo José Amigo Pombo and Óscar Giner Rajala from the Department of Applied Physics. The report was submitted in February 2023. The references cited in the report include various scientific papers and books related to physics, chemistry, and thermodynamics.'}\n",
      "\u001b[00m\n",
      "\u001b[32;1m\u001b[1;3mThought: Now that I have a general understanding of the research paper, I need to dive deeper into the introduction to understand the research question and objectives.\n",
      "\n",
      "Action: Research Paper\n",
      "Action Input: {\"argument\": \"Introduction\"}\u001b[0m\n",
      "\n",
      "\u001b[1m> Entering new RetrievalQA chain...\u001b[0m\n",
      "\n",
      "\u001b[1m> Finished chain.\u001b[0m\n",
      "\u001b[95m \n",
      "\n",
      "{'query': 'Introduction', 'result': 'Here is a concise summary of the provided text:\\n\\nThe document is a thesis titled \"Characterization of Lubricants: Electrical Conductivity and Surface Tension\" by Urko Regueiro Ramos. The thesis aims to study new lubricants for electric vehicles (EVs) and hybrid vehicles (HVs), which require different lubricant properties than traditional combustion vehicles. The study focuses on the electrical conductivity and surface tension of lubricants, with the goal of developing more suitable lubricants for EVs and HVs.'}\n",
      "\u001b[00m\n",
      "\u001b[32;1m\u001b[1;3mThought: Now that I have an understanding of the introduction, I need to understand the methodology used in the research.\n",
      "\n",
      "Action: Research Paper\n",
      "Action Input: {\"argument\": \"Methodology\"}\u001b[0m\n",
      "\n",
      "\u001b[1m> Entering new RetrievalQA chain...\u001b[0m\n",
      "\n",
      "\u001b[1m> Finished chain.\u001b[0m\n",
      "\u001b[95m \n",
      "\n",
      "{'query': 'Methodology', 'result': 'Here is a concise summary of the text:\\n\\nThe text describes an experimental procedure for characterizing lubricants, specifically measuring their electrical conductivity and surface tension. The procedure involves preparing solutions with different concentrations of alcohols (1-butanol, 1-hexanol, and 1-nonanol) and measuring their surface tension and electrical conductivity at 25°C. The measurements are taken using a tensiometer and a conductimeter, respectively. The equipment is carefully cleaned and prepared between measurements to ensure accurate results.'}\n",
      "\u001b[00m\n",
      "\u001b[32;1m\u001b[1;3mThought: Now that I have an understanding of the methodology, I need to understand the results of the research.\n",
      "\n",
      "Action: Research Paper\n",
      "Action Input: {\"argument\": \"Results\"}\u001b[0m\n",
      "\n",
      "\u001b[1m> Entering new RetrievalQA chain...\u001b[0m\n",
      "\n",
      "\u001b[1m> Finished chain.\u001b[0m\n",
      "\u001b[95m \n",
      "\n",
      "{'query': 'Results', 'result': 'Here is a concise summary of the provided context:\\n\\nThe text appears to be a thesis or research paper in the field of physics, specifically on the characterization of lubricants. The author, Urko Regueiro Ramos, investigates the electrical conductivity and surface tension of lubricants. The paper includes results and discussion sections, with a focus on the measurement of electrical conductivity in polyalphaolefins using different mixtures. The results are presented in a figure, showing the dependence of conductivity on the content of alcohol used.'}\n",
      "\u001b[00m\n",
      "\u001b[32;1m\u001b[1;3mThought: Now that I have an understanding of the results, I need to understand the discussion and conclusion of the research.\n",
      "\n",
      "Action: Research Paper\n",
      "Action Input: {\"argument\": \"Discussion and Conclusion\"}\u001b[0m\n",
      "\n",
      "\u001b[1m> Entering new RetrievalQA chain...\u001b[0m\n",
      "\n",
      "\u001b[1m> Finished chain.\u001b[0m\n",
      "\u001b[95m \n",
      "\n",
      "{'query': 'Discussion and Conclusion', 'result': 'Here is a concise summary of the text:\\n\\nThe study investigates the electrical conductivity of a binary system composed of an apolar liquid and an alcohol. The results show that as the concentration of alcohol increases, ionization occurs, leading to an increase in electrical conductivity. The study proposes an exponential model to describe this behavior and finds that the length of the alcohol chain plays a fundamental role in the stability of the mixture. The study also suggests that the increase in electrical conductivity is due to the formation of molecular aggregates, which is supported by surface tension measurements. The results are in good agreement with literature values.'}\n",
      "\u001b[00m\n",
      "\u001b[32;1m\u001b[1;3mThought: Now that I have all the necessary information, I can compile the final report.\n",
      "\n",
      "Final Answer:\n",
      "\n",
      "**Characterization of Lubricants: Electrical Conductivity and Surface Tension**\n",
      "\n",
      "**Introduction**\n",
      "\n",
      "This thesis, titled \"Characterization of Lubricants: Electrical Conductivity and Surface Tension\", aims to study new lubricants for electric vehicles (EVs) and hybrid vehicles (HVs), which require different lubricant properties than traditional combustion vehicles. The study focuses on the electrical conductivity and surface tension of lubricants, with the goal of developing more suitable lubricants for EVs and HVs.\n",
      "\n",
      "**Methodology**\n",
      "\n",
      "The experimental procedure involves preparing solutions with different concentrations of alcohols (1-butanol, 1-hexanol, and 1-nonanol) and measuring their surface tension and electrical conductivity at 25°C. The measurements are taken using a tensiometer and a conductimeter, respectively. The equipment is carefully cleaned and prepared between measurements to ensure accurate results.\n",
      "\n",
      "**Results**\n",
      "\n",
      "The study investigates the electrical conductivity and surface tension of lubricants. The results show the dependence of conductivity on the content of alcohol used and are presented in a figure.\n",
      "\n",
      "**Discussion and Conclusion**\n",
      "\n",
      "The study finds that as the concentration of alcohol increases, ionization occurs, leading to an increase in electrical conductivity. An exponential model is proposed to describe this behavior, and it is found that the length of the alcohol chain plays a fundamental role in the stability of the mixture. The study suggests that the increase in electrical conductivity is due to the formation of molecular aggregates, which is supported by surface tension measurements. The results are in good agreement with literature values.\n",
      "\n",
      "This comprehensive report provides a thorough analysis of the research paper, covering the introduction, methodology, results, and discussion and conclusion sections.\u001b[0m\n",
      "\n",
      "\u001b[1m> Finished chain.\u001b[0m\n",
      "\u001b[1m\u001b[92m [DEBUG]: == [Physicist Researcher] Task output: **Characterization of Lubricants: Electrical Conductivity and Surface Tension**\n",
      "\n",
      "**Introduction**\n",
      "\n",
      "This thesis, titled \"Characterization of Lubricants: Electrical Conductivity and Surface Tension\", aims to study new lubricants for electric vehicles (EVs) and hybrid vehicles (HVs), which require different lubricant properties than traditional combustion vehicles. The study focuses on the electrical conductivity and surface tension of lubricants, with the goal of developing more suitable lubricants for EVs and HVs.\n",
      "\n",
      "**Methodology**\n",
      "\n",
      "The experimental procedure involves preparing solutions with different concentrations of alcohols (1-butanol, 1-hexanol, and 1-nonanol) and measuring their surface tension and electrical conductivity at 25°C. The measurements are taken using a tensiometer and a conductimeter, respectively. The equipment is carefully cleaned and prepared between measurements to ensure accurate results.\n",
      "\n",
      "**Results**\n",
      "\n",
      "The study investigates the electrical conductivity and surface tension of lubricants. The results show the dependence of conductivity on the content of alcohol used and are presented in a figure.\n",
      "\n",
      "**Discussion and Conclusion**\n",
      "\n",
      "The study finds that as the concentration of alcohol increases, ionization occurs, leading to an increase in electrical conductivity. An exponential model is proposed to describe this behavior, and it is found that the length of the alcohol chain plays a fundamental role in the stability of the mixture. The study suggests that the increase in electrical conductivity is due to the formation of molecular aggregates, which is supported by surface tension measurements. The results are in good agreement with literature values.\n",
      "\n",
      "This comprehensive report provides a thorough analysis of the research paper, covering the introduction, methodology, results, and discussion and conclusion sections.\n",
      "\n",
      "\u001b[00m\n",
      "\u001b[1m\u001b[95m [DEBUG]: == Working Agent: Physicist Writer\u001b[00m\n",
      "\u001b[1m\u001b[95m [INFO]: == Starting Task: Extract the most important topics and key components of the report\n",
      "                    developed by the Physicist Researcher.\u001b[00m\n",
      "\n",
      "\n",
      "\u001b[1m> Entering new CrewAgentExecutor chain...\u001b[0m\n",
      "\u001b[32;1m\u001b[1;3mI now can give a great answer.\n",
      "\n",
      "Final Answer:\n",
      "\n",
      "**Comprehensive Summary of Research Paper: Characterization of Lubricants: Electrical Conductivity and Surface Tension**\n",
      "\n",
      "**Introduction**\n",
      "\n",
      "The research paper \"Characterization of Lubricants: Electrical Conductivity and Surface Tension\" investigates the development of new lubricants for electric vehicles (EVs) and hybrid vehicles (HVs). The study focuses on the electrical conductivity and surface tension of lubricants, which are critical properties for EVs and HVs. The goal is to design more suitable lubricants for these vehicles, which require different lubricant properties than traditional combustion vehicles.\n",
      "\n",
      "**Methodology**\n",
      "\n",
      "The experimental procedure involves preparing solutions with varying concentrations of alcohols (1-butanol, 1-hexanol, and 1-nonanol) and measuring their surface tension and electrical conductivity at 25°C. A tensiometer and a conductimeter are used to take these measurements. To ensure accurate results, the equipment is carefully cleaned and prepared between measurements.\n",
      "\n",
      "**Results**\n",
      "\n",
      "The study examines the electrical conductivity and surface tension of lubricants. The results, presented in a figure, demonstrate the dependence of conductivity on the content of alcohol used. The findings show that as the concentration of alcohol increases, ionization occurs, leading to an increase in electrical conductivity.\n",
      "\n",
      "**Discussion and Conclusion**\n",
      "\n",
      "The study proposes an exponential model to describe the behavior of electrical conductivity. The length of the alcohol chain is found to play a fundamental role in the stability of the mixture. The increase in electrical conductivity is attributed to the formation of molecular aggregates, which is supported by surface tension measurements. The results are in good agreement with literature values. This research provides valuable insights into the development of lubricants for EVs and HVs, highlighting the importance of considering electrical conductivity and surface tension in lubricant design.\n",
      "\n",
      "**Key Findings and Implications**\n",
      "\n",
      "* The study demonstrates the dependence of electrical conductivity on the concentration of alcohol used in lubricants.\n",
      "* The length of the alcohol chain plays a critical role in the stability of the mixture.\n",
      "* The formation of molecular aggregates contributes to the increase in electrical conductivity.\n",
      "* The results have implications for the development of lubricants for electric vehicles and hybrid vehicles.\n",
      "\n",
      "**Recommendations and Future Directions**\n",
      "\n",
      "* Further research is needed to explore the effects of different alcohol concentrations on lubricant properties.\n",
      "* The study's findings can be used to inform the design of lubricants for EVs and HVs.\n",
      "* Future studies should investigate the impact of lubricant properties on EV and HV performance.\n",
      "\n",
      "This comprehensive summary provides a detailed overview of the research paper, covering the introduction, methodology, results, discussion, and conclusion. The report highlights the key findings, implications, and recommendations for future research, making it an invaluable resource for researchers and industry professionals in the field of lubricant development.\u001b[0m\n",
      "\n",
      "\u001b[1m> Finished chain.\u001b[0m\n",
      "\u001b[1m\u001b[92m [DEBUG]: == [Physicist Writer] Task output: **Comprehensive Summary of Research Paper: Characterization of Lubricants: Electrical Conductivity and Surface Tension**\n",
      "\n",
      "**Introduction**\n",
      "\n",
      "The research paper \"Characterization of Lubricants: Electrical Conductivity and Surface Tension\" investigates the development of new lubricants for electric vehicles (EVs) and hybrid vehicles (HVs). The study focuses on the electrical conductivity and surface tension of lubricants, which are critical properties for EVs and HVs. The goal is to design more suitable lubricants for these vehicles, which require different lubricant properties than traditional combustion vehicles.\n",
      "\n",
      "**Methodology**\n",
      "\n",
      "The experimental procedure involves preparing solutions with varying concentrations of alcohols (1-butanol, 1-hexanol, and 1-nonanol) and measuring their surface tension and electrical conductivity at 25°C. A tensiometer and a conductimeter are used to take these measurements. To ensure accurate results, the equipment is carefully cleaned and prepared between measurements.\n",
      "\n",
      "**Results**\n",
      "\n",
      "The study examines the electrical conductivity and surface tension of lubricants. The results, presented in a figure, demonstrate the dependence of conductivity on the content of alcohol used. The findings show that as the concentration of alcohol increases, ionization occurs, leading to an increase in electrical conductivity.\n",
      "\n",
      "**Discussion and Conclusion**\n",
      "\n",
      "The study proposes an exponential model to describe the behavior of electrical conductivity. The length of the alcohol chain is found to play a fundamental role in the stability of the mixture. The increase in electrical conductivity is attributed to the formation of molecular aggregates, which is supported by surface tension measurements. The results are in good agreement with literature values. This research provides valuable insights into the development of lubricants for EVs and HVs, highlighting the importance of considering electrical conductivity and surface tension in lubricant design.\n",
      "\n",
      "**Key Findings and Implications**\n",
      "\n",
      "* The study demonstrates the dependence of electrical conductivity on the concentration of alcohol used in lubricants.\n",
      "* The length of the alcohol chain plays a critical role in the stability of the mixture.\n",
      "* The formation of molecular aggregates contributes to the increase in electrical conductivity.\n",
      "* The results have implications for the development of lubricants for electric vehicles and hybrid vehicles.\n",
      "\n",
      "**Recommendations and Future Directions**\n",
      "\n",
      "* Further research is needed to explore the effects of different alcohol concentrations on lubricant properties.\n",
      "* The study's findings can be used to inform the design of lubricants for EVs and HVs.\n",
      "* Future studies should investigate the impact of lubricant properties on EV and HV performance.\n",
      "\n",
      "This comprehensive summary provides a detailed overview of the research paper, covering the introduction, methodology, results, discussion, and conclusion. The report highlights the key findings, implications, and recommendations for future research, making it an invaluable resource for researchers and industry professionals in the field of lubricant development.\n",
      "\n",
      "\u001b[00m\n"
     ]
    }
   ],
   "source": [
    "result = Crew.kickoff()"
   ]
  },
  {
   "cell_type": "code",
   "execution_count": null,
   "id": "ef70d164-10d1-48cc-a3b4-d4e4b47977d2",
   "metadata": {},
   "outputs": [],
   "source": []
  }
 ],
 "metadata": {
  "kernelspec": {
   "display_name": "Python 3 (ipykernel)",
   "language": "python",
   "name": "python3"
  },
  "language_info": {
   "codemirror_mode": {
    "name": "ipython",
    "version": 3
   },
   "file_extension": ".py",
   "mimetype": "text/x-python",
   "name": "python",
   "nbconvert_exporter": "python",
   "pygments_lexer": "ipython3",
   "version": "3.11.5"
  }
 },
 "nbformat": 4,
 "nbformat_minor": 5
}
