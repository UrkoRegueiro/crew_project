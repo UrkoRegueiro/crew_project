{
 "cells": [
  {
   "cell_type": "code",
   "execution_count": 1,
   "id": "644eedc7-62a8-425a-b226-e3241c3a6fca",
   "metadata": {},
   "outputs": [
    {
     "data": {
      "text/plain": [
       "True"
      ]
     },
     "execution_count": 1,
     "metadata": {},
     "output_type": "execute_result"
    }
   ],
   "source": [
    "from uuid import uuid4\n",
    "import os\n",
    "from dotenv import load_dotenv\n",
    "\n",
    "from langchain_community.document_loaders import PyPDFLoader\n",
    "from langchain.text_splitter import RecursiveCharacterTextSplitter\n",
    "from langchain_openai import OpenAIEmbeddings\n",
    "from langchain_groq import ChatGroq\n",
    "from langchain.vectorstores import Qdrant\n",
    "from langchain import hub\n",
    "from langchain.chains import RetrievalQA\n",
    "from langchain.prompts import PromptTemplate, ChatPromptTemplate\n",
    "from langchain.callbacks import StdOutCallbackHandler\n",
    "\n",
    "from qdrant_client import QdrantClient\n",
    "from qdrant_client.models import Distance, VectorParams\n",
    "from qdrant_client.models import PointStruct\n",
    "\n",
    "\n",
    "from crewai import Agent, Task, Crew\n",
    "from crewai_tools import BaseTool\n",
    "\n",
    "load_dotenv()"
   ]
  },
  {
   "cell_type": "markdown",
   "id": "e86daa54-982f-4a1f-9ad7-8d0b1b917125",
   "metadata": {},
   "source": [
    "## Cargo claves"
   ]
  },
  {
   "cell_type": "code",
   "execution_count": 2,
   "id": "e1c2fbda-af84-4ba3-90ff-167aedface97",
   "metadata": {},
   "outputs": [],
   "source": [
    "GROQ_API_KEY = os.getenv('GROQ_API_KEY')\n",
    "QDRANT_API_KEY = os.getenv('QDRANT_API_KEY')\n",
    "QDRANT_URL = os.getenv('QDRANT_URL')\n",
    "OPENAI_API_KEY = os.getenv('OPENAI_API_KEY')"
   ]
  },
  {
   "cell_type": "markdown",
   "id": "09eb3888-110c-40cf-8d2c-0cf458f9f640",
   "metadata": {},
   "source": [
    "## Carga y split de documentos"
   ]
  },
  {
   "cell_type": "code",
   "execution_count": 3,
   "id": "f5e46286-6b14-45d3-abf5-1fb9931e94fe",
   "metadata": {},
   "outputs": [],
   "source": [
    "def doc_loader(pdf):\n",
    "    pdf_loader = PyPDFLoader(pdf)\n",
    "    text_splitter = RecursiveCharacterTextSplitter(chunk_size= 1024, chunk_overlap= 100)\n",
    "    doc = pdf_loader.load_and_split(text_splitter)\n",
    "\n",
    "    return doc"
   ]
  },
  {
   "cell_type": "code",
   "execution_count": 4,
   "id": "21efc1f5-1338-4a14-b970-8f178b5e4c30",
   "metadata": {},
   "outputs": [],
   "source": [
    "doc = doc_loader(\"docs/tfg.pdf\")"
   ]
  },
  {
   "cell_type": "markdown",
   "id": "c8dac0e5-e8e1-4fe3-978c-427eeda080b8",
   "metadata": {},
   "source": [
    "## Almacenamiento en la VDB de Qdrant"
   ]
  },
  {
   "cell_type": "code",
   "execution_count": 5,
   "id": "cbcadc7d-6c08-4511-b816-1567f25408f4",
   "metadata": {},
   "outputs": [
    {
     "data": {
      "text/plain": [
       "True"
      ]
     },
     "execution_count": 5,
     "metadata": {},
     "output_type": "execute_result"
    }
   ],
   "source": [
    "# Creo una colección en la base de datos vectorial\n",
    "\n",
    "client = QdrantClient(url=QDRANT_URL,\n",
    "                      api_key=QDRANT_API_KEY\n",
    "                     )\n",
    "\n",
    "\n",
    "client.create_collection(collection_name=\"tfg\",\n",
    "                         vectors_config={\"content\": VectorParams(size=1536, distance=Distance.COSINE)}\n",
    "                        )"
   ]
  },
  {
   "cell_type": "code",
   "execution_count": 6,
   "id": "de9b284c-04ed-4fc6-b69e-500a5050ead5",
   "metadata": {},
   "outputs": [],
   "source": [
    "# Almaceno documentos en la base de datos vectorial:\n",
    "\n",
    "embedding = OpenAIEmbeddings()\n",
    "\n",
    "def chunked_metadata(doc, client=client, collection_name=\"tfg\"):\n",
    "\n",
    "    chunked_metadata = []\n",
    "\n",
    "    for item in doc:\n",
    "\n",
    "      id = str(uuid4())\n",
    "      content = item.page_content\n",
    "      source = item.metadata[\"source\"]\n",
    "      page = item.metadata[\"page\"]\n",
    "\n",
    "      content_vector = embedding.embed_documents([content])[0]\n",
    "      vector_dict = {\"content\": content_vector}\n",
    "\n",
    "      payload = {\"page_content\": content,\n",
    "                 \"metadata\": {\"id\": id,\n",
    "                              \"source\": source,\n",
    "                              \"page\": page,\n",
    "                             }\n",
    "                }\n",
    "\n",
    "\n",
    "      metadata = PointStruct(id=id, vector=vector_dict, payload=payload)\n",
    "      chunked_metadata.append(metadata)\n",
    "\n",
    "    client.upsert(collection_name=collection_name,\n",
    "                  wait=True,\n",
    "                  points=chunked_metadata)"
   ]
  },
  {
   "cell_type": "code",
   "execution_count": 7,
   "id": "8bd2ce66-6290-4b96-ad79-659f2b218abf",
   "metadata": {},
   "outputs": [],
   "source": [
    "chunked_metadata(doc)"
   ]
  },
  {
   "cell_type": "markdown",
   "id": "5fa8bc5b-2f9c-40c2-8ce1-a2d19db48a3a",
   "metadata": {},
   "source": [
    "### Reviso que colecciones tenemos en el cluster0:"
   ]
  },
  {
   "cell_type": "code",
   "execution_count": 5,
   "id": "fbfc0f6b-4c6e-4627-ab26-139a26f524a0",
   "metadata": {},
   "outputs": [
    {
     "ename": "NameError",
     "evalue": "name 'client' is not defined",
     "output_type": "error",
     "traceback": [
      "\u001b[1;31m---------------------------------------------------------------------------\u001b[0m",
      "\u001b[1;31mNameError\u001b[0m                                 Traceback (most recent call last)",
      "Cell \u001b[1;32mIn[5], line 1\u001b[0m\n\u001b[1;32m----> 1\u001b[0m client\u001b[38;5;241m.\u001b[39mget_collections()\n",
      "\u001b[1;31mNameError\u001b[0m: name 'client' is not defined"
     ]
    }
   ],
   "source": [
    "client.get_collections()"
   ]
  },
  {
   "cell_type": "code",
   "execution_count": 42,
   "id": "a41e5fef-7e09-45b7-a013-bb5ab4f91233",
   "metadata": {},
   "outputs": [
    {
     "name": "stdout",
     "output_type": "stream",
     "text": [
      "Points: 113 \n"
     ]
    }
   ],
   "source": [
    "attention_collection = client.get_collection(\"tfg\")\n",
    "\n",
    "print(f\"Points: {attention_collection.points_count} \")"
   ]
  },
  {
   "cell_type": "code",
   "execution_count": 8,
   "id": "94c58dc3-82b7-4c5a-ba2f-f7ab2bc143bd",
   "metadata": {},
   "outputs": [
    {
     "data": {
      "text/plain": [
       "[ScoredPoint(id='0b349987-b9c8-4f9f-8795-b28ddbf8a430', version=0, score=0.7982359, payload={'page_content': 'para su archivo, consulta y empleo para usos académicos y de investigación con la\\nmención específica al autor.\\nEn Santiago de Compostela, a 6 de Febrero de 2023. Firmado,'}, vector=None, shard_key=None),\n",
       " ScoredPoint(id='b121feff-8762-492d-a0df-82223ed98710', version=0, score=0.7963041, payload={'page_content': '1. Introducción\\nEn la actualidad se hace necesaria una transición energética hacia la electrifica-\\nción debido a la urgencia de reducir las emisiones de CO2y la escasez, cada vez\\nmayor, de los combustibles fósiles. En el ámbito de la automoción, la industria es-\\ntá tratando de sustituir los vehículos de combustión (VCs) convencionales por una\\nnueva generación de vehículos eléctricos (VEs) e híbridos (VHs) con el objetivo de\\nreducir los gases de efecto invernadero.\\nComo en toda maquinaria, los lubricantes juegan un papel fundamental en la\\nvida útil de sus componentes, reduciendo la fricción, protegiéndolos de la corro-\\nsión y trasfiriendo el calor generado. Los nuevos VEs y VHs, a diferencia de los\\nVCs, contienen una mayor cantidad de componentes electrónicos en su sistema de\\npropulsión eléctrico y, sin embargo, estos siguen utilizando lubricantes de automo-\\nción convencionales. Se hace necesario por tanto, el estudio de nuevos lubricantes'}, vector=None, shard_key=None),\n",
       " ScoredPoint(id='d84738fa-5d30-4f25-9c09-9e91778c8513', version=0, score=0.79592705, payload={'page_content': 'FACULTAD DE FÍSICA\\nGRAO EN FÍSICA\\nCurso 2022-23\\nTRABAJO DE FIN DE GRADO\\nCARACTERIZACIÓN DE LUBRICANTES:CONDUCTIVIDAD ELÉCTRICA Y TENSIÓNSUPERFICIAL\\nAutor:\\nUrko Regueiro Ramos\\nTutor:\\nAlfredo José Amigo Pombo\\nDepartamento de Física Aplicada\\nCotutor:\\nÓscar Giner Rajala\\nDepartamento de Física Aplicada\\nFebrero 2023\\nO autor autoriza a consulta e emprego desta memoria para uso académico e de investigación (autorización detallada nas páxinas interiores).'}, vector=None, shard_key=None),\n",
       " ScoredPoint(id='aeea2ae5-4a06-4166-9283-935039f61474', version=0, score=0.7929298, payload={'page_content': 'Facultad de Física\\nGrado en Física\\nCurso 2022-23\\nTRABAJO DE FIN DE GRADO\\nCARACTERIZACIÓN DE LUBRICANTES: CONDUCTIVIDAD ELÉCTRICA Y TEN-\\nSIÓN SUPERFICIAL\\nAutor: Urko Regueiro Ramos\\nTutor: Alfredo José Amigo Pombo ,Departamento de Física Aplicada\\nCotutor: Óscar Giner Rajala ,Departamento de Física Aplicada\\nFecha de presentación: Febrero 2023'}, vector=None, shard_key=None),\n",
       " ScoredPoint(id='67250a15-aa36-422f-b70d-9c23070f687b', version=0, score=0.7907448, payload={'page_content': 'Los agregados moleculares son estructuras compuestas por moléculas de un\\nsurfactante. Cuando se añade un surfactante a un aceite, la parte polar de sus mo-\\nléculas se desplazará a la superficie para evitar el contacto con este. Si se aumenta\\nsu concentración, las moléculas empezaran a ocupar toda la superficie disponible\\nhasta saturarla. Cuando la concentración de surfactante sobrepasa este punto críti-\\nco, conocido como concentración micelar crítica (CMC), las moléculas empiezan a\\nagruparse formando estructuras en seno de la mezcla, como se ilustra en la Figura\\n4, que les permiten aislar sus partes polares del aceite.\\n4'}, vector=None, shard_key=None)]"
      ]
     },
     "execution_count": 8,
     "metadata": {},
     "output_type": "execute_result"
    }
   ],
   "source": [
    "# Hagamos una busqueda para ver que documentos son más similares\n",
    "\n",
    "client.search(\n",
    "    collection_name=\"tfg\",\n",
    "    query_vector=(\"content\", embedding.embed_documents([\"resumen\"])[0]),\n",
    "    with_payload=[\"page_content\", \"source\"],\n",
    "    limit=5\n",
    ")"
   ]
  },
  {
   "cell_type": "markdown",
   "id": "fb76ee48-b5db-4fa0-8467-daadb61d48bf",
   "metadata": {},
   "source": [
    "## Inicializar la base de datos vectorial"
   ]
  },
  {
   "cell_type": "code",
   "execution_count": 3,
   "id": "a5f994f1-9ca4-4efa-a90f-d1f08c5baae6",
   "metadata": {},
   "outputs": [],
   "source": [
    "# Initialize vector store\n",
    "client = QdrantClient(url=QDRANT_URL,\n",
    "                      api_key=QDRANT_API_KEY\n",
    "                     )\n",
    "\n",
    "embedding = OpenAIEmbeddings()\n",
    "\n",
    "vectorstore = Qdrant(client=client,\n",
    "                     collection_name=\"tfg\",\n",
    "                     embeddings=embedding,\n",
    "                     vector_name=\"content\")"
   ]
  },
  {
   "cell_type": "code",
   "execution_count": 49,
   "id": "1be8261a-2d13-417d-bb7f-e6482d8221d0",
   "metadata": {},
   "outputs": [],
   "source": [
    "# Downlad prompt template\n",
    "\n",
    "rag_prompt = hub.pull(\"rlm/rag-prompt\")"
   ]
  },
  {
   "cell_type": "code",
   "execution_count": 64,
   "id": "9a6e6438-5566-45cc-87b0-a739f9202c6e",
   "metadata": {},
   "outputs": [
    {
     "data": {
      "text/plain": [
       "\"You are an assistant for question-answering tasks. Use the following pieces of retrieved context to answer the question. If you don't know the answer, just say that you don't know. Use four sentences maximum and keep the answer concise.\\nQuestion: {question} \\nContext: {context} \\nAnswer:\""
      ]
     },
     "execution_count": 64,
     "metadata": {},
     "output_type": "execute_result"
    }
   ],
   "source": [
    "rag_prompt.messages[0].prompt.template"
   ]
  },
  {
   "cell_type": "code",
   "execution_count": 6,
   "id": "034fd793-6688-4995-affe-0dd6dc4db0ea",
   "metadata": {},
   "outputs": [],
   "source": [
    "template = '''\n",
    "You are an assistant for question-answering tasks. \\\n",
    "Use the following pieces of retrieved context to answer the question. \\\n",
    "If you don't know the answer, just say that you don't know. \\\n",
    "Question: {question} \n",
    "Context: {context}\n",
    "Answer:\n",
    "'''"
   ]
  },
  {
   "cell_type": "markdown",
   "id": "3d9828c8-387d-48a2-a666-4b04d0d1c506",
   "metadata": {},
   "source": [
    "## RAG Pipeline"
   ]
  },
  {
   "cell_type": "code",
   "execution_count": 46,
   "id": "f4ba8769-e3c8-48c0-aed3-5a972eaf2ea3",
   "metadata": {},
   "outputs": [],
   "source": [
    "rag_prompt = ChatPromptTemplate.from_template(template)"
   ]
  },
  {
   "cell_type": "code",
   "execution_count": 5,
   "id": "5fae6637-fa07-4f28-a80b-75cfd77e4a47",
   "metadata": {},
   "outputs": [],
   "source": [
    "handler = StdOutCallbackHandler()\n",
    "retriever = vectorstore.as_retriever()\n",
    "\n",
    "llm = ChatGroq(model=\"llama3-70b-8192\",\n",
    "               groq_api_key= GROQ_API_KEY)\n",
    "\n",
    "# Retrieval qa chain\n",
    "qa_chain = RetrievalQA.from_chain_type(llm=llm,\n",
    "                                       chain_type=\"stuff\",\n",
    "                                       callbacks=[handler],\n",
    "                                       retriever=retriever)"
   ]
  },
  {
   "cell_type": "code",
   "execution_count": 7,
   "id": "d1b5ef26-6698-4df0-b5b0-0bfeb05de5a2",
   "metadata": {},
   "outputs": [
    {
     "name": "stdout",
     "output_type": "stream",
     "text": [
      "\n",
      "\n",
      "\u001b[1m> Entering new RetrievalQA chain...\u001b[0m\n",
      "\n",
      "\u001b[1m> Finished chain.\u001b[0m\n"
     ]
    },
    {
     "data": {
      "text/plain": [
       "'Aunque no hay un resumen explícito en el texto, se puede inferir que el estudio se enfoca en la caracterización de lubricantes, específicamente en la relación entre la longitud de la cadena del alcohol y la conductividad eléctrica y la tensión superficial. El estudio encontró que la longitud de la cadena del alcohol juega un papel fundamental en la estabilidad de la mezcla y que el aumento de la conductividad eléctrica se debe a la formación de agregados moleculares.'"
      ]
     },
     "execution_count": 7,
     "metadata": {},
     "output_type": "execute_result"
    }
   ],
   "source": [
    "# Invoke qa_chain gpt-3.5-turbo\n",
    "\n",
    "qa_chain.invoke({\"query\": \"Cual es el resumen del estudio?\"})[\"result\"]"
   ]
  },
  {
   "cell_type": "code",
   "execution_count": 73,
   "id": "4b955500-950f-4098-b34e-21456e0ed18d",
   "metadata": {},
   "outputs": [
    {
     "name": "stdout",
     "output_type": "stream",
     "text": [
      "\n",
      "\n",
      "\u001b[1m> Entering new RetrievalQA chain...\u001b[0m\n",
      "\n",
      "\u001b[1m> Finished chain.\u001b[0m\n"
     ]
    },
    {
     "data": {
      "text/plain": [
       "'Según el texto, los resultados obtenidos de la conductividad eléctrica son:\\n\\n* La conductividad eléctrica aumenta con la concentración de alcohol en la mezcla.\\n* La longitud de la cadena del alcohol juega un papel fundamental en la estabilidad de la mezcla, y se obtienen mejores resultados con alcoholes de cadena larga.\\n* La conductividad eléctrica es mayor en la mezcla de 1-Nonanol que en otras mezclas.\\n* La medida de la conductividad eléctrica puede ser poco certera debido a la inestabilidad de los agregados que se forman en la disolución.\\n\\nNo se mencionan otros resultados específicos de la conductividad eléctrica, pero se habla de la importancia de la longitud de la cadena del alcohol y la concentración de alcohol en la mezcla.'"
      ]
     },
     "execution_count": 73,
     "metadata": {},
     "output_type": "execute_result"
    }
   ],
   "source": [
    "qa_chain.invoke({\"query\": \"Que resultados se obtienen de la conductividad electrica\"})[\"result\"]"
   ]
  },
  {
   "cell_type": "code",
   "execution_count": 16,
   "id": "3aaa598c-5a21-4041-b59d-d9088c8bdfb1",
   "metadata": {},
   "outputs": [
    {
     "name": "stdout",
     "output_type": "stream",
     "text": [
      "\n",
      "\n",
      "\u001b[1m> Entering new RetrievalQA chain...\u001b[0m\n",
      "\n",
      "\u001b[1m> Finished chain.\u001b[0m\n"
     ]
    },
    {
     "data": {
      "text/plain": [
       "{'query': 'Can you analyze the research paper?',\n",
       " 'result': \"I'd be happy to try! However, I need more information about what you would like me to analyze. \\n\\nThe references provided appear to be a list of citations from a research paper, but without the actual paper, it's challenging to provide a comprehensive analysis.\\n\\nCould you please provide more context or clarify what specifically you would like me to analyze? For example, are you looking for an analysis of the methodology, results, conclusions, or something else? Additionally, do you have access to the full paper, and if so, can you share it with me?\"}"
      ]
     },
     "execution_count": 16,
     "metadata": {},
     "output_type": "execute_result"
    }
   ],
   "source": [
    "qa_chain.invoke(\"Can you analyze the research paper?\")"
   ]
  },
  {
   "cell_type": "code",
   "execution_count": 7,
   "id": "ad6a8392-9529-4d44-a410-240800de8b6a",
   "metadata": {},
   "outputs": [
    {
     "data": {
      "text/plain": [
       "PromptTemplate(input_variables=['question'], template='{question}')"
      ]
     },
     "execution_count": 7,
     "metadata": {},
     "output_type": "execute_result"
    }
   ],
   "source": [
    "qa_chain.combine_documents_chain.llm_chain.prompt.messages[1].prompt"
   ]
  },
  {
   "cell_type": "code",
   "execution_count": 5,
   "id": "efa4711b-91f3-40e2-af3e-87480a4578f1",
   "metadata": {},
   "outputs": [],
   "source": [
    "# Create custom tool to use the vector store\n",
    "\n",
    "class MyCustomTool(BaseTool):\n",
    "    name: str = \"Research Paper searcher\"\n",
    "    description: str = \"A tool used to ask questions about the research paper.\"\n",
    "\n",
    "    def _run(self, argument: str):\n",
    "\n",
    "        if argument == \"string\":\n",
    "            return qa_chain.invoke(\"What is the abstract of the paper?\")\n",
    "        else:\n",
    "            return qa_chain.invoke(argument)\n",
    "\n",
    "tool_instance = MyCustomTool()"
   ]
  },
  {
   "cell_type": "code",
   "execution_count": 6,
   "id": "e0350e05-134d-41dc-8512-b37225744b15",
   "metadata": {},
   "outputs": [],
   "source": [
    "### RESEARCHER ###\n",
    "\n",
    "# Agent\n",
    "reasarcher = Agent(\n",
    "    role=\"Physicist Researcher\",\n",
    "    goal='Understand all sections of the research paper making the apropiate questions and extract the important information',\n",
    "    backstory=\"\"\"You work investigating at the Physics department of the university.\n",
    "                  A new paper has been published and you need to extract\n",
    "                  the main information and provide the information to\n",
    "                  your co-workers.You have a knack for dissecting complex\n",
    "                  research papers\"\"\",\n",
    "    verbose=True,\n",
    "    llm= llm,\n",
    "    tools=[tool_instance],\n",
    "    allow_delegation=False\n",
    "    )\n",
    "\n",
    "\n",
    "# Tasks\n",
    "task_research = Task(\n",
    "    description=\"\"\"Conduct an in-depth analysis of the published research paper, making questions that helps you understand the research paper\"\"\",\n",
    "    expected_output=\"\"\"Your final answer must be a full analysis report of the research paper\"\"\",\n",
    "    agent=reasarcher,\n",
    "    output_file='researcher_analysis.md' \n",
    "\n",
    ")\n",
    "\n",
    "\n",
    "### WRITER ###\n",
    "\n",
    "# Agent\n",
    "writer = Agent(\n",
    "    role=\"Physicist Writer\",\n",
    "    goal= 'Craft a detailed report to present to your co-workers',\n",
    "    backstory=\"\"\"You are working on writing a detailed summary of a research paper.\n",
    "                  Use the content of the Physicist Researcher to develop\n",
    "                  a comprehensive summary of the research paper\"\"\",\n",
    "    verbose=True,\n",
    "    llm= llm,\n",
    "    allow_delegation=False,\n",
    ")\n",
    "\n",
    "# Tasks\n",
    "task_writer = Task(\n",
    "    description=\"\"\"Extract the most important topics and key components of the report\n",
    "                    developed by the Physicist Researcher.\"\"\",\n",
    "    expected_output=\"\"\"Your final answer must be a summary \n",
    "                        to understand report for your co-workers\"\"\",\n",
    "    agent=writer,\n",
    "    output_file='writer_summary.md' \n",
    "\n",
    ")\n",
    "\n",
    "# CREWAI KICKOFF\n",
    "\n",
    "Crew = Crew(agents=[reasarcher, writer],\n",
    "            tasks=[task_research, task_writer],\n",
    "            verbose=99)"
   ]
  },
  {
   "cell_type": "code",
   "execution_count": null,
   "id": "69554ea5-934e-4fc1-9d4c-b5fba4135992",
   "metadata": {},
   "outputs": [],
   "source": [
    "result = Crew.kickoff()"
   ]
  },
  {
   "cell_type": "code",
   "execution_count": null,
   "id": "ef70d164-10d1-48cc-a3b4-d4e4b47977d2",
   "metadata": {},
   "outputs": [],
   "source": []
  }
 ],
 "metadata": {
  "kernelspec": {
   "display_name": "Python 3 (ipykernel)",
   "language": "python",
   "name": "python3"
  },
  "language_info": {
   "codemirror_mode": {
    "name": "ipython",
    "version": 3
   },
   "file_extension": ".py",
   "mimetype": "text/x-python",
   "name": "python",
   "nbconvert_exporter": "python",
   "pygments_lexer": "ipython3",
   "version": "3.11.5"
  }
 },
 "nbformat": 4,
 "nbformat_minor": 5
}
