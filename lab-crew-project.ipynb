{
 "cells": [
  {
   "cell_type": "code",
   "execution_count": 1,
   "id": "644eedc7-62a8-425a-b226-e3241c3a6fca",
   "metadata": {},
   "outputs": [
    {
     "data": {
      "text/plain": [
       "True"
      ]
     },
     "execution_count": 1,
     "metadata": {},
     "output_type": "execute_result"
    }
   ],
   "source": [
    "from uuid import uuid4\n",
    "import os\n",
    "from dotenv import load_dotenv\n",
    "import pprint\n",
    "import json\n",
    "from datetime import datetime, timedelta, timezone\n",
    "\n",
    "from langchain_community.document_loaders import PyPDFLoader\n",
    "from langchain.text_splitter import RecursiveCharacterTextSplitter\n",
    "from langchain_openai import OpenAIEmbeddings\n",
    "from langchain_groq import ChatGroq\n",
    "from langchain.vectorstores import Qdrant\n",
    "from langchain import hub\n",
    "from langchain.chains import RetrievalQA\n",
    "from langchain.prompts import PromptTemplate, ChatPromptTemplate\n",
    "from langchain.callbacks import StdOutCallbackHandler\n",
    "\n",
    "from langchain_core.load import dumpd, dumps, load, loads\n",
    "\n",
    "\n",
    "#Youtube API\n",
    "from googleapiclient.discovery import build\n",
    "\n",
    "# Youtube transcript\n",
    "from langchain.document_loaders import YoutubeLoader\n",
    "from langchain.chains.summarize import load_summarize_chain\n",
    "from langchain.chains.llm import LLMChain\n",
    "from langchain.chains.combine_documents.stuff import StuffDocumentsChain\n",
    "from langchain.chains import MapReduceDocumentsChain, ReduceDocumentsChain\n",
    "\n",
    "\n",
    "# Vectorial DB\n",
    "from qdrant_client import QdrantClient\n",
    "from qdrant_client.models import Distance, VectorParams\n",
    "from qdrant_client.models import PointStruct\n",
    "\n",
    "\n",
    "# CrewAI\n",
    "from crewai import Agent, Task, Crew\n",
    "from crewai_tools import BaseTool\n",
    "\n",
    "# Email\n",
    "import smtplib\n",
    "\n",
    "load_dotenv()"
   ]
  },
  {
   "cell_type": "code",
   "execution_count": 22,
   "id": "c13d04c1-f3bf-4cbd-8207-49dedf8698a3",
   "metadata": {
    "collapsed": true,
    "jupyter": {
     "outputs_hidden": true
    }
   },
   "outputs": [
    {
     "name": "stdout",
     "output_type": "stream",
     "text": [
      "Package                                  Version\n",
      "---------------------------------------- ---------------\n",
      "absl-py                                  2.0.0\n",
      "aiofiles                                 22.1.0\n",
      "aiohttp                                  3.9.5\n",
      "aiosignal                                1.3.1\n",
      "aiosqlite                                0.18.0\n",
      "alembic                                  1.13.1\n",
      "anaconda-anon-usage                      0.4.2\n",
      "anaconda-catalogs                        0.2.0\n",
      "anaconda-client                          1.12.1\n",
      "anaconda-cloud-auth                      0.1.4\n",
      "anaconda-navigator                       2.5.0\n",
      "anaconda-project                         0.11.1\n",
      "annotated-types                          0.6.0\n",
      "anyio                                    4.3.0\n",
      "appdirs                                  1.4.4\n",
      "archspec                                 0.2.1\n",
      "argon2-cffi                              21.3.0\n",
      "argon2-cffi-bindings                     21.2.0\n",
      "asgiref                                  3.8.1\n",
      "asttokens                                2.0.5\n",
      "astunparse                               1.6.3\n",
      "async-lru                                2.0.4\n",
      "async-timeout                            4.0.2\n",
      "attrs                                    23.2.0\n",
      "Babel                                    2.11.0\n",
      "backcall                                 0.2.0\n",
      "backoff                                  2.2.1\n",
      "backports.functools-lru-cache            1.6.4\n",
      "backports.tempfile                       1.0\n",
      "backports.weakref                        1.0.post1\n",
      "bcrypt                                   4.1.2\n",
      "beautifulsoup4                           4.12.3\n",
      "bleach                                   4.1.0\n",
      "bokeh                                    3.3.0\n",
      "boltons                                  23.0.0\n",
      "Bottleneck                               1.3.7\n",
      "bqplot                                   0.12.42\n",
      "branca                                   0.6.0\n",
      "Brotli                                   1.0.9\n",
      "build                                    1.2.1\n",
      "cachetools                               5.3.2\n",
      "certifi                                  2024.2.2\n",
      "cffi                                     1.15.1\n",
      "chardet                                  4.0.0\n",
      "charset-normalizer                       3.3.2\n",
      "chroma-hnswlib                           0.7.3\n",
      "chromadb                                 0.4.24\n",
      "circlify                                 0.15.0\n",
      "click                                    8.1.7\n",
      "click-plugins                            1.1.1\n",
      "cligj                                    0.7.2\n",
      "cloudpickle                              2.2.1\n",
      "clyent                                   1.2.2\n",
      "colorama                                 0.4.6\n",
      "coloredlogs                              15.0.1\n",
      "colour                                   0.1.5\n",
      "comm                                     0.2.1\n",
      "conda                                    23.9.0\n",
      "conda-build                              3.27.0\n",
      "conda-content-trust                      0.2.0\n",
      "conda_index                              0.3.0\n",
      "conda-libmamba-solver                    23.7.0\n",
      "conda-pack                               0.6.0\n",
      "conda-package-handling                   2.2.0\n",
      "conda_package_streaming                  0.9.0\n",
      "conda-repo-cli                           1.0.75\n",
      "conda-token                              0.4.0\n",
      "conda-verify                             3.4.2\n",
      "contextlib2                              21.6.0\n",
      "contourpy                                1.0.5\n",
      "crewai                                   0.28.8\n",
      "crewai-tools                             0.1.7\n",
      "cryptography                             41.0.3\n",
      "cycler                                   0.11.0\n",
      "cytoolz                                  0.12.0\n",
      "dask                                     2023.6.0\n",
      "dataclasses-json                         0.6.5\n",
      "debugpy                                  1.6.7\n",
      "decorator                                5.1.1\n",
      "defusedxml                               0.7.1\n",
      "Deprecated                               1.2.14\n",
      "deprecation                              2.1.0\n",
      "dirtyjson                                1.0.8\n",
      "distributed                              2023.6.0\n",
      "distro                                   1.9.0\n",
      "dm-tree                                  0.1.8\n",
      "docstring-parser                         0.15\n",
      "docx2txt                                 0.8\n",
      "duckdb                                   0.10.0\n",
      "embedchain                               0.1.100\n",
      "entrypoints                              0.4\n",
      "et-xmlfile                               1.1.0\n",
      "executing                                0.8.3\n",
      "fake-useragent                           1.3.0\n",
      "fastapi                                  0.110.0\n",
      "fastjsonschema                           2.16.2\n",
      "filelock                                 3.9.0\n",
      "findspark                                2.0.1\n",
      "fiona                                    1.9.5\n",
      "flatbuffers                              23.5.26\n",
      "folium                                   0.14.0\n",
      "fonttools                                4.25.0\n",
      "frozenlist                               1.4.1\n",
      "fsspec                                   2024.3.1\n",
      "future                                   0.18.3\n",
      "gast                                     0.5.4\n",
      "gdown                                    5.1.0\n",
      "geographiclib                            1.52\n",
      "geojson                                  3.1.0\n",
      "geopandas                                0.14.3\n",
      "geopy                                    2.4.0\n",
      "gitdb                                    4.0.11\n",
      "GitPython                                3.1.43\n",
      "google-api-core                          2.18.0\n",
      "google-api-python-client                 2.140.0\n",
      "google-auth                              2.29.0\n",
      "google-auth-httplib2                     0.2.0\n",
      "google-auth-oauthlib                     1.2.0\n",
      "google-cloud-aiplatform                  1.47.0\n",
      "google-cloud-bigquery                    3.20.1\n",
      "google-cloud-core                        2.4.1\n",
      "google-cloud-resource-manager            1.12.3\n",
      "google-cloud-storage                     2.16.0\n",
      "google-crc32c                            1.5.0\n",
      "google-pasta                             0.2.0\n",
      "google-resumable-media                   2.7.0\n",
      "googleapis-common-protos                 1.63.0\n",
      "googlemaps                               2.5.1\n",
      "gptcache                                 0.1.43\n",
      "graphviz                                 0.20.1\n",
      "greenlet                                 3.0.3\n",
      "groq                                     0.6.0\n",
      "grpc-google-iam-v1                       0.13.0\n",
      "grpcio                                   1.64.0\n",
      "grpcio-status                            1.62.1\n",
      "grpcio-tools                             1.64.0\n",
      "h11                                      0.14.0\n",
      "h2                                       4.1.0\n",
      "h5py                                     3.10.0\n",
      "HeapDict                                 1.0.1\n",
      "hpack                                    4.0.0\n",
      "httpcore                                 1.0.5\n",
      "httplib2                                 0.22.0\n",
      "httptools                                0.6.1\n",
      "httpx                                    0.27.0\n",
      "huggingface-hub                          0.22.2\n",
      "humanfriendly                            10.0\n",
      "hyperframe                               6.0.1\n",
      "idna                                     3.7\n",
      "imbalanced-learn                         0.11.0\n",
      "imblearn                                 0.0\n",
      "importlib-metadata                       6.0.0\n",
      "importlib_resources                      6.4.0\n",
      "iniconfig                                2.0.0\n",
      "instructor                               0.5.2\n",
      "intake                                   0.6.8\n",
      "intel-openmp                             2021.4.0\n",
      "ipyevents                                2.0.2\n",
      "ipyfilechooser                           0.6.0\n",
      "ipykernel                                6.25.0\n",
      "ipyleaflet                               0.18.2\n",
      "ipynb                                    0.5.1\n",
      "ipython                                  8.15.0\n",
      "ipython-genutils                         0.2.0\n",
      "ipytree                                  0.2.2\n",
      "ipywidgets                               8.1.1\n",
      "jaraco.classes                           3.2.1\n",
      "jedi                                     0.18.1\n",
      "Jinja2                                   3.1.2\n",
      "joblib                                   1.4.2\n",
      "joypy                                    0.2.6\n",
      "json5                                    0.9.6\n",
      "jsonpatch                                1.33\n",
      "jsonpointer                              2.1\n",
      "jsonschema                               4.19.2\n",
      "jsonschema-specifications                2023.12.1\n",
      "jupyter_client                           7.4.9\n",
      "jupyter_core                             5.3.0\n",
      "jupyter-events                           0.6.3\n",
      "jupyter-lsp                              2.2.0\n",
      "jupyter_server                           2.10.0\n",
      "jupyter_server_fileid                    0.9.0\n",
      "jupyter_server_terminals                 0.4.4\n",
      "jupyter_server_ydoc                      0.8.0\n",
      "jupyter-ydoc                             0.2.4\n",
      "jupyterlab                               4.0.11\n",
      "jupyterlab-pygments                      0.1.2\n",
      "jupyterlab_server                        2.25.1\n",
      "jupyterlab-widgets                       3.0.9\n",
      "keras                                    2.15.0\n",
      "keyring                                  23.13.1\n",
      "kiwisolver                               1.4.4\n",
      "kor                                      1.0.0\n",
      "kubernetes                               29.0.0\n",
      "lancedb                                  0.5.7\n",
      "langchain                                0.1.16\n",
      "langchain-community                      0.0.32\n",
      "langchain-core                           0.1.52\n",
      "langchain-groq                           0.1.4\n",
      "langchain-openai                         0.0.5\n",
      "langchain-text-splitters                 0.0.1\n",
      "langchainhub                             0.1.16\n",
      "langdetect                               1.0.9\n",
      "langsmith                                0.1.47\n",
      "leafmap                                  0.31.2\n",
      "libarchive-c                             2.9\n",
      "libclang                                 16.0.6\n",
      "libmambapy                               1.5.1\n",
      "llama-index                              0.10.35\n",
      "llama-index-agent-openai                 0.2.4\n",
      "llama-index-cli                          0.1.12\n",
      "llama-index-core                         0.10.35.post1\n",
      "llama-index-embeddings-openai            0.1.9\n",
      "llama-index-indices-managed-llama-cloud  0.1.6\n",
      "llama-index-legacy                       0.9.48\n",
      "llama-index-llms-openai                  0.1.18\n",
      "llama-index-multi-modal-llms-openai      0.1.5\n",
      "llama-index-program-openai               0.1.6\n",
      "llama-index-question-gen-openai          0.1.3\n",
      "llama-index-readers-file                 0.1.22\n",
      "llama-index-readers-llama-parse          0.1.4\n",
      "llama-parse                              0.4.2\n",
      "llamaindex-py-client                     0.1.19\n",
      "lmdb                                     1.4.1\n",
      "locket                                   1.0.0\n",
      "lxml                                     4.9.3\n",
      "lz4                                      4.3.2\n",
      "Mako                                     1.3.3\n",
      "Markdown                                 3.5.1\n",
      "markdown-it-py                           3.0.0\n",
      "MarkupSafe                               2.1.1\n",
      "marshmallow                              3.21.2\n",
      "matplotlib                               3.7.2\n",
      "matplotlib-inline                        0.1.6\n",
      "mdurl                                    0.1.2\n",
      "menuinst                                 1.4.19\n",
      "mistune                                  0.8.4\n",
      "mkl                                      2021.4.0\n",
      "mkl-fft                                  1.3.8\n",
      "mkl-random                               1.2.4\n",
      "mkl-service                              2.4.0\n",
      "ml-dtypes                                0.2.0\n",
      "mmh3                                     4.1.0\n",
      "monotonic                                1.6\n",
      "more-itertools                           8.12.0\n",
      "mpmath                                   1.3.0\n",
      "msgpack                                  1.0.3\n",
      "multidict                                6.0.5\n",
      "multipledispatch                         1.0.0\n",
      "munkres                                  1.1.4\n",
      "mutagen                                  1.47.0\n",
      "mypy-extensions                          1.0.0\n",
      "mysql-connector-python                   8.2.0\n",
      "namex                                    0.0.7\n",
      "navigator-updater                        0.4.0\n",
      "nbclassic                                0.5.5\n",
      "nbclient                                 0.5.13\n",
      "nbconvert                                6.5.4\n",
      "nbformat                                 5.9.2\n",
      "nbimporter                               0.3.4\n",
      "nest-asyncio                             1.6.0\n",
      "networkx                                 3.3\n",
      "nltk                                     3.8.1\n",
      "nodeenv                                  1.8.0\n",
      "notebook                                 7.0.8\n",
      "notebook_shim                            0.2.2\n",
      "numexpr                                  2.8.7\n",
      "numpy                                    1.26.4\n",
      "oauthlib                                 3.2.2\n",
      "onnxruntime                              1.17.1\n",
      "openai                                   1.27.0\n",
      "opencv-python                            4.8.1.78\n",
      "openpyxl                                 3.0.10\n",
      "opentelemetry-api                        1.24.0\n",
      "opentelemetry-exporter-otlp-proto-common 1.24.0\n",
      "opentelemetry-exporter-otlp-proto-grpc   1.24.0\n",
      "opentelemetry-exporter-otlp-proto-http   1.24.0\n",
      "opentelemetry-instrumentation            0.45b0\n",
      "opentelemetry-instrumentation-asgi       0.45b0\n",
      "opentelemetry-instrumentation-fastapi    0.45b0\n",
      "opentelemetry-proto                      1.24.0\n",
      "opentelemetry-sdk                        1.24.0\n",
      "opentelemetry-semantic-conventions       0.45b0\n",
      "opentelemetry-util-http                  0.45b0\n",
      "opt-einsum                               3.3.0\n",
      "orjson                                   3.10.0\n",
      "outcome                                  1.3.0.post0\n",
      "overrides                                7.4.0\n",
      "packaging                                23.2\n",
      "pandas                                   1.5.3\n",
      "pandocfilters                            1.5.0\n",
      "parso                                    0.8.3\n",
      "partd                                    1.4.0\n",
      "pathlib                                  1.0.1\n",
      "patsy                                    0.5.3\n",
      "pickleshare                              0.7.5\n",
      "pillow                                   10.3.0\n",
      "pip                                      23.2.1\n",
      "pkce                                     1.0.3\n",
      "pkginfo                                  1.9.6\n",
      "platformdirs                             3.10.0\n",
      "plotly                                   5.17.0\n",
      "plotly-express                           0.4.1\n",
      "pluggy                                   1.5.0\n",
      "ply                                      3.11\n",
      "portalocker                              2.8.2\n",
      "posthog                                  3.5.0\n",
      "prometheus-client                        0.14.1\n",
      "prompt-toolkit                           3.0.36\n",
      "proto-plus                               1.23.0\n",
      "protobuf                                 4.25.3\n",
      "psutil                                   5.9.0\n",
      "pulsar-client                            3.4.0\n",
      "pure-eval                                0.2.2\n",
      "py                                       1.11.0\n",
      "py4j                                     0.10.9.7\n",
      "pyarrow                                  16.1.0\n",
      "pyasn1                                   0.5.1\n",
      "pyasn1-modules                           0.3.0\n",
      "pycosat                                  0.6.6\n",
      "pycparser                                2.21\n",
      "pycryptodomex                            3.20.0\n",
      "pydantic                                 2.7.1\n",
      "pydantic_core                            2.18.2\n",
      "pydeck                                   0.8.0\n",
      "pydot                                    2.0.0\n",
      "pydotplus                                2.0.2\n",
      "PyGithub                                 1.59.1\n",
      "Pygments                                 2.15.1\n",
      "PyJWT                                    2.4.0\n",
      "pylance                                  0.9.18\n",
      "PyMySQL                                  1.0.2\n",
      "PyNaCl                                   1.5.0\n",
      "pyOpenSSL                                23.2.0\n",
      "pyparsing                                3.0.9\n",
      "pypdf                                    3.17.4\n",
      "PyPika                                   0.48.9\n",
      "pyproj                                   3.6.1\n",
      "pyproject_hooks                          1.0.0\n",
      "PyQt5                                    5.15.7\n",
      "PyQt5-sip                                12.11.0\n",
      "pyreadline3                              3.4.1\n",
      "pyright                                  1.1.364\n",
      "pyrsistent                               0.18.0\n",
      "pysbd                                    0.3.4\n",
      "pyshadow                                 0.0.5\n",
      "pyshp                                    2.3.1\n",
      "PySocks                                  1.7.1\n",
      "pyspark                                  3.5.0\n",
      "pystac                                   1.9.0\n",
      "pystac-client                            0.7.5\n",
      "pytest                                   8.2.1\n",
      "python-box                               7.1.1\n",
      "python-dateutil                          2.9.0.post0\n",
      "python-dotenv                            1.0.0\n",
      "python-json-logger                       2.0.7\n",
      "python-snappy                            0.6.1\n",
      "pytube                                   15.0.0\n",
      "pytz                                     2024.1\n",
      "pywin32                                  305.1\n",
      "pywin32-ctypes                           0.2.0\n",
      "pywinpty                                 2.0.10\n",
      "PyYAML                                   6.0.1\n",
      "pyzmq                                    25.1.0\n",
      "qdrant-client                            1.9.1\n",
      "QtPy                                     2.2.0\n",
      "ratelimiter                              1.2.0.post0\n",
      "referencing                              0.30.2\n",
      "regex                                    2023.12.25\n",
      "requests                                 2.31.0\n",
      "requests-oauthlib                        1.3.1\n",
      "requests-toolbelt                        1.0.0\n",
      "retry                                    0.9.2\n",
      "rfc3339-validator                        0.1.4\n",
      "rfc3986-validator                        0.1.1\n",
      "rich                                     13.7.0\n",
      "rpds-py                                  0.10.6\n",
      "rsa                                      4.9\n",
      "ruamel.yaml                              0.17.21\n",
      "ruamel-yaml-conda                        0.17.21\n",
      "safetensors                              0.4.2\n",
      "schema                                   0.7.5\n",
      "scikit-learn                             1.3.2\n",
      "scipy                                    1.11.3\n",
      "scooby                                   0.9.2\n",
      "seaborn                                  0.13.0\n",
      "selenium                                 4.21.0\n",
      "semver                                   3.0.2\n",
      "Send2Trash                               1.8.2\n",
      "sentence-transformers                    2.6.1\n",
      "setuptools                               68.0.0\n",
      "shapely                                  2.0.2\n",
      "shellingham                              1.5.4\n",
      "sip                                      6.6.2\n",
      "six                                      1.16.0\n",
      "smmap                                    5.0.1\n",
      "sniffio                                  1.3.1\n",
      "sortedcontainers                         2.4.0\n",
      "sounddevice                              0.4.6\n",
      "soupsieve                                2.5\n",
      "SQLAlchemy                               2.0.30\n",
      "stack-data                               0.2.0\n",
      "starlette                                0.36.3\n",
      "statsmodels                              0.14.0\n",
      "striprtf                                 0.0.26\n",
      "sympy                                    1.12\n",
      "tbb                                      2021.12.0\n",
      "tblib                                    1.7.0\n",
      "tenacity                                 8.3.0\n",
      "tensorboard                              2.15.1\n",
      "tensorboard-data-server                  0.7.2\n",
      "tensorflow                               2.15.0\n",
      "tensorflow-estimator                     2.15.0\n",
      "tensorflow-intel                         2.15.0\n",
      "tensorflow-io-gcs-filesystem             0.31.0\n",
      "termcolor                                2.4.0\n",
      "terminado                                0.17.1\n",
      "textblob                                 0.17.1\n",
      "threadpoolctl                            2.2.0\n",
      "tiktoken                                 0.5.2\n",
      "tinycss2                                 1.2.1\n",
      "tokenizers                               0.15.2\n",
      "toml                                     0.10.2\n",
      "toolz                                    0.12.0\n",
      "torch                                    2.3.0\n",
      "torchtext                                0.18.0\n",
      "torchvision                              0.18.0\n",
      "tornado                                  6.3.3\n",
      "tqdm                                     4.66.4\n",
      "traitlets                                5.7.1\n",
      "traittypes                               0.2.1\n",
      "transformers                             4.39.2\n",
      "trio                                     0.22.2\n",
      "trio-websocket                           0.11.1\n",
      "truststore                               0.8.0\n",
      "typer                                    0.9.4\n",
      "typer-cli                                0.12.0\n",
      "typer-slim                               0.12.0\n",
      "types-requests                           2.32.0.20240523\n",
      "typing_extensions                        4.11.0\n",
      "typing-inspect                           0.9.0\n",
      "tzdata                                   2024.1\n",
      "ujson                                    5.4.0\n",
      "undetected-chromedriver                  3.5.3\n",
      "Unidecode                                1.3.7\n",
      "uritemplate                              4.1.1\n",
      "urllib3                                  2.2.1\n",
      "uvicorn                                  0.29.0\n",
      "watchfiles                               0.21.0\n",
      "wcwidth                                  0.2.5\n",
      "webdriver-manager                        4.0.1\n",
      "webencodings                             0.5.1\n",
      "websocket-client                         0.58.0\n",
      "websockets                               12.0\n",
      "Werkzeug                                 3.0.1\n",
      "wheel                                    0.38.4\n",
      "whitebox                                 2.3.1\n",
      "whiteboxgui                              2.3.0\n",
      "widgetsnbextension                       4.0.9\n",
      "win-inet-pton                            1.1.0\n",
      "wordcloud                                1.9.2\n",
      "wrapt                                    1.14.0\n",
      "wsproto                                  1.2.0\n",
      "xgboost                                  2.0.2\n",
      "xlrd                                     2.0.1\n",
      "xyzservices                              2022.9.0\n",
      "y-py                                     0.5.9\n",
      "yarl                                     1.9.4\n",
      "youtube-transcript-api                   0.6.2\n",
      "ypy-websocket                            0.8.2\n",
      "yt-dlp                                   2023.12.30\n",
      "zict                                     3.0.0\n",
      "zipp                                     3.11.0\n",
      "zstandard                                0.19.0\n",
      "Note: you may need to restart the kernel to use updated packages.\n"
     ]
    }
   ],
   "source": [
    "pip list"
   ]
  },
  {
   "cell_type": "markdown",
   "id": "e86daa54-982f-4a1f-9ad7-8d0b1b917125",
   "metadata": {},
   "source": [
    "## Cargo claves"
   ]
  },
  {
   "cell_type": "code",
   "execution_count": 2,
   "id": "e1c2fbda-af84-4ba3-90ff-167aedface97",
   "metadata": {},
   "outputs": [],
   "source": [
    "GROQ_API_KEY = os.getenv('GROQ_API_KEY')\n",
    "QDRANT_API_KEY = os.getenv('QDRANT_API_KEY')\n",
    "QDRANT_URL = os.getenv('QDRANT_URL')\n",
    "OPENAI_API_KEY = os.getenv('OPENAI_API_KEY')\n",
    "YOUTUBE_API_KEY = os.getenv('YOUTUBE_API_KEY')\n",
    "EMAIL_PASS = os.getenv('EMAIL_PASS')"
   ]
  },
  {
   "cell_type": "markdown",
   "id": "94c984a7-1a95-425a-ac5b-eb339b4b1fb4",
   "metadata": {},
   "source": [
    "# Transcripcion videos Youtube"
   ]
  },
  {
   "cell_type": "code",
   "execution_count": 3,
   "id": "729ade8b-75a2-4195-8a23-48d01a8f1f76",
   "metadata": {},
   "outputs": [],
   "source": [
    "loader = YoutubeLoader.from_youtube_url(\"https://www.youtube.com/watch?v=W7K3o8HM3hs&ab_channel=JuanRam%C3%B3nRallo\",\n",
    "                                        add_video_info=True,\n",
    "                                        language=[\"es\"]\n",
    "                                       )\n",
    "transcript = loader.load()"
   ]
  },
  {
   "cell_type": "code",
   "execution_count": 4,
   "id": "c464d28a-2426-48fc-a494-81ce3510482c",
   "metadata": {},
   "outputs": [
    {
     "data": {
      "text/plain": [
       "Document(page_content='como el sistema Público de pensiones está en crisis el gobierno español pretende tapar algunos agujeros apropiándose del ahorro jubilatorio de los futuros abogados de España veámoslo Existen esencialmente dos sistemas a través de los cuales podemos prepararnos para la jubilación el primero el sistema de reparto y el segundo el sistema de capitalización el sistema de reparto se basa en el principio redistributivo normalmente de carácter coactivo te pago yo a ti hoy a cambio de que él me pague a mí mañana y en cambio el sistema de capitalización se fundamenta en la libertad y en la responsabilidad de cada individuo de ahorrar a lo largo de su vida profesional para constituir un patrimonio del que poder vivir Cuando se jubile en España el sistema que por desgracia rige para la mayoría de españoles es el sistema Público de reparto sin embargo existen ciertos colectivos profesionales que todavía hoy disfrutan de la libertad de poder acogerse a un sistema privado de capitalización por ejemplo uno de esos colectivos profesionales son los abogados desde 1996 los nuevos abogados pueden decidir si se dan de alta al régimen especial de Trabajadores autónomos al reta a la seguridad social Pública para los autónomos O si quieren cotizar para su jubilación a través de la mutualidad de la abogacía y ahorrando y cotizando a través de la mutualidad de la abogacía lo que hacen en el fondo es invertir en un sistema de capitalización individual es decir que con las cotizaciones que los abogados pagan voluntariamente a la mutualidad estando por tanto eximidos de cotizar al reta lo que hace la mutualidad es adquirir activos financieros a nombre del mutualista y la pensión futura de ese mutualista se paga a través de los activos acumulados durante su vida profesional cualquier abogado por consiguiente puede escoger de manera libre entre el sistema Público de reparto o un sistema privado de capitalización Y si Escoge el sistema privado de capitalización tendrá todas las ventajas que caracterizan a este sistema Pero también todas las responsabilidades que este sistema lleva aparejado por ejemplo el abogado que se de de alta al sistema de previsión social de la mutualidad de la abogacía tendrá que determinar periódicamente Cuánto quiere cotizar para componer esa cartera de activos a partir de los cuales cobrará su pensión una vez se jubile Y si ese abogado libremente Escoge efectuar aportaciones periódicas muy bajas a ese plan de previsión social de la mutualidad de la abogacía aún cuando el rendimiento aún cuando la rentabilidad promedio de sus inversiones sea moderadamente decente en torno al promedio histórico la pensión que puede terminar cobrando en el futuro debido a esas bajas aportaciones efectuadas puede ser insuficiente en relación con las expectativas que tenía así las cosas en la actualidad hay 210,000 personas inscritas en la mutualidad de la abogacía y de ellas 60.000 han escogido cotizar a través del plan de previsión social de la mutualidad de la abogacía es decir han escogido preparar su jubilación a través del plan de capitalización individual que les posibilita la mutualidad de la abogacía tan es así que hoy el volumen de activos gestionados por la mutualidad de la abogacía la masa patrimonial del conjunto de sus planes de ahorro de capitalización supera los 10.000 millones de euros Pues bien Durante los últimos meses una minoría de esos 60.000 abogados no solo inscritos a la mutualidad de la abogacía sino que han decidido voluntariamente que la mutualidad de la abogacía gestione y capitalice su ahorro de Cara a la jubilación una minoría de esos 60.000 mutualistas menos del 5% de todos ellos alrededor de 2500 2400 personas Durante los últimos meses se han estado organizando y quejando públicamente debido a que las pensiones que van a percibir una vez alcanzada la jubilación van a ser insuficientes para cubrir sus expectativas Y qué solicitan estos 2000 2500 abogados que estaban inscritos voluntariamente al sistema de previsión social de la mutualidad de la abogacía y que debido a no haber efectuado aportaciones ientes a su plan personal privado de pensiones ahora mismo se encuentran con que van a cobrar una pensión que consideran demasiado Baja pues lo que están solicitando es un rescate público lo que están solicitando es poder dar el Salto ahora al sistema Público de pensiones con condiciones de jubilación mejoradas con respecto a las que tendrían si cobraran la pensión derivada del ahorro capitalizado y acumulado en sus cuentas privadas de capitalización Pero el punto verdaderamente criticable ni siquiera es que estos 2000 2500 mutualistas estén reclamando en estos momentos un rescate público tiene sentido que se articule una pasarela del sistema privado al sistema público siempre que no sea en perjuicio patrimonial del sistema público Es decir de todos aquellos que han cotizado forzosamente al sistema Público de reparto de pensiones no lo verdaderamente criticable no es esto lo verdaderamente criticable es que el gobierno Aprovechando que el pisuerga pasa por valladolit es decir Aprovechando que una minoría de abogados inscritos al sistema de previsión social de la mutualidad de la abogacía están reclamando un rescate público porque juzgan que sus pensiones futuras van a ser insuficientes como consecuencia de que no han ahorrado lo suficiente durante su vida profesional el gobierno no aprovechando esta coyuntura pretende eliminar la autonomía de la que hasta el momento disfrutaban los abogados y otros colectivos profesionales de cotizar a través de un sistema privado de pensiones y obligarlos a todos ellos a tener que acogerse sí o sí al sistema Público de reparto concretamente a través del régimen especial para trabajadores autónomos es decir que lo que quiere del gobierno es que a partir de 2027 los nuevos abogados Sí o sí coticen a través de la seguridad social y por qué quiere esto el gobierno pues por lo mismo que ha subido recientemente las cotizaciones a los trabajadores autónomos porque la seguridad social española el sistema Público de reparto está en números rojos y para compensar algo esos números rojos tiene que captar nuevos cotizantes a los que les va a cobrar hoy una cotización a cambio de prometerles en las próximas décadas una pensión que no les va a poder pagar en las condiciones que les está prometiendo hoy pero de momento coge el dinero y corre coge las cotizaciones sociales a la seguridad social tapa unos agujeros hoy tapa parte de los agujeros financieros hoy de la seguridad social y el gobernante que venga detrás en 2040 o 2050 que arree ese ya se encontrará con un agujero todavía mayor Pero ese no es un problema que vaya a afectar a los gobernantes actuales que son los que tienen que gestionar la cada vez más delicada situación financiera de la seguridad social ya en la actualidad en pocas palabras la falta de responsabilidad financiera de una minoría de abogados inscritos voluntariamente al régimen de previsión social de capitalización individual suministrado por la mutualidad de la abogacía está brindando al gobierno español la oportunidad de oro para nacionalizar de facto el ahorro de todos los futuros abogados de España en lugar de permitir como hasta ahora que esos abogados si así lo quieren gestionen a través de la mutualidad su propio ahorro personal La ruidosa minoría organizada de abogados que quieren ser rescatados por el estado está legitimando en medios de comunicación y ante la opinión pública el que el gobierno se anexion coactivamente el ahorro previsional futuro de los nuevos abogados está legitimando al gobierno para privar a los futuros Abogados del derecho que han tenido hasta ahora de escoger entre un sistema Público de reparto y un sistema privado de capitalización y lo que como ciudadanos libres y responsables deberíamos reclamarle al gobierno no es que elimine erradique Las escasas parcelas de libertad que en lo previsional siguen subsistiendo en España sino que posibilite la extensión de esa crucial libertad con responsabilidad para escoger entre el sistema Público de reparto de pensiones y el sistema privado de de pensiones no solo a los abogados sino Al conjunto de los trabajadores españoles [Música]', metadata={'source': 'W7K3o8HM3hs', 'title': 'El Gobierno quiere quedarse con los ahorros de los abogados', 'description': 'Unknown', 'view_count': 92995, 'thumbnail_url': 'https://i.ytimg.com/vi/W7K3o8HM3hs/hq720.jpg', 'publish_date': '2024-06-21 00:00:00', 'length': 617, 'author': 'Vlog'})"
      ]
     },
     "execution_count": 4,
     "metadata": {},
     "output_type": "execute_result"
    }
   ],
   "source": [
    "transcript[0]"
   ]
  },
  {
   "cell_type": "markdown",
   "id": "f541b73b-c872-4d3a-882a-b5883309867d",
   "metadata": {},
   "source": [
    "## Resumen\n",
    "[Documentación summarization](\"https://python.langchain.com/v0.2/docs/tutorials/summarization/#stuff\")\n",
    "\n",
    "Dado que las transcripciones serán textos largos necesitaremos dividir el texto en trozos. Veremos que técnica los da mejores resultados."
   ]
  },
  {
   "cell_type": "markdown",
   "id": "91541c8d-b466-46df-8a4e-c6848775bd36",
   "metadata": {},
   "source": [
    "- Primero dividimos la transcripción en trozos(probando diferentes tamaños):"
   ]
  },
  {
   "cell_type": "code",
   "execution_count": 5,
   "id": "591641e6-4c66-45f4-9418-721be751c691",
   "metadata": {},
   "outputs": [],
   "source": [
    "text_splitter = RecursiveCharacterTextSplitter(chunk_size=5000, chunk_overlap=1000)\n",
    "texts = text_splitter.split_documents(transcript)"
   ]
  },
  {
   "cell_type": "code",
   "execution_count": 15,
   "id": "2df73901-5ab1-4280-a663-7d4125c11439",
   "metadata": {},
   "outputs": [
    {
     "data": {
      "text/plain": [
       "'de la mutualidad de la abogacía y que debido a no haber efectuado aportaciones ientes a su plan personal privado de pensiones ahora mismo se encuentran con que van a cobrar una pensión que consideran demasiado Baja pues lo que están solicitando es un rescate público lo que están solicitando es poder dar el Salto ahora al sistema Público de pensiones con condiciones de jubilación mejoradas con respecto a las que tendrían si cobraran la pensión derivada del ahorro capitalizado y acumulado en sus cuentas privadas de capitalización Pero el punto verdaderamente criticable ni siquiera es que estos 2000 2500 mutualistas estén reclamando en estos momentos un rescate público tiene sentido que se articule una pasarela del sistema privado al sistema público siempre que no sea en perjuicio patrimonial del sistema público Es decir de todos aquellos que han cotizado forzosamente al sistema Público de reparto de pensiones no lo verdaderamente criticable no es esto lo verdaderamente criticable es que el gobierno Aprovechando que el pisuerga pasa por valladolit es decir Aprovechando que una minoría de abogados inscritos al sistema de previsión social de la mutualidad de la abogacía están reclamando un rescate público porque juzgan que sus pensiones futuras van a ser insuficientes como consecuencia de que no han ahorrado lo suficiente durante su vida profesional el gobierno no aprovechando esta coyuntura pretende eliminar la autonomía de la que hasta el momento disfrutaban los abogados y otros colectivos profesionales de cotizar a través de un sistema privado de pensiones y obligarlos a todos ellos a tener que acogerse sí o sí al sistema Público de reparto concretamente a través del régimen especial para trabajadores autónomos es decir que lo que quiere del gobierno es que a partir de 2027 los nuevos abogados Sí o sí coticen a través de la seguridad social y por qué quiere esto el gobierno pues por lo mismo que ha subido recientemente las cotizaciones a los trabajadores autónomos porque la seguridad social española el sistema Público de reparto está en números rojos y para compensar algo esos números rojos tiene que captar nuevos cotizantes a los que les va a cobrar hoy una cotización a cambio de prometerles en las próximas décadas una pensión que no les va a poder pagar en las condiciones que les está prometiendo hoy pero de momento coge el dinero y corre coge las cotizaciones sociales a la seguridad social tapa unos agujeros hoy tapa parte de los agujeros financieros hoy de la seguridad social y el gobernante que venga detrás en 2040 o 2050 que arree ese ya se encontrará con un agujero todavía mayor Pero ese no es un problema que vaya a afectar a los gobernantes actuales que son los que tienen que gestionar la cada vez más delicada situación financiera de la seguridad social ya en la actualidad en pocas palabras la falta de responsabilidad financiera de una minoría de abogados inscritos voluntariamente al régimen de previsión social de capitalización individual suministrado por la mutualidad de la abogacía está brindando al gobierno español la oportunidad de oro para nacionalizar de facto el ahorro de todos los futuros abogados de España en lugar de permitir como hasta ahora que esos abogados si así lo quieren gestionen a través de la mutualidad su propio ahorro personal La ruidosa minoría organizada de abogados que quieren ser rescatados por el estado está legitimando en medios de comunicación y ante la opinión pública el que el gobierno se anexion coactivamente el ahorro previsional futuro de los nuevos abogados está legitimando al gobierno para privar a los futuros Abogados del derecho que han tenido hasta ahora de escoger entre un sistema Público de reparto y un sistema privado de capitalización y lo que como ciudadanos libres y responsables deberíamos reclamarle al gobierno no es que elimine erradique Las escasas parcelas de libertad que en lo previsional siguen subsistiendo en España sino que posibilite la extensión de esa crucial libertad con responsabilidad para escoger entre el sistema Público de reparto de pensiones y el sistema privado de de pensiones no solo a los abogados sino Al conjunto de los trabajadores españoles [Música]'"
      ]
     },
     "execution_count": 15,
     "metadata": {},
     "output_type": "execute_result"
    }
   ],
   "source": [
    "texts[1].page_content"
   ]
  },
  {
   "cell_type": "code",
   "execution_count": 7,
   "id": "b3f69769-456e-4056-a5cc-23f1d73e2516",
   "metadata": {},
   "outputs": [
    {
     "data": {
      "text/plain": [
       "2"
      ]
     },
     "execution_count": 7,
     "metadata": {},
     "output_type": "execute_result"
    }
   ],
   "source": [
    "len(texts)"
   ]
  },
  {
   "cell_type": "markdown",
   "id": "2bf5e44e-a35b-4fc6-af56-6f89f4b357ea",
   "metadata": {},
   "source": [
    "- Definimos el LLM:"
   ]
  },
  {
   "cell_type": "code",
   "execution_count": 53,
   "id": "7a21881f-ef52-4856-953b-778c71e88182",
   "metadata": {},
   "outputs": [],
   "source": [
    "llm = ChatGroq(model=\"llama3-70b-8192\",\n",
    "               groq_api_key= GROQ_API_KEY)"
   ]
  },
  {
   "cell_type": "markdown",
   "id": "4f8f4de1-6ade-407a-af1a-8fc34ae4d78f",
   "metadata": {},
   "source": [
    "# Map-reduce"
   ]
  },
  {
   "cell_type": "markdown",
   "id": "1f2aa526-25f8-413c-8f0b-9f3629bb349b",
   "metadata": {},
   "source": [
    "- Creamos una cadena para hacer un resumen de cada trozo de transcripción"
   ]
  },
  {
   "cell_type": "code",
   "execution_count": 42,
   "id": "f3e07c5b-37ce-4b1c-8483-7a10f663e26e",
   "metadata": {},
   "outputs": [],
   "source": [
    "map_template = \"\"\"The following is a set of texts in spanish from a video transcription\n",
    "{texts}\n",
    "Based on this list of texts, please identify the main themes \n",
    "Helpful Answer in Spanish:\"\"\"\n",
    "map_prompt = PromptTemplate.from_template(map_template)\n",
    "\n",
    "map_chain = LLMChain(llm=llm,\n",
    "                     prompt=map_prompt)"
   ]
  },
  {
   "cell_type": "code",
   "execution_count": 43,
   "id": "5d2262d1-72d9-4792-a6ec-cdb1bcc5c643",
   "metadata": {},
   "outputs": [
    {
     "data": {
      "text/plain": [
       "LLMChain(prompt=PromptTemplate(input_variables=['texts'], template='The following is a set of texts in spanish from a video transcription\\n{texts}\\nBased on this list of texts, please identify the main themes \\nHelpful Answer in Spanish:'), llm=ChatGroq(client=<groq.resources.chat.completions.Completions object at 0x0000022E08F16D10>, async_client=<groq.resources.chat.completions.AsyncCompletions object at 0x0000022E08D32A50>, model_name='llama3-70b-8192', groq_api_key=SecretStr('**********')))"
      ]
     },
     "execution_count": 43,
     "metadata": {},
     "output_type": "execute_result"
    }
   ],
   "source": [
    "map_chain"
   ]
  },
  {
   "cell_type": "markdown",
   "id": "0dd10078-c5ac-407b-a71e-0ac7261534ca",
   "metadata": {},
   "source": [
    "- Creamos una cadena para hacer un resumen final de los resumenes de cada trozo"
   ]
  },
  {
   "cell_type": "code",
   "execution_count": 50,
   "id": "dc1c646b-1400-439a-8d5f-d1e540faa86e",
   "metadata": {},
   "outputs": [],
   "source": [
    "# Reduce\n",
    "reduce_template = \"\"\"The following is set of summaries in spanish:\n",
    "{texts}\n",
    "Take these and distill it into a final, consolidated summary of the main themes. \n",
    "Helpful Answer in Spanish:\"\"\"\n",
    "reduce_prompt = PromptTemplate.from_template(reduce_template)\n",
    "\n",
    "# Run chain\n",
    "reduce_chain = LLMChain(llm=llm,\n",
    "                        prompt=reduce_prompt)\n",
    "# Takes a list of documents, combines them into a single string, and passes this to an LLMChain\n",
    "combine_documents_chain = StuffDocumentsChain(llm_chain=reduce_chain,\n",
    "                                              document_variable_name=\"texts\")\n",
    "\n",
    "# Combines and iteratively reduces the mapped documents\n",
    "reduce_documents_chain = ReduceDocumentsChain(\n",
    "    # This is final chain that is called.\n",
    "    combine_documents_chain=combine_documents_chain,\n",
    "    # If documents exceed context for `StuffDocumentsChain`\n",
    "    collapse_documents_chain=combine_documents_chain,\n",
    "    # The maximum number of tokens to group documents into.\n",
    "    token_max=10000,\n",
    ")"
   ]
  },
  {
   "cell_type": "code",
   "execution_count": 53,
   "id": "49c7d162-d1a8-4aa2-84c1-b44427f50ca3",
   "metadata": {},
   "outputs": [],
   "source": [
    "# Combining documents by mapping a chain over them, then combining results\n",
    "map_reduce_chain = MapReduceDocumentsChain(\n",
    "    # Map chain\n",
    "    llm_chain=map_chain,\n",
    "    # Reduce chain\n",
    "    reduce_documents_chain=reduce_documents_chain,\n",
    "    # The variable name in the llm_chain to put the documents in\n",
    "    document_variable_name=\"texts\",\n",
    "    # Return the results of the map steps in the output\n",
    "    return_intermediate_steps=True,\n",
    ")"
   ]
  },
  {
   "cell_type": "code",
   "execution_count": 54,
   "id": "1f9eeb59-2d54-4fc1-a4e7-4c283e14c3ca",
   "metadata": {},
   "outputs": [
    {
     "name": "stderr",
     "output_type": "stream",
     "text": [
      "Token indices sequence length is longer than the specified maximum sequence length for this model (2787 > 1024). Running this sequence through the model will result in indexing errors\n"
     ]
    }
   ],
   "source": [
    "result = map_reduce_chain.invoke(texts)"
   ]
  },
  {
   "cell_type": "code",
   "execution_count": 55,
   "id": "1c7abf11-9bc3-4c56-bc42-830d03b9fbdf",
   "metadata": {},
   "outputs": [
    {
     "name": "stdout",
     "output_type": "stream",
     "text": [
      "Basándome en los textos, puedo identificar los siguientes temas principales consolidados:\n",
      "\n",
      "1. **Crítica al Partido Popular y su programa electoral**: La crítica al Partido Popular y su programa electoral es un tema recurrente, destacando la falta de transparencia, sinceridad y medidas concretas.\n",
      "\n",
      "2. **Desilusión con la política y los partidos políticos**: La desilusión con la política y los partidos políticos en general, y específicamente con el Partido Popular, es un tema destacado en varios textos.\n",
      "\n",
      "3. **Europa y valores europeos**: La importancia de Europa, los valores europeos como la libertad, la igualdad y la democracia, y la necesidad de reafirmar la identidad europea son temas importantes.\n",
      "\n",
      "4. **Desafíos actuales y futuro de Europa**: Los desafíos actuales que enfrenta Europa, como la demografía, la economía, la seguridad y la globalización, y la necesidad de abordarlos de manera efectiva para garantizar un futuro próspero.\n",
      "\n",
      "5. **Democracia y Estado de Derecho**: La importancia de la democracia y el estado de derecho, y la necesidad de defenderlos en Europa, es un tema destacado.\n",
      "\n",
      "6. **Política y liderazgo**: La capacidad de liderazgo y la toma de decisiones políticas efectivas para abordar los desafíos económicos y de competitividad en Europa también son mencionados.\n",
      "\n",
      "En resumen, los temas principales consolidados se centran en la crítica al Partido Popular, la desilusión con la política, la importancia de Europa y los valores europeos, los desafíos actuales y el futuro de Europa, la democracia y el estado de derecho, y la política y el liderazgo.\n"
     ]
    }
   ],
   "source": [
    "print(result[\"output_text\"])"
   ]
  },
  {
   "cell_type": "markdown",
   "id": "4f58d086-d26b-4bb6-a205-51934f2f7abb",
   "metadata": {},
   "source": [
    "# Refine\n",
    "\n",
    "En este caso se crea un resumen del primer trozo de la transcripción y se van añadiendo a este los siguientes trozos generando otro resumen refinado con la nueva información."
   ]
  },
  {
   "cell_type": "code",
   "execution_count": 57,
   "id": "b2046f6f-7fd4-4537-84b7-0de96d0e2865",
   "metadata": {},
   "outputs": [],
   "source": [
    "transcripcion = transcript_video(\"https://www.youtube.com/watch?v=Qs6BdBHiLwM&ab_channel=JuanRam%C3%B3nRallo\")"
   ]
  },
  {
   "cell_type": "code",
   "execution_count": 58,
   "id": "fe9840c9-7d47-4fb9-8985-c34b45194237",
   "metadata": {},
   "outputs": [
    {
     "data": {
      "text/plain": [
       "[Document(page_content='Cuáles serían Los Auténticos niveles de deuda Pública del Estado español si incluyeramos en esta cifra el dinero que el estado a deuda en pensiones a los futuros pensionistas veámoslo se suele decir que la deuda Pública del Estado español se ubica alrededor del 110 por del pib de hecho ya algo por debajo sin embargo esta cifra únicamente cuantifica el dinero que adeuda el estado español por los bonos en sentido amplio del término letras bonos y obligaciones del estado que el estado ha emitido en los mercados y que los inversores han adquirido pero en esta cifra de endeudamiento público no aparecen otros pasivos con los que también carga el estado español por ejemplo la deuda con proveedores del Estado español no aparece reflejada en esta cifra ahora bien como en general la deuda que las administraciones públicas tienen con los proveedores no es un monto extraordinariamente elevado puede ser el un el 2 el 3% del pib Lo cierto es que esta omisión no distorsiona demasiado la imagen final de la deuda Pública conjunta del Estado español ahora bien existe otra omisión que desde luego si lo hace No solo en el caso del Estado español sino de cualquier estado a lo largo y ancho del planeta Pero como ahora vamos a ver especialmente en el caso del Estado español a la omisión de qué otro pasivo me estoy refiriendo Pues a la deuda que mantiene el estado español con los pensionistas españoles los pensionistas españoles han devengado un derecho de cobro pensional futuro frente al Estado español y ese estado español tendrá que hacer frente a él pagando las pensiones por tanto es como si los pensionistas tuviesen un Bono que no pueden transferir a terceros pero tuviesen un Bono un título de deuda del Estado español en función del cual cobrarán sus pensiones futuras es decir que el gasto futuro en pensiones comprometido con los pensionistas por el estado español también constituye un pasivo de ese estado también es deuda pública aún cuando no la incluyamos en las estadísticas oficiales y el punto por tanto es A cuánto equivale la deuda pública en forma de gasto futuro del sistema Público de pensiones español Cuál es el valor presente el valor actualizado de todos los desembolsos que el estado español ya se ha comprometido a hacer con los pensionistas en el futuro no el gasto que se comprometerá a hacer Durante los próximos años sino el que ya se ha comprometido a efectuar la deuda que ya ha sido devengada en estos momentos Pues esta cifra aunque no aparezca en las estadísticas oficiales de deuda pública es una cifra que también nos ofrece eurostat y atención al siguiente gráfico porque os va a aterrorizar el valor presente del gasto futuro en pensiones que ya se ha comprometido que ya se ha obligado a hacer el estado español a lo largo de los próximos años equivale a atención al 500 por del pib repito 500 por del pib cinco veces más que toda la deuda pública emitida en los mercados en forma de bonos por el estado español se trata además y con bastante diferencia del estado europeo con mayores deudas implícitas en materia de pensiones por hacer una comparativa la deuda implícita en pensiones de Alemania es del 325 por del pib 175 puntos de pib menos que España ahora bien si estas cifras son correctas e insisto son cálculos además conservadores de eurostat si estas cifras son correctas Por qué a los inversores les suele generar mucha más inquietud la deuda pública emitida en los mercados en forma de bonos que apenas entre muchas comillas representa el 100 110 por del pib de España y no en cambio la deuda pensional implícita del estado que en el caso de España asciende a más del 500 por del pib por qué lo primero suele preocupar más que lo segundo Pues por una razón bastante sencilla porque los estados están mucho más acostumbrados a impag sin consecuencias la deuda implícita en materia de pensiones que a imp pagar porque conlleva consecuencias la deuda en forma de bonos emitidos en el mercado si dentro de 5 10 15 20 o 25 años el estado español es incapaz de atender la amortización de esa deuda implícita en forma de pensiones valor presente equivalente al 500 por del pib pues lo que hará llegado ese momento el estado español es bajar las pensiones recortar las pensiones y a los pensionistas de ese momento no les quedará otro remedio que encogerse de hombros como las lentejas lo tomas o lo dejas en cambio Si al Estado español se le ocurre obrar de la misma manera con los as con los inversores en bonos Oye que no me va bien pagarte que no alcanzo a pagarte te voy a recortar un poquito el tipo de interés que me había comprometido a entregarte o te voy a devolver menos principal del que me adelantaste si al Estado español se le ocurriera hacer esto entraría inmediatamente en default y pasaría a tener cerrado como le ha ocurrido a Argentina tantas veces su acceso a los mercados financieros En otras palabras la deuda implícita pensional que es enorme se puede impag de manera más o menos impune la deuda en forma de bonos en manos de los inversores no se puede pagar de manera impune y por eso a los inversores les preocupa más la acumulación de la segunda que de la primera pero si eso es así tened en cuenta que Durante las próximas décadas es muy previsible que lleguen recortes en las pensiones futuras que hoy el estado se ha comprometido a pagar y recortar no a priori sino a posteriori las pensiones supone que muchas personas que contaban con recibir un determinado nivel de ingresos a través del sistema Público de pensiones van a ver defraudadas sus expectativas van a tener unos ingresos menores a aquellos que les ha prometido el estado y que por tanto preveían que iban a tener por eso lo prudente a la hora de planificar financieramente nuestro futuro es anticipar o como poco tener presente la muy seria posibilidad de que nuestras pensiones futuras vayan a ser recortadas con respecto a las promesas a los compromisos a las deudas pensionales que hoy efectúa el estado y por eso Si nuestros ingresos pensionales futuros después del tijeretazo que previsiblemente les aplicará en el futuro el gobierno de España que haya en ese momento los consideramos insuficientes con respecto al tren de vida que deseamos vivir mantener en el futuro una vez jubilados no nos quedará otro remedio que hacer como por cierto hacen muchos otros europeos es decir complementar nuestra pensión pública con una pensión privada derivada del ahorro que hayamos acumulado a lo largo de nuestra vida profesional Y en este sentido una forma de ir ahorrando para preparar tu jubilación futura ante el previsible O al menos posible recorte de las pensiones futuras por parte del Estado español es mediante un plan de ahorro periódico a través de la plataforma que apadrina este vídeo Trade Republic como ya hemos explicado en vídeos anteriores una de las mejores formas de constituir un patrimonio personal cuantioso de del que poder recibir ingresos pasivos que complementen las inciertas pensiones públicas que nos sean entregadas en el futuro es mediante el ahorro periódico y la inversión de ese ahorro periódico a un índice bursátil global que proporcione rentabilidades después de inflación similares a las que históricamente esos índices bursátiles globales ya han proporcionado es decir rentabilidades alrededor del cco 6 o 7% al año en promedio Durante los años que nos resten hasta la jubilación y como también hemos explicado en otras ocasiones rentabilidades que no sean devoradas por las altísimas comisiones de gestión del instrumento que utilicemos para invertir en el mercado bursátil en este sentido uno de los instrumentos con comisiones más bajas son los fondos de gestión pasiva que replican el índice sin cargar tintas en comisiones sobre el inversor además como también hemos explicado en otras ocasiones en este caso el tiempo es oro cuanto antes Comencemos más patrimonio acumular remos por ejemplo un ahorro de 300 mensuales a lo largo de 40 años invertidos a una rentabilidad después de inflación del 6% que es inferior a la que ha proporcionado históricamente el estándar ampus 500 la bolsa estadounidense se traduciría al cabo de esos 40 años en un patrimonio de casi 600,000 una suma que permitiría complementar las menguantes pensiones públicas y este ahorro y reinversión periódico en índices bursátiles como el estándar urs 5 u otros lo puedes llevar a cabo a través de Trade Republic si quieres obtener más información sobre esta plataforma y los diversos servicios que ofrece la puedes obtener pinchando en el enlace que aparece en la caja descripción de este vídeo o en el comentario destacado Y si todavía tienes dudas sobre si el enorme volumen de pasivos estatales en materia de derechos pensionales acarreará o no acarreará recortes futuros en esas pensiones podemos efectuar un ejercicio alternativo y ese ejercicio es el de poner en relación todos los pasivos del estado con los ingresos anuales del Estado si el valor presente de los derechos nacionales del estado es de algo más del 500 por del pib y el valor de todos los bonos emitidos por el estado es de algo menos del 110 por del pib podemos decir que sus pasivos conjuntos ascienden al 6% del pib Pues bien actualmente el conjunto de todos los ingresos que tiene el Estado por cualquier concepto impuestos y cotizaciones sociales principalmente pero no exclusivamente asciende al 43 por del pib es decir que para hacer frente a todos los pasivos del Estado sería necesario destinar al completo La recaudación equivalente a 14 años de ingresos públicos y si bien en ocasiones suele decirse que la deuda pública nunca se paga que solo se refinancia lo que sí está bastante claro es que la deuda pública en forma de derechos pensionales sí Hay que pagarla y Hay que pagarla con unos ingresos públicos que precisamente porque la población ocupada por cuestiones demográficas no va a ser expansiva esos ingresos públicos no serán holgados para hacer frente a esa montaña de pasivos estatales que ya hemos devengado con los pensionistas del futuro así pues ahorremos para que la montaña de deuda pensional Futura no nos aplaste [Música]', metadata={'source': 'Qs6BdBHiLwM', 'title': 'El auténtico endeudamiento público de España: 600% del PIB', 'description': 'Unknown', 'view_count': 61987, 'thumbnail_url': 'https://i.ytimg.com/vi/Qs6BdBHiLwM/hq720.jpg?sqp=-oaymwEmCIAKENAF8quKqQMa8AEB-AH-CYAC0AWKAgwIABABGGUgZShlMA8=&rs=AOn4CLAqxSvtvqcR8300aPD2qkEb_yf6bg', 'publish_date': '2024-06-24 00:00:00', 'length': 792, 'author': 'Vlog'})]"
      ]
     },
     "execution_count": 58,
     "metadata": {},
     "output_type": "execute_result"
    }
   ],
   "source": [
    "transcripcion"
   ]
  },
  {
   "cell_type": "code",
   "execution_count": 62,
   "id": "edbba36e-f6cf-4a32-b44b-0caf5d7d9119",
   "metadata": {},
   "outputs": [],
   "source": [
    "prompt_template = \"\"\"Write a summary in SPANISH for a newspaper article of the following:\n",
    "{text}\n",
    "SUMMARY:\"\"\"\n",
    "prompt = PromptTemplate.from_template(prompt_template)\n",
    "\n",
    "refine_template = (\n",
    "    \"Your job is to produce a final summary in SPANISH\\n\"\n",
    "    \"We have provided an existing summary in spanish up to a certain point: {existing_answer}\\n\"\n",
    "    \"We have the opportunity to refine the existing summary\"\n",
    "    \"(only if needed) with some more context below.\\n\"\n",
    "    \"------------\\n\"\n",
    "    \"{text}\\n\"\n",
    "    \"------------\\n\"\n",
    "    \"Given the new context, refine the original summary\"\n",
    "    \"If the context isn't useful, return the original summary.\"\n",
    ")\n",
    "refine_prompt = PromptTemplate.from_template(refine_template)\n",
    "\n",
    "# Chain\n",
    "chain = load_summarize_chain(llm=llm,\n",
    "                             chain_type=\"refine\",\n",
    "                             question_prompt=prompt,\n",
    "                             refine_prompt=refine_prompt,\n",
    "                             return_intermediate_steps=False,\n",
    "                             input_key=\"input_documents\",\n",
    "                             output_key=\"output_text\",\n",
    "                            )"
   ]
  },
  {
   "cell_type": "code",
   "execution_count": 63,
   "id": "0bb1102c-f137-4bcb-90e9-415b1146b817",
   "metadata": {},
   "outputs": [],
   "source": [
    "text_splitter = RecursiveCharacterTextSplitter(chunk_size=5000, chunk_overlap=1000)\n",
    "texts = text_splitter.split_documents(transcripcion)"
   ]
  },
  {
   "cell_type": "code",
   "execution_count": 64,
   "id": "5ebca2f8-86d7-4fc7-881b-2d4e78d882bf",
   "metadata": {},
   "outputs": [],
   "source": [
    "result = chain.invoke({\"input_documents\": texts}, return_only_outputs=True)"
   ]
  },
  {
   "cell_type": "code",
   "execution_count": 65,
   "id": "687f813c-9197-4a32-b662-df559c0d33ed",
   "metadata": {},
   "outputs": [
    {
     "name": "stdout",
     "output_type": "stream",
     "text": [
      "Here is a refined summary in Spanish:\n",
      "\n",
      "**La deuda pública española es mucho más alta de lo que se cree**\n",
      "\n",
      "La deuda pública española es mucho más alta de lo que se cree. Si se incluyera la cantidad de dinero que se debe a los futuros pensionistas, la cifra actual de alrededor del 110% del PIB se multiplicaría por cinco. Según Eurostat, el valor presente de los gastos futuros en pensiones comprometidos por el Estado español asciende a un alarmante 500% del PIB, lo que lo convierte en el país europeo con mayor deuda implícita en materia de pensiones.\n",
      "\n",
      "Esta deuda implícita puede llevar a una visión distorsionada de la situación económica real del país. Aunque no se refleja en las estadísticas oficiales de deuda pública, es un pasivo importante que el Estado español tendrá que enfrentar en el futuro. Sin embargo, es importante tener en cuenta que el Estado puede recortar las pensiones en el futuro para hacer frente a esta deuda implícita.\n",
      "\n",
      "Es probable que en las próximas décadas se produzcan recortes en las pensiones futuras que hoy el estado se ha comprometido a pagar. Esto significa que muchas personas que contaban con recibir un determinado nivel de ingresos a través del sistema público de pensiones van a ver defraudadas sus expectativas. Por lo tanto, es prudente anticipar la posibilidad de que nuestras pensiones futuras vayan a ser recortadas y planificar financieramente nuestro futuro de manera adecuada.\n",
      "\n",
      "Para ilustrar la magnitud del problema, si consideramos que el Estado tendría que destinar la recaudación equivalente a 14 años de ingresos públicos para hacer frente a todos los pasivos del Estado, es evidente que la deuda pública en forma de derechos pensionales es un tema que requiere atención urgente.\n",
      "\n",
      "Una forma de preparar nuestro futuro es ahorrando periódicamente a través de una plataforma como Trade Republic, que nos permite invertir en índices bursátiles globales con rentabilidades históricas de alrededor del 6 o 7% al año. De esta manera, podemos complementar nuestras pensiones públicas con una pensión privada y asegurar un futuro financiero más seguro.\n"
     ]
    }
   ],
   "source": [
    "print(result[\"output_text\"])"
   ]
  },
  {
   "cell_type": "markdown",
   "id": "b9a330cb-3f35-4743-9fd8-0acbcccd8f92",
   "metadata": {},
   "source": [
    "# Función para transcripcion"
   ]
  },
  {
   "cell_type": "code",
   "execution_count": 3,
   "id": "32da5bab-c347-46af-9645-fec066882488",
   "metadata": {},
   "outputs": [],
   "source": [
    "def transcriptor(url):\n",
    "    '''\n",
    "    Función utilizada para la transcripción de videos y su resumen.\n",
    "\n",
    "    Inputs:\n",
    "        - url: str -> La url del video.\n",
    "\n",
    "    Output:\n",
    "        - resumen: str -> El resumen del video.\n",
    "    '''\n",
    "\n",
    "    # Cargo y transcribo:\n",
    "    loader = YoutubeLoader.from_youtube_url(url, add_video_info=True, language=[\"es\"])\n",
    "    transcript = loader.load()\n",
    "    \n",
    "    return transcript[0].page_content"
   ]
  },
  {
   "cell_type": "markdown",
   "id": "2ad4127f-39ea-4b45-902a-9d3c0ff61876",
   "metadata": {},
   "source": [
    "# 2. Crew"
   ]
  },
  {
   "cell_type": "markdown",
   "id": "9a83968d-db1a-4ab9-8c4c-e8231ba0f44f",
   "metadata": {},
   "source": [
    "## 2.1. Agents"
   ]
  },
  {
   "cell_type": "markdown",
   "id": "26d455f2-3573-4b6f-8aab-91e070791eee",
   "metadata": {},
   "source": [
    "- Scraper"
   ]
  },
  {
   "cell_type": "code",
   "execution_count": 4,
   "id": "a6c88f3c-b609-4956-9922-86763769deaa",
   "metadata": {},
   "outputs": [],
   "source": [
    "def search_videos():\n",
    "    '''\n",
    "    Función que devuelve los videos de los últimos 5 días\n",
    "\n",
    "    Input:\n",
    "        - xxxx: str -->\n",
    "\n",
    "    Output:\n",
    "        - results: object --> JSON con la información obtenida(titulo, fecha y url)\n",
    "    '''\n",
    "\n",
    "    # Fecha de hace 5 días\n",
    "    today = datetime(datetime.now().year, datetime.now().month, datetime.now().day, tzinfo=timezone.utc)\n",
    "    two_days_ago = today - timedelta(days=5)\n",
    "    date_format = two_days_ago.strftime('%Y-%m-%dT%H:%M:%S.%f')[:-3] + 'Z'\n",
    "    \n",
    "    youtube = build(\"youtube\", \"v3\", developerKey= YOUTUBE_API_KEY)    \n",
    "    request = youtube.search().list(part= \"snippet\",\n",
    "                                    order= \"date\",\n",
    "                                    type= \"video\",\n",
    "                                    videoDuration= \"medium\",\n",
    "                                    publishedAfter= date_format,\n",
    "                                    channelId= \"UCBLCvUUCiSqBCEc-TqZ9rGw\",\n",
    "                                    maxResults=5\n",
    "                                   )\n",
    "    \n",
    "    response = request.execute()\n",
    "\n",
    "    results = {\"results\": []}\n",
    "\n",
    "    for video in response[\"items\"]:\n",
    "\n",
    "        title = video[\"snippet\"][\"title\"]\n",
    "        author = video[\"snippet\"][\"channelTitle\"]\n",
    "        date = video[\"snippet\"][\"publishTime\"]\n",
    "        url = video[\"id\"][\"videoId\"]\n",
    "        \n",
    "        results[\"results\"].append({\"title\": title,\n",
    "                                   \"author\": author,\n",
    "                                   \"date\": date,\n",
    "                                   \"url\": f\"https://www.youtube.com/watch?v={url}&ab_channel=JuanRam%C3%B3nRallo\"\n",
    "                                  })\n",
    "    \n",
    "    return results"
   ]
  },
  {
   "cell_type": "code",
   "execution_count": 71,
   "id": "97015260-5f23-4aac-ba7f-4c797869f1fd",
   "metadata": {},
   "outputs": [
    {
     "data": {
      "text/plain": [
       "'Juan Ramón Rallo'"
      ]
     },
     "execution_count": 71,
     "metadata": {},
     "output_type": "execute_result"
    }
   ],
   "source": [
    "response[\"items\"][0][\"snippet\"][\"channelTitle\"]"
   ]
  },
  {
   "cell_type": "code",
   "execution_count": 5,
   "id": "e1b954c5-9cbe-476e-8bc2-4b8f479ed657",
   "metadata": {},
   "outputs": [],
   "source": [
    "results = search_videos()"
   ]
  },
  {
   "cell_type": "code",
   "execution_count": 6,
   "id": "0b71224d-0424-42ec-8be1-68e7dd829f47",
   "metadata": {},
   "outputs": [
    {
     "data": {
      "text/plain": [
       "[{'title': '¿Por qué Warren Buffett está saliendo de la bolsa?',\n",
       "  'author': 'Juan Ramón Rallo',\n",
       "  'date': '2024-08-08T13:26:25Z',\n",
       "  'url': 'https://www.youtube.com/watch?v=WLgiN6pLp8k&ab_channel=JuanRam%C3%B3nRallo'},\n",
       " {'title': 'Javier Milei cierra el INADI',\n",
       "  'author': 'Juan Ramón Rallo',\n",
       "  'date': '2024-08-07T07:25:18Z',\n",
       "  'url': 'https://www.youtube.com/watch?v=ZkzPYmblxYY&ab_channel=JuanRam%C3%B3nRallo'},\n",
       " {'title': '¿Se volatilizaron dos billones de dólares con el crash bursátil?',\n",
       "  'author': 'Juan Ramón Rallo',\n",
       "  'date': '2024-08-06T12:17:01Z',\n",
       "  'url': 'https://www.youtube.com/watch?v=x-caVhZSLQA&ab_channel=JuanRam%C3%B3nRallo'},\n",
       " {'title': '¿Por qué ha colapsado la bolsa japonesa?',\n",
       "  'author': 'Juan Ramón Rallo',\n",
       "  'date': '2024-08-05T19:24:28Z',\n",
       "  'url': 'https://www.youtube.com/watch?v=1dcc-O__hYg&ab_channel=JuanRam%C3%B3nRallo'},\n",
       " {'title': 'El doble rasero de Pedro Sánchez: cobarde con Maduro, agresivo con Milei',\n",
       "  'author': 'Juan Ramón Rallo',\n",
       "  'date': '2024-08-04T15:25:02Z',\n",
       "  'url': 'https://www.youtube.com/watch?v=zK7HL0fQXyQ&ab_channel=JuanRam%C3%B3nRallo'}]"
      ]
     },
     "execution_count": 6,
     "metadata": {},
     "output_type": "execute_result"
    }
   ],
   "source": [
    "results[\"results\"]"
   ]
  },
  {
   "cell_type": "code",
   "execution_count": 10,
   "id": "55fe175e-9823-4748-9e88-43992958a006",
   "metadata": {},
   "outputs": [],
   "source": [
    "def info_videos(dias=3):\n",
    "    '''\n",
    "    Función que devuelve información de los videos de los últimos 3 días\n",
    "\n",
    "    Input:\n",
    "        - dias: int --> Número de días\n",
    "\n",
    "    Output:\n",
    "        - results: object --> JSON con la información obtenida(titulo, autor, fecha, url, resumen)\n",
    "    '''\n",
    "\n",
    "    # Fecha de hace 3 días\n",
    "    today = datetime(datetime.now().year, datetime.now().month, datetime.now().day, tzinfo=timezone.utc)\n",
    "    two_days_ago = today - timedelta(days=dias)\n",
    "    date_format = two_days_ago.strftime('%Y-%m-%dT%H:%M:%S.%f')[:-3] + 'Z'\n",
    "    \n",
    "    youtube = build(\"youtube\", \"v3\", developerKey= os.getenv('YOUTUBE_API_KEY'))\n",
    "    request = youtube.search().list(part= \"snippet\",\n",
    "                                    order= \"date\",\n",
    "                                    type= \"video\",\n",
    "                                    videoDuration= \"medium\",\n",
    "                                    publishedAfter= date_format,\n",
    "                                    channelId= \"UCBLCvUUCiSqBCEc-TqZ9rGw\",\n",
    "                                    maxResults=5\n",
    "                                   )\n",
    "    \n",
    "    response = request.execute()\n",
    "\n",
    "    results = {\"results\": []}\n",
    "\n",
    "    for video in response[\"items\"]:\n",
    "\n",
    "        title = video[\"snippet\"][\"title\"]\n",
    "        author = video[\"snippet\"][\"channelTitle\"]\n",
    "        date = video[\"snippet\"][\"publishTime\"]\n",
    "        id= video[\"id\"][\"videoId\"]\n",
    "        url = f\"https://www.youtube.com/watch?v={id}&ab_channel=JuanRam%C3%B3nRallo\"\n",
    "        summary = transcriptor(url)\n",
    "        \n",
    "        results[\"results\"].append({\"title\": title,\n",
    "                                   \"author\": author,\n",
    "                                   \"date\": date,\n",
    "                                   \"url\": url,\n",
    "                                   \"summary\": summary\n",
    "                                  })\n",
    "    \n",
    "    return results"
   ]
  },
  {
   "cell_type": "code",
   "execution_count": 13,
   "id": "a5f20175-b664-4b44-9750-b8f9440f85cd",
   "metadata": {},
   "outputs": [],
   "source": [
    "info_videos = info_videos(dias=1)"
   ]
  },
  {
   "cell_type": "code",
   "execution_count": 14,
   "id": "b2e273ed-d638-474f-851e-5abf39b2463d",
   "metadata": {},
   "outputs": [
    {
     "data": {
      "text/plain": [
       "{'results': [{'title': '¿Por qué Warren Buffett está saliendo de la bolsa?',\n",
       "   'author': 'Juan Ramón Rallo',\n",
       "   'date': '2024-08-08T13:26:25Z',\n",
       "   'url': 'https://www.youtube.com/watch?v=WLgiN6pLp8k&ab_channel=JuanRam%C3%B3nRallo',\n",
       "   'summary': 'Warren buffett uno de los mejores inversores de toda la historia ha decidido liquidar una porción significativa de su cartera bursátil para maximizar su posición en liquidez por qué lo ha hecho justamente ahora veámoslo [Música] este pasado lunes vivimos una de las caídas diarias más intensas de toda la historia de la bolsa japonesa una sangría que también se ex end dió en menor medida hacia las bolsas europeas y estadounidenses y como es bien sabido desde este pasado lunes la tranquilidad ha regresado Aparentemente a los mercados no en vano las bolsas de Estados Unidos de Europa y de Japón han recuperado en gran medida lo que perdieron en la fatídica jornada del lunes negro sin embargo Y más allá del pintoresco y cruento episodio bursátil experiment este pasado lunes no perdamos de vista lo que también comentamos en un vídeo anterior y es que el último mes no ha sido un buen mes para las bolsas y especialmente para las bolsas estadounidenses en los últimos 30 días el estándar urs 500 ha caído un 6,7 por y el índice tecnológico nasdaq un 12 por. es decir que en términos generales al menos habría sido preferible no estar in ido en la bolsa estadounidense durante el comienzo de este tercer trimestre del año 2024 de ahí que probablemente no sea casualidad el que hace unos días nos enterábamos comenzara a desinflarse más en particular durante el segundo trimestre de este año 2024 Warren buffett liquidó gran parte de su exposición a apple redujo su inversión en esta compañía desde alrededor de 135,000 millones de dó a 84,000 millones dó es decir que vendió acciones por importe de alrededor de 50,000 millones y por qué vendió todas esas acciones de Apple Pues de entrada podríamos decir que porque Consideró que las acciones de Apple estaban relativamente caras si eres un inversor que tiene una participación muy importante en una empresa que está cotizando desde tu punto de vista a precios demasiado elevados el movimiento lógico que tienes que ejecutar es vender una parte de tu exposición a esa compañía que consideras altamente probable que esté sobrevalorada por el mercado No necesariamente vender toda tu exposición a esa compañía porque también podría suceder que tu juicio sea erróneo pero desde luego Sí una parte importante ahora bien Si eso fuera todo si lo único que sucediera es que una compañía en concreto en este caso Apple estaba cotizando a precios demasiado elevados Entonces el inversor que liquida su exposición a apple porque considera que está muy caro recibiría ese dinero y lo utilizaría para comprar otras acciones de otras compañías en el mercado que considerara buenas oportunidades de inversión pero es eso lo que ha hecho Warren buffett pues no lo que ha hecho Warren buffett ha sido vender alrededor de 50.000 millones de dólares en acciones de Apple para mantener ese dinero dentro de sus saldos de tesorería para tenerlo como liquidez en este gráfico podéis observar la posición de liquidez de Warren buffett o más correctamente de su compañía berkshire hathaway y como podéis ver la liquidez de Warren buffett se ubica en alrededor de 275,000 millones de dólares jamás Warren buffett ha mantenido en términos nominales tanta liquidez como en estos momentos y por qué buffet mantiene ahora mismo tantísima liquidez bueno de entrada hay que aclarar que cuando estamos hablando de liquidez no nos referimos exclusivamente a dinero o a depósitos bancarios a la vista También estamos incluyendo aquí letras del tesoro estadounidense es decir deuda pública a corto plazo y uno podría pensar que Warren buffett Está liquidando parte de su cartera de acciones para reinvertir ese dinero en deuda pública a corto plazo porque a día de hoy la deuda pública a corto plazo de Estados Unidos está pagando un tipo de interés cuando menos interesante concretamente el 4,4 por a un año vista de hecho como podemos ver en este otro gráfico los ingresos de beride hathaway Es decir de Warren buffett que proceden de intereses cobrados sobre su cartera de deuda Pública han ido en aumento Durante los últimos años hasta el punto de ubicarse en el nivel nominal más elevado de toda la historia pero esta en realidad no puede ser la historia completa y es que el propio Warren buffett es consciente de que los tipos de interés a corto plazo en Estados Unidos muy probablemente van a ir descendiendo Durante los próximos meses por tanto si mantienes tanta liquidez invertida en un activo deuda pública estadounidense a corto plazo cuyo rendimiento nominal va a ir bajando eso no puede ser a medio plazo un magnífico negocio si estás ahí no es tanto porque te estés cerrando unos ingresos financieros a largo plazo en forma de intereses que consideres suficientemente atractivos no si estás ahí Es porque juzgas que la alternativa a estar ahí es decir mantenerte muy expuesto en bolsa es todavía peor de hecho el pasado mayo hace apenas 3 meses durante la junta general de accionistas del y hathaway Warren buffett Fue bastante claro a este respecto en las condiciones actuales no me importa en absoluto incrementar nuestra posición de tesorería porque cuando analizo las alternativas disponibles en el mercado bursátil y cuando pienso en lo que está sucediendo en el conjunto del planeta Considero que en estos momentos la tesorería resulta bastante atractiva en este sentido Por cierto si te quieres mantener en liquidez y quieres además tener una rentabilidad atractiva sobre esa liquidez puedes hacerlo a través de uno de los productos financieros que ofrece la entidad que padrina este vídeo freedom 24 concretamente freedom 24 cuenta con un plan de ahorro diario La llamada cuenta d que remunera la liquidez en euros al 3,62 por y la liquidez en dólares al 5,32 por. son intereses que se devengan diariamente y que también van cambiando diariamente porque son intereses que se determinan en función de las condiciones diarias del mercado pero precisamente por ello se trata de un producto de ahorro inmediatamente reembolsable en cualquier momento preservando todos los intereses devengados hasta entonces Y además es un producto que combina liquidez con rentabilidad y que está protegido por un importe de hasta 20.000 por el fondo de compensación al inversor de chipre si quieres obtener más información sobre este producto de freedon 24 que te permite combinar liquidez y rentabilidad puedes obtenerla pinchando sobre el enlace que aparece en la caja de descripción de este vídeo o en el comentario destacado dicho de otra manera si Warren buffett mantiene sus posiciones de liquidez en máximos históricos es porque considera que a los actuales precios de la bolsa al menos en términos generales porque obviamente Warren buffett no invierte en pequeñas compañías que al menos en términos ales los precios de la bolsa no compensan el riesgo que lleva pareja pensad que Warren buffet es lo que se conoce como un inversor en valor es decir un inversor que únicamente compra cuando Observa que el precio de una acción se haya muy por debajo del valor intrínseco del valor esperable a largo plazo de esa acción Warren buffett solo invierte en bolsa cuando haya lo que él y muchos otros value investors denominan margen de seguridad un colchón que de seguridad al inversor entre el valor intrínseco de la acción y el precio al que cotiza esa acción y si ahora mismo Warren buffet mantiene toda esa montaña de liquidez solo puede ser porque ahora mismo Warren buffett no esté encontrando ya digo en términos generales en términos agregados buenas oportun unidades de inversión con un margen de seguridad suficiente o bien encuentra acciones con un margen de seguridad demasiado pequeñito como para que le compense asumir el riesgo o directamente encuentra acciones con un margen de seguridad negativo es decir acciones que están cotizando a un precio superior a su valor esperable a largo plazo a sus 93 años parece que sigue aplicando una de sus principales má de inversión sé temeroso cuando los demás son codiciosos y sé codicioso cuando los demás son temerosos y a tenor de la trayectoria seguida por la bolsa en este comienzo del tercer trimestre de 2024 parece que ha seguido aplicándola con éxito'}]}"
      ]
     },
     "execution_count": 14,
     "metadata": {},
     "output_type": "execute_result"
    }
   ],
   "source": [
    "info_videos"
   ]
  },
  {
   "cell_type": "code",
   "execution_count": null,
   "id": "732f4d18-6cc4-4ae6-8539-e16c9c10f17c",
   "metadata": {},
   "outputs": [],
   "source": []
  },
  {
   "cell_type": "code",
   "execution_count": null,
   "id": "666f0146-e5a7-4ee6-b198-61749fcf23c3",
   "metadata": {},
   "outputs": [],
   "source": []
  },
  {
   "cell_type": "code",
   "execution_count": null,
   "id": "9d79201d-e9f3-4308-a474-ad196d236955",
   "metadata": {},
   "outputs": [],
   "source": []
  },
  {
   "cell_type": "code",
   "execution_count": null,
   "id": "35e64692-5a1d-4bd2-bc57-56a777bb1280",
   "metadata": {},
   "outputs": [],
   "source": []
  },
  {
   "cell_type": "code",
   "execution_count": null,
   "id": "8b0be800-3981-48cd-b977-209aad916c91",
   "metadata": {},
   "outputs": [],
   "source": []
  },
  {
   "cell_type": "code",
   "execution_count": null,
   "id": "17d2222a-97a1-4b82-9908-9f7836cf22f5",
   "metadata": {},
   "outputs": [],
   "source": []
  },
  {
   "cell_type": "code",
   "execution_count": null,
   "id": "e2863895-bb17-451e-aea8-7df68230d7b7",
   "metadata": {},
   "outputs": [],
   "source": []
  },
  {
   "cell_type": "code",
   "execution_count": null,
   "id": "484c9abe-3244-4a25-b408-1872ab99e1bb",
   "metadata": {},
   "outputs": [],
   "source": [
    "### RESEARCHER ###\n",
    "\n",
    "# Agent:\n",
    "reasarcher = Agent(\n",
    "    role=\"Physicist Researcher\",\n",
    "    goal='Understand all sections of the research paper and describe the important information',\n",
    "    backstory=\"\"\"You work investigating at the Physics department of the university.\n",
    "                  A new paper has been published and you need to extract\n",
    "                  the main information and provide the information to\n",
    "                  your co-workers.You have a knack for dissecting complex\n",
    "                  research papers\"\"\",\n",
    "    verbose=True,\n",
    "    llm= llm,\n",
    "    tools=[tool_instance],\n",
    "    allow_delegation=False\n",
    "    )\n",
    "\n",
    "\n",
    "# Tasks:\n",
    "task_research = Task(\n",
    "    description=\"\"\"Conduct an in-depth analysis of the published research paper\"\"\",\n",
    "    expected_output=\"\"\"Your final answer must be a full analysis report of the research paper\"\"\",\n",
    "    agent=reasarcher,\n",
    "    output_file='researcher_analysis.md' \n",
    "\n",
    ")"
   ]
  },
  {
   "cell_type": "markdown",
   "id": "4dff5769-3ce2-4702-a85f-271106374dde",
   "metadata": {},
   "source": [
    "- Resumidor"
   ]
  },
  {
   "cell_type": "markdown",
   "id": "6f2706c5-aff7-434c-bad4-ceb58ca2a402",
   "metadata": {},
   "source": [
    "- Escritor"
   ]
  },
  {
   "cell_type": "markdown",
   "id": "f25b9842-11bc-46b1-b1a5-b894c0883108",
   "metadata": {},
   "source": [
    "- Editor"
   ]
  },
  {
   "cell_type": "code",
   "execution_count": null,
   "id": "14aaac3d-296c-4947-ace0-6b331e4915fd",
   "metadata": {},
   "outputs": [],
   "source": []
  },
  {
   "cell_type": "code",
   "execution_count": null,
   "id": "62e6317e-884a-4b86-a867-5f5213726e3f",
   "metadata": {},
   "outputs": [],
   "source": []
  },
  {
   "cell_type": "code",
   "execution_count": null,
   "id": "4902b6a4-3803-4b82-a07a-4205526c87b9",
   "metadata": {},
   "outputs": [],
   "source": []
  },
  {
   "cell_type": "code",
   "execution_count": null,
   "id": "ed2d1975-2fef-4afb-9628-cb213530fe7e",
   "metadata": {},
   "outputs": [],
   "source": [
    "### WRITER ###\n",
    "\n",
    "# Agent\n",
    "writer = Agent(\n",
    "    role=\"Physicist Writer\",\n",
    "    goal= 'Craft a detailed report to present to your co-workers',\n",
    "    backstory=\"\"\"You are working on writing a detailed summary of a research paper.\n",
    "                  Use the content of the Physicist Researcher to develop\n",
    "                  a comprehensive summary of the research paper\"\"\",\n",
    "    verbose=True,\n",
    "    llm= llm,\n",
    "    allow_delegation=False,\n",
    ")\n",
    "\n",
    "# Tasks\n",
    "task_writer = Task(\n",
    "    description=\"\"\"Extract the most important topics and key components of the report\n",
    "                    developed by the Physicist Researcher.\"\"\",\n",
    "    expected_output=\"\"\"Your final answer must be a summary \n",
    "                        to understand report for your co-workers\"\"\",\n",
    "    agent=writer,\n",
    "    output_file='writer_summary.md' \n",
    "\n",
    ")\n",
    "\n",
    "# CREWAI KICKOFF\n",
    "\n",
    "Crew = Crew(agents=[reasarcher, writer],\n",
    "            tasks=[task_research, task_writer],\n",
    "            verbose=99)"
   ]
  },
  {
   "cell_type": "code",
   "execution_count": null,
   "id": "12a99bf5-5f53-4e4f-9201-640c20af8b9e",
   "metadata": {},
   "outputs": [],
   "source": []
  },
  {
   "cell_type": "code",
   "execution_count": null,
   "id": "aa309e30-a380-49ec-967a-5a25b75e137f",
   "metadata": {},
   "outputs": [],
   "source": []
  },
  {
   "cell_type": "code",
   "execution_count": null,
   "id": "5165b0e2-a583-42f9-9329-5ae762b9ab8c",
   "metadata": {},
   "outputs": [],
   "source": []
  },
  {
   "cell_type": "code",
   "execution_count": null,
   "id": "37dbcea6-a795-4179-9c2b-a91c012ede0b",
   "metadata": {},
   "outputs": [],
   "source": []
  },
  {
   "cell_type": "code",
   "execution_count": null,
   "id": "227634f5-2d2a-4136-bbc0-16e86244a901",
   "metadata": {},
   "outputs": [],
   "source": []
  },
  {
   "cell_type": "code",
   "execution_count": null,
   "id": "15a625e6-7ed2-4d46-a66f-12555d8fc7c5",
   "metadata": {},
   "outputs": [],
   "source": []
  },
  {
   "cell_type": "code",
   "execution_count": null,
   "id": "aaf1bf45-960a-4817-a845-204ef840728a",
   "metadata": {},
   "outputs": [],
   "source": []
  },
  {
   "cell_type": "markdown",
   "id": "8389b998-2b36-43c7-80a9-a001e10bb812",
   "metadata": {},
   "source": [
    "# <u>LABORATORIO</u>"
   ]
  },
  {
   "cell_type": "markdown",
   "id": "68864bca-b5d9-42e7-b4c1-9d07c3813843",
   "metadata": {},
   "source": [
    "## Envio de mail"
   ]
  },
  {
   "cell_type": "code",
   "execution_count": 20,
   "id": "735973d8-0d3b-41ba-b396-34699b94b654",
   "metadata": {},
   "outputs": [],
   "source": [
    "sender = \"regueiro.u@gmail.com\"\n",
    "suscriptores = [\"regueiro.urko@gmail.com\"]\n",
    "\n",
    "subject= \"Noticias semanales\"\n",
    "\n",
    "with open('index.html', 'r') as file:\n",
    "        html_template = file.read()\n",
    "    \n",
    "message = html_template\n",
    "\n",
    "#email_body = f\"Subject: {subject} \\n\\n {message}\"\n",
    "\n",
    "#server = smtplib.SMTP(\"smtp.gmail.com\", 587)\n",
    "#server.starttls()\n",
    "\n",
    "#server.login(sender, EMAIL_PASS)\n",
    "\n",
    "#server.sendmail(sender, suscriptores[0], email_body)"
   ]
  },
  {
   "cell_type": "code",
   "execution_count": null,
   "id": "0060585e-83b6-45c9-abfc-ab5a4a0e7212",
   "metadata": {},
   "outputs": [],
   "source": [
    "SMTP.sendmail?"
   ]
  },
  {
   "cell_type": "code",
   "execution_count": 21,
   "id": "69a03bb9-006d-483f-9403-c02a0bc7d451",
   "metadata": {},
   "outputs": [
    {
     "data": {
      "text/plain": [
       "(221,\n",
       " b'2.0.0 closing connection 5b1f17b1804b1-4256b0cee27sm192091595e9.48 - gsmtp')"
      ]
     },
     "execution_count": 21,
     "metadata": {},
     "output_type": "execute_result"
    }
   ],
   "source": [
    "from email.message import EmailMessage\n",
    "import smtplib\n",
    "\n",
    "recipient = suscriptores[0]\n",
    "\n",
    "email = EmailMessage()\n",
    "email[\"From\"] = sender\n",
    "email[\"To\"] = recipient\n",
    "email[\"Subject\"] = \"Sent from Python!\"\n",
    "email.set_content(message, subtype=\"html\")\n",
    "\n",
    "#server = smtplib.SMTP_SSL(sender)\n",
    "# Or if TLS is used:\n",
    "server = smtplib.SMTP(\"smtp.gmail.com\", 587)\n",
    "server.starttls()\n",
    "\n",
    "server.login(sender, EMAIL_PASS)\n",
    "\n",
    "server.login(sender, EMAIL_PASS)\n",
    "server.sendmail(sender, recipient, email.as_string())\n",
    "server.quit()"
   ]
  },
  {
   "cell_type": "markdown",
   "id": "09eb3888-110c-40cf-8d2c-0cf458f9f640",
   "metadata": {},
   "source": [
    "## Carga y split de documentos"
   ]
  },
  {
   "cell_type": "code",
   "execution_count": 3,
   "id": "f5e46286-6b14-45d3-abf5-1fb9931e94fe",
   "metadata": {},
   "outputs": [],
   "source": [
    "def doc_loader(pdf):\n",
    "    pdf_loader = PyPDFLoader(pdf)\n",
    "    text_splitter = RecursiveCharacterTextSplitter(chunk_size= 1024, chunk_overlap= 100)\n",
    "    doc = pdf_loader.load_and_split(text_splitter)\n",
    "\n",
    "    return doc"
   ]
  },
  {
   "cell_type": "code",
   "execution_count": 4,
   "id": "21efc1f5-1338-4a14-b970-8f178b5e4c30",
   "metadata": {},
   "outputs": [],
   "source": [
    "doc = doc_loader(\"docs/tfg.pdf\")"
   ]
  },
  {
   "cell_type": "markdown",
   "id": "c8dac0e5-e8e1-4fe3-978c-427eeda080b8",
   "metadata": {},
   "source": [
    "## Almacenamiento en la VDB de Qdrant"
   ]
  },
  {
   "cell_type": "code",
   "execution_count": 5,
   "id": "cbcadc7d-6c08-4511-b816-1567f25408f4",
   "metadata": {},
   "outputs": [
    {
     "data": {
      "text/plain": [
       "True"
      ]
     },
     "execution_count": 5,
     "metadata": {},
     "output_type": "execute_result"
    }
   ],
   "source": [
    "# Creo una colección en la base de datos vectorial\n",
    "\n",
    "client = QdrantClient(url=QDRANT_URL,\n",
    "                      api_key=QDRANT_API_KEY\n",
    "                     )\n",
    "\n",
    "\n",
    "client.create_collection(collection_name=\"tfg\",\n",
    "                         vectors_config={\"content\": VectorParams(size=1536, distance=Distance.COSINE)}\n",
    "                        )"
   ]
  },
  {
   "cell_type": "code",
   "execution_count": 6,
   "id": "de9b284c-04ed-4fc6-b69e-500a5050ead5",
   "metadata": {},
   "outputs": [],
   "source": [
    "# Almaceno documentos en la base de datos vectorial:\n",
    "\n",
    "embedding = OpenAIEmbeddings()\n",
    "\n",
    "def chunked_metadata(doc, client=client, collection_name=\"tfg\"):\n",
    "\n",
    "    chunked_metadata = []\n",
    "\n",
    "    for item in doc:\n",
    "\n",
    "      id = str(uuid4())\n",
    "      content = item.page_content\n",
    "      source = item.metadata[\"source\"]\n",
    "      page = item.metadata[\"page\"]\n",
    "\n",
    "      content_vector = embedding.embed_documents([content])[0]\n",
    "      vector_dict = {\"content\": content_vector}\n",
    "\n",
    "      payload = {\"page_content\": content,\n",
    "                 \"metadata\": {\"id\": id,\n",
    "                              \"source\": source,\n",
    "                              \"page\": page,\n",
    "                             }\n",
    "                }\n",
    "\n",
    "\n",
    "      metadata = PointStruct(id=id, vector=vector_dict, payload=payload)\n",
    "      chunked_metadata.append(metadata)\n",
    "\n",
    "    client.upsert(collection_name=collection_name,\n",
    "                  wait=True,\n",
    "                  points=chunked_metadata)"
   ]
  },
  {
   "cell_type": "code",
   "execution_count": 7,
   "id": "8bd2ce66-6290-4b96-ad79-659f2b218abf",
   "metadata": {},
   "outputs": [],
   "source": [
    "chunked_metadata(doc)"
   ]
  },
  {
   "cell_type": "markdown",
   "id": "5fa8bc5b-2f9c-40c2-8ce1-a2d19db48a3a",
   "metadata": {},
   "source": [
    "### Reviso que colecciones tenemos en el cluster0:"
   ]
  },
  {
   "cell_type": "code",
   "execution_count": null,
   "id": "fbfc0f6b-4c6e-4627-ab26-139a26f524a0",
   "metadata": {},
   "outputs": [],
   "source": [
    "client.get_collections()"
   ]
  },
  {
   "cell_type": "code",
   "execution_count": 42,
   "id": "a41e5fef-7e09-45b7-a013-bb5ab4f91233",
   "metadata": {},
   "outputs": [
    {
     "name": "stdout",
     "output_type": "stream",
     "text": [
      "Points: 113 \n"
     ]
    }
   ],
   "source": [
    "attention_collection = client.get_collection(\"tfg\")\n",
    "\n",
    "print(f\"Points: {attention_collection.points_count} \")"
   ]
  },
  {
   "cell_type": "code",
   "execution_count": 8,
   "id": "94c58dc3-82b7-4c5a-ba2f-f7ab2bc143bd",
   "metadata": {},
   "outputs": [
    {
     "data": {
      "text/plain": [
       "[ScoredPoint(id='0b349987-b9c8-4f9f-8795-b28ddbf8a430', version=0, score=0.7982359, payload={'page_content': 'para su archivo, consulta y empleo para usos académicos y de investigación con la\\nmención específica al autor.\\nEn Santiago de Compostela, a 6 de Febrero de 2023. Firmado,'}, vector=None, shard_key=None),\n",
       " ScoredPoint(id='b121feff-8762-492d-a0df-82223ed98710', version=0, score=0.7963041, payload={'page_content': '1. Introducción\\nEn la actualidad se hace necesaria una transición energética hacia la electrifica-\\nción debido a la urgencia de reducir las emisiones de CO2y la escasez, cada vez\\nmayor, de los combustibles fósiles. En el ámbito de la automoción, la industria es-\\ntá tratando de sustituir los vehículos de combustión (VCs) convencionales por una\\nnueva generación de vehículos eléctricos (VEs) e híbridos (VHs) con el objetivo de\\nreducir los gases de efecto invernadero.\\nComo en toda maquinaria, los lubricantes juegan un papel fundamental en la\\nvida útil de sus componentes, reduciendo la fricción, protegiéndolos de la corro-\\nsión y trasfiriendo el calor generado. Los nuevos VEs y VHs, a diferencia de los\\nVCs, contienen una mayor cantidad de componentes electrónicos en su sistema de\\npropulsión eléctrico y, sin embargo, estos siguen utilizando lubricantes de automo-\\nción convencionales. Se hace necesario por tanto, el estudio de nuevos lubricantes'}, vector=None, shard_key=None),\n",
       " ScoredPoint(id='d84738fa-5d30-4f25-9c09-9e91778c8513', version=0, score=0.79592705, payload={'page_content': 'FACULTAD DE FÍSICA\\nGRAO EN FÍSICA\\nCurso 2022-23\\nTRABAJO DE FIN DE GRADO\\nCARACTERIZACIÓN DE LUBRICANTES:CONDUCTIVIDAD ELÉCTRICA Y TENSIÓNSUPERFICIAL\\nAutor:\\nUrko Regueiro Ramos\\nTutor:\\nAlfredo José Amigo Pombo\\nDepartamento de Física Aplicada\\nCotutor:\\nÓscar Giner Rajala\\nDepartamento de Física Aplicada\\nFebrero 2023\\nO autor autoriza a consulta e emprego desta memoria para uso académico e de investigación (autorización detallada nas páxinas interiores).'}, vector=None, shard_key=None),\n",
       " ScoredPoint(id='aeea2ae5-4a06-4166-9283-935039f61474', version=0, score=0.7929298, payload={'page_content': 'Facultad de Física\\nGrado en Física\\nCurso 2022-23\\nTRABAJO DE FIN DE GRADO\\nCARACTERIZACIÓN DE LUBRICANTES: CONDUCTIVIDAD ELÉCTRICA Y TEN-\\nSIÓN SUPERFICIAL\\nAutor: Urko Regueiro Ramos\\nTutor: Alfredo José Amigo Pombo ,Departamento de Física Aplicada\\nCotutor: Óscar Giner Rajala ,Departamento de Física Aplicada\\nFecha de presentación: Febrero 2023'}, vector=None, shard_key=None),\n",
       " ScoredPoint(id='67250a15-aa36-422f-b70d-9c23070f687b', version=0, score=0.7907448, payload={'page_content': 'Los agregados moleculares son estructuras compuestas por moléculas de un\\nsurfactante. Cuando se añade un surfactante a un aceite, la parte polar de sus mo-\\nléculas se desplazará a la superficie para evitar el contacto con este. Si se aumenta\\nsu concentración, las moléculas empezaran a ocupar toda la superficie disponible\\nhasta saturarla. Cuando la concentración de surfactante sobrepasa este punto críti-\\nco, conocido como concentración micelar crítica (CMC), las moléculas empiezan a\\nagruparse formando estructuras en seno de la mezcla, como se ilustra en la Figura\\n4, que les permiten aislar sus partes polares del aceite.\\n4'}, vector=None, shard_key=None)]"
      ]
     },
     "execution_count": 8,
     "metadata": {},
     "output_type": "execute_result"
    }
   ],
   "source": [
    "# Hagamos una busqueda para ver que documentos son más similares\n",
    "\n",
    "client.search(\n",
    "    collection_name=\"tfg\",\n",
    "    query_vector=(\"content\", embedding.embed_documents([\"resumen\"])[0]),\n",
    "    with_payload=[\"page_content\", \"source\"],\n",
    "    limit=5\n",
    ")"
   ]
  },
  {
   "cell_type": "markdown",
   "id": "fb76ee48-b5db-4fa0-8467-daadb61d48bf",
   "metadata": {},
   "source": [
    "## Inicializar la base de datos vectorial"
   ]
  },
  {
   "cell_type": "code",
   "execution_count": 3,
   "id": "a5f994f1-9ca4-4efa-a90f-d1f08c5baae6",
   "metadata": {},
   "outputs": [],
   "source": [
    "# Initialize vector store\n",
    "client = QdrantClient(url=QDRANT_URL,\n",
    "                      api_key=QDRANT_API_KEY\n",
    "                     )\n",
    "\n",
    "embedding = OpenAIEmbeddings()\n",
    "\n",
    "vectorstore = Qdrant(client=client,\n",
    "                     collection_name=\"tfg\",\n",
    "                     embeddings=embedding,\n",
    "                     vector_name=\"content\")"
   ]
  },
  {
   "cell_type": "code",
   "execution_count": 49,
   "id": "1be8261a-2d13-417d-bb7f-e6482d8221d0",
   "metadata": {},
   "outputs": [],
   "source": [
    "# Downlad prompt template\n",
    "\n",
    "rag_prompt = hub.pull(\"rlm/rag-prompt\")"
   ]
  },
  {
   "cell_type": "code",
   "execution_count": 64,
   "id": "9a6e6438-5566-45cc-87b0-a739f9202c6e",
   "metadata": {},
   "outputs": [
    {
     "data": {
      "text/plain": [
       "\"You are an assistant for question-answering tasks. Use the following pieces of retrieved context to answer the question. If you don't know the answer, just say that you don't know. Use four sentences maximum and keep the answer concise.\\nQuestion: {question} \\nContext: {context} \\nAnswer:\""
      ]
     },
     "execution_count": 64,
     "metadata": {},
     "output_type": "execute_result"
    }
   ],
   "source": [
    "rag_prompt.messages[0].prompt.template"
   ]
  },
  {
   "cell_type": "markdown",
   "id": "3d9828c8-387d-48a2-a666-4b04d0d1c506",
   "metadata": {},
   "source": [
    "## RAG Pipeline"
   ]
  },
  {
   "cell_type": "code",
   "execution_count": 4,
   "id": "f4ba8769-e3c8-48c0-aed3-5a972eaf2ea3",
   "metadata": {},
   "outputs": [],
   "source": [
    "rag_prompt = '''\n",
    "You are an assistant for summary tasks. \\\n",
    "Use the following pieces of retrieved context to summarize. \\\n",
    "If you don't know the answer, just say that you don't know. \\\n",
    "\"{context}\" CONCISE SUMMARY: \n",
    "'''\n",
    "prompt = PromptTemplate(template=rag_prompt,\n",
    "                        input_variables=[\"context\", \"question\"])"
   ]
  },
  {
   "cell_type": "code",
   "execution_count": 5,
   "id": "5fae6637-fa07-4f28-a80b-75cfd77e4a47",
   "metadata": {},
   "outputs": [],
   "source": [
    "handler = StdOutCallbackHandler()\n",
    "retriever = vectorstore.as_retriever()\n",
    "\n",
    "llm = ChatGroq(model=\"llama3-70b-8192\",\n",
    "               groq_api_key= GROQ_API_KEY)\n",
    "\n",
    "# Retrieval qa chain\n",
    "qa_chain = RetrievalQA.from_chain_type(llm=llm,\n",
    "                                       chain_type=\"stuff\",\n",
    "                                       callbacks=[handler],\n",
    "                                       retriever=retriever,\n",
    "                                       chain_type_kwargs={\"prompt\": prompt})"
   ]
  },
  {
   "cell_type": "code",
   "execution_count": 7,
   "id": "d1b5ef26-6698-4df0-b5b0-0bfeb05de5a2",
   "metadata": {},
   "outputs": [
    {
     "name": "stdout",
     "output_type": "stream",
     "text": [
      "\n",
      "\n",
      "\u001b[1m> Entering new RetrievalQA chain...\u001b[0m\n",
      "\n",
      "\u001b[1m> Finished chain.\u001b[0m\n"
     ]
    },
    {
     "data": {
      "text/plain": [
       "'Aunque no hay un resumen explícito en el texto, se puede inferir que el estudio se enfoca en la caracterización de lubricantes, específicamente en la relación entre la longitud de la cadena del alcohol y la conductividad eléctrica y la tensión superficial. El estudio encontró que la longitud de la cadena del alcohol juega un papel fundamental en la estabilidad de la mezcla y que el aumento de la conductividad eléctrica se debe a la formación de agregados moleculares.'"
      ]
     },
     "execution_count": 7,
     "metadata": {},
     "output_type": "execute_result"
    }
   ],
   "source": [
    "# Invoke qa_chain gpt-3.5-turbo\n",
    "\n",
    "qa_chain.invoke({\"query\": \"Cual es el resumen del estudio?\"})[\"result\"]"
   ]
  },
  {
   "cell_type": "code",
   "execution_count": 73,
   "id": "4b955500-950f-4098-b34e-21456e0ed18d",
   "metadata": {},
   "outputs": [
    {
     "name": "stdout",
     "output_type": "stream",
     "text": [
      "\n",
      "\n",
      "\u001b[1m> Entering new RetrievalQA chain...\u001b[0m\n",
      "\n",
      "\u001b[1m> Finished chain.\u001b[0m\n"
     ]
    },
    {
     "data": {
      "text/plain": [
       "'Según el texto, los resultados obtenidos de la conductividad eléctrica son:\\n\\n* La conductividad eléctrica aumenta con la concentración de alcohol en la mezcla.\\n* La longitud de la cadena del alcohol juega un papel fundamental en la estabilidad de la mezcla, y se obtienen mejores resultados con alcoholes de cadena larga.\\n* La conductividad eléctrica es mayor en la mezcla de 1-Nonanol que en otras mezclas.\\n* La medida de la conductividad eléctrica puede ser poco certera debido a la inestabilidad de los agregados que se forman en la disolución.\\n\\nNo se mencionan otros resultados específicos de la conductividad eléctrica, pero se habla de la importancia de la longitud de la cadena del alcohol y la concentración de alcohol en la mezcla.'"
      ]
     },
     "execution_count": 73,
     "metadata": {},
     "output_type": "execute_result"
    }
   ],
   "source": [
    "qa_chain.invoke({\"query\": \"Que resultados se obtienen de la conductividad electrica\"})[\"result\"]"
   ]
  },
  {
   "cell_type": "code",
   "execution_count": 16,
   "id": "3aaa598c-5a21-4041-b59d-d9088c8bdfb1",
   "metadata": {},
   "outputs": [
    {
     "name": "stdout",
     "output_type": "stream",
     "text": [
      "\n",
      "\n",
      "\u001b[1m> Entering new RetrievalQA chain...\u001b[0m\n",
      "\n",
      "\u001b[1m> Finished chain.\u001b[0m\n"
     ]
    },
    {
     "data": {
      "text/plain": [
       "{'query': 'Can you analyze the research paper?',\n",
       " 'result': \"I'd be happy to try! However, I need more information about what you would like me to analyze. \\n\\nThe references provided appear to be a list of citations from a research paper, but without the actual paper, it's challenging to provide a comprehensive analysis.\\n\\nCould you please provide more context or clarify what specifically you would like me to analyze? For example, are you looking for an analysis of the methodology, results, conclusions, or something else? Additionally, do you have access to the full paper, and if so, can you share it with me?\"}"
      ]
     },
     "execution_count": 16,
     "metadata": {},
     "output_type": "execute_result"
    }
   ],
   "source": [
    "qa_chain.invoke(\"Can you analyze the research paper?\")"
   ]
  },
  {
   "cell_type": "code",
   "execution_count": 7,
   "id": "ad6a8392-9529-4d44-a410-240800de8b6a",
   "metadata": {},
   "outputs": [
    {
     "data": {
      "text/plain": [
       "PromptTemplate(input_variables=['question'], template='{question}')"
      ]
     },
     "execution_count": 7,
     "metadata": {},
     "output_type": "execute_result"
    }
   ],
   "source": [
    "qa_chain.combine_documents_chain.llm_chain.prompt.messages[1].prompt"
   ]
  },
  {
   "cell_type": "code",
   "execution_count": 6,
   "id": "efa4711b-91f3-40e2-af3e-87480a4578f1",
   "metadata": {},
   "outputs": [],
   "source": [
    "# Create custom tool to use the vector store\n",
    "\n",
    "class MyCustomTool(BaseTool):\n",
    "    name: str = \"Research Paper\"\n",
    "    description: str = \"A tool used to read and understand a research paper for extracting information.\"\n",
    "\n",
    "    def _run(self, argument: str):\n",
    "\n",
    "        if argument == \"string\":\n",
    "            return qa_chain.invoke(\"What is the research paper about?\")\n",
    "        else:\n",
    "            return qa_chain.invoke(argument)\n",
    "\n",
    "tool_instance = MyCustomTool()"
   ]
  },
  {
   "cell_type": "code",
   "execution_count": 7,
   "id": "e0350e05-134d-41dc-8512-b37225744b15",
   "metadata": {},
   "outputs": [],
   "source": [
    "### RESEARCHER ###\n",
    "\n",
    "# Agent\n",
    "reasarcher = Agent(\n",
    "    role=\"Physicist Researcher\",\n",
    "    goal='Understand all sections of the research paper and describe the important information',\n",
    "    backstory=\"\"\"You work investigating at the Physics department of the university.\n",
    "                  A new paper has been published and you need to extract\n",
    "                  the main information and provide the information to\n",
    "                  your co-workers.You have a knack for dissecting complex\n",
    "                  research papers\"\"\",\n",
    "    verbose=True,\n",
    "    llm= llm,\n",
    "    tools=[tool_instance],\n",
    "    allow_delegation=False\n",
    "    )\n",
    "\n",
    "\n",
    "# Tasks\n",
    "task_research = Task(\n",
    "    description=\"\"\"Conduct an in-depth analysis of the published research paper\"\"\",\n",
    "    expected_output=\"\"\"Your final answer must be a full analysis report of the research paper\"\"\",\n",
    "    agent=reasarcher,\n",
    "    output_file='researcher_analysis.md' \n",
    "\n",
    ")\n",
    "\n",
    "\n",
    "### WRITER ###\n",
    "\n",
    "# Agent\n",
    "writer = Agent(\n",
    "    role=\"Physicist Writer\",\n",
    "    goal= 'Craft a detailed report to present to your co-workers',\n",
    "    backstory=\"\"\"You are working on writing a detailed summary of a research paper.\n",
    "                  Use the content of the Physicist Researcher to develop\n",
    "                  a comprehensive summary of the research paper\"\"\",\n",
    "    verbose=True,\n",
    "    llm= llm,\n",
    "    allow_delegation=False,\n",
    ")\n",
    "\n",
    "# Tasks\n",
    "task_writer = Task(\n",
    "    description=\"\"\"Extract the most important topics and key components of the report\n",
    "                    developed by the Physicist Researcher.\"\"\",\n",
    "    expected_output=\"\"\"Your final answer must be a summary \n",
    "                        to understand report for your co-workers\"\"\",\n",
    "    agent=writer,\n",
    "    output_file='writer_summary.md' \n",
    "\n",
    ")\n",
    "\n",
    "# CREWAI KICKOFF\n",
    "\n",
    "Crew = Crew(agents=[reasarcher, writer],\n",
    "            tasks=[task_research, task_writer],\n",
    "            verbose=99)"
   ]
  },
  {
   "cell_type": "code",
   "execution_count": 8,
   "id": "69554ea5-934e-4fc1-9d4c-b5fba4135992",
   "metadata": {},
   "outputs": [
    {
     "name": "stdout",
     "output_type": "stream",
     "text": [
      "\u001b[1m\u001b[95m [DEBUG]: == Working Agent: Physicist Researcher\u001b[00m\n",
      "\u001b[1m\u001b[95m [INFO]: == Starting Task: Conduct an in-depth analysis of the published research paper\u001b[00m\n",
      "\n",
      "\n",
      "\u001b[1m> Entering new CrewAgentExecutor chain...\u001b[0m\n",
      "\u001b[32;1m\u001b[1;3mThought: I need to thoroughly read and understand the research paper to extract the main information.\n",
      "\n",
      "Action: Research Paper\n",
      "Action Input: {\"argument\": \"string\"}\u001b[0m\n",
      "\n",
      "\u001b[1m> Entering new RetrievalQA chain...\u001b[0m\n",
      "\n",
      "\u001b[1m> Finished chain.\u001b[0m\n",
      "\u001b[95m \n",
      "\n",
      "{'query': 'What is the research paper about?', 'result': 'Based on the provided context, here is a concise summary:\\n\\nThe document appears to be a Final Degree Project report in Physics, titled \"Characterization of Lubricants: Electrical Conductivity and Surface Tension\". The author is Urko Regueiro Ramos, and the tutors are Alfredo José Amigo Pombo and Óscar Giner Rajala from the Department of Applied Physics. The report was submitted in February 2023. The references cited in the report include various scientific papers and books related to physics, chemistry, and thermodynamics.'}\n",
      "\u001b[00m\n",
      "\u001b[32;1m\u001b[1;3mThought: Now that I have a general understanding of the research paper, I need to dive deeper into the introduction to understand the research question and objectives.\n",
      "\n",
      "Action: Research Paper\n",
      "Action Input: {\"argument\": \"Introduction\"}\u001b[0m\n",
      "\n",
      "\u001b[1m> Entering new RetrievalQA chain...\u001b[0m\n",
      "\n",
      "\u001b[1m> Finished chain.\u001b[0m\n",
      "\u001b[95m \n",
      "\n",
      "{'query': 'Introduction', 'result': 'Here is a concise summary of the provided text:\\n\\nThe document is a thesis titled \"Characterization of Lubricants: Electrical Conductivity and Surface Tension\" by Urko Regueiro Ramos. The thesis aims to study new lubricants for electric vehicles (EVs) and hybrid vehicles (HVs), which require different lubricant properties than traditional combustion vehicles. The study focuses on the electrical conductivity and surface tension of lubricants, with the goal of developing more suitable lubricants for EVs and HVs.'}\n",
      "\u001b[00m\n",
      "\u001b[32;1m\u001b[1;3mThought: Now that I have an understanding of the introduction, I need to understand the methodology used in the research.\n",
      "\n",
      "Action: Research Paper\n",
      "Action Input: {\"argument\": \"Methodology\"}\u001b[0m\n",
      "\n",
      "\u001b[1m> Entering new RetrievalQA chain...\u001b[0m\n",
      "\n",
      "\u001b[1m> Finished chain.\u001b[0m\n",
      "\u001b[95m \n",
      "\n",
      "{'query': 'Methodology', 'result': 'Here is a concise summary of the text:\\n\\nThe text describes an experimental procedure for characterizing lubricants, specifically measuring their electrical conductivity and surface tension. The procedure involves preparing solutions with different concentrations of alcohols (1-butanol, 1-hexanol, and 1-nonanol) and measuring their surface tension and electrical conductivity at 25°C. The measurements are taken using a tensiometer and a conductimeter, respectively. The equipment is carefully cleaned and prepared between measurements to ensure accurate results.'}\n",
      "\u001b[00m\n",
      "\u001b[32;1m\u001b[1;3mThought: Now that I have an understanding of the methodology, I need to understand the results of the research.\n",
      "\n",
      "Action: Research Paper\n",
      "Action Input: {\"argument\": \"Results\"}\u001b[0m\n",
      "\n",
      "\u001b[1m> Entering new RetrievalQA chain...\u001b[0m\n",
      "\n",
      "\u001b[1m> Finished chain.\u001b[0m\n",
      "\u001b[95m \n",
      "\n",
      "{'query': 'Results', 'result': 'Here is a concise summary of the provided context:\\n\\nThe text appears to be a thesis or research paper in the field of physics, specifically on the characterization of lubricants. The author, Urko Regueiro Ramos, investigates the electrical conductivity and surface tension of lubricants. The paper includes results and discussion sections, with a focus on the measurement of electrical conductivity in polyalphaolefins using different mixtures. The results are presented in a figure, showing the dependence of conductivity on the content of alcohol used.'}\n",
      "\u001b[00m\n",
      "\u001b[32;1m\u001b[1;3mThought: Now that I have an understanding of the results, I need to understand the discussion and conclusion of the research.\n",
      "\n",
      "Action: Research Paper\n",
      "Action Input: {\"argument\": \"Discussion and Conclusion\"}\u001b[0m\n",
      "\n",
      "\u001b[1m> Entering new RetrievalQA chain...\u001b[0m\n",
      "\n",
      "\u001b[1m> Finished chain.\u001b[0m\n",
      "\u001b[95m \n",
      "\n",
      "{'query': 'Discussion and Conclusion', 'result': 'Here is a concise summary of the text:\\n\\nThe study investigates the electrical conductivity of a binary system composed of an apolar liquid and an alcohol. The results show that as the concentration of alcohol increases, ionization occurs, leading to an increase in electrical conductivity. The study proposes an exponential model to describe this behavior and finds that the length of the alcohol chain plays a fundamental role in the stability of the mixture. The study also suggests that the increase in electrical conductivity is due to the formation of molecular aggregates, which is supported by surface tension measurements. The results are in good agreement with literature values.'}\n",
      "\u001b[00m\n",
      "\u001b[32;1m\u001b[1;3mThought: Now that I have all the necessary information, I can compile the final report.\n",
      "\n",
      "Final Answer:\n",
      "\n",
      "**Characterization of Lubricants: Electrical Conductivity and Surface Tension**\n",
      "\n",
      "**Introduction**\n",
      "\n",
      "This thesis, titled \"Characterization of Lubricants: Electrical Conductivity and Surface Tension\", aims to study new lubricants for electric vehicles (EVs) and hybrid vehicles (HVs), which require different lubricant properties than traditional combustion vehicles. The study focuses on the electrical conductivity and surface tension of lubricants, with the goal of developing more suitable lubricants for EVs and HVs.\n",
      "\n",
      "**Methodology**\n",
      "\n",
      "The experimental procedure involves preparing solutions with different concentrations of alcohols (1-butanol, 1-hexanol, and 1-nonanol) and measuring their surface tension and electrical conductivity at 25°C. The measurements are taken using a tensiometer and a conductimeter, respectively. The equipment is carefully cleaned and prepared between measurements to ensure accurate results.\n",
      "\n",
      "**Results**\n",
      "\n",
      "The study investigates the electrical conductivity and surface tension of lubricants. The results show the dependence of conductivity on the content of alcohol used and are presented in a figure.\n",
      "\n",
      "**Discussion and Conclusion**\n",
      "\n",
      "The study finds that as the concentration of alcohol increases, ionization occurs, leading to an increase in electrical conductivity. An exponential model is proposed to describe this behavior, and it is found that the length of the alcohol chain plays a fundamental role in the stability of the mixture. The study suggests that the increase in electrical conductivity is due to the formation of molecular aggregates, which is supported by surface tension measurements. The results are in good agreement with literature values.\n",
      "\n",
      "This comprehensive report provides a thorough analysis of the research paper, covering the introduction, methodology, results, and discussion and conclusion sections.\u001b[0m\n",
      "\n",
      "\u001b[1m> Finished chain.\u001b[0m\n",
      "\u001b[1m\u001b[92m [DEBUG]: == [Physicist Researcher] Task output: **Characterization of Lubricants: Electrical Conductivity and Surface Tension**\n",
      "\n",
      "**Introduction**\n",
      "\n",
      "This thesis, titled \"Characterization of Lubricants: Electrical Conductivity and Surface Tension\", aims to study new lubricants for electric vehicles (EVs) and hybrid vehicles (HVs), which require different lubricant properties than traditional combustion vehicles. The study focuses on the electrical conductivity and surface tension of lubricants, with the goal of developing more suitable lubricants for EVs and HVs.\n",
      "\n",
      "**Methodology**\n",
      "\n",
      "The experimental procedure involves preparing solutions with different concentrations of alcohols (1-butanol, 1-hexanol, and 1-nonanol) and measuring their surface tension and electrical conductivity at 25°C. The measurements are taken using a tensiometer and a conductimeter, respectively. The equipment is carefully cleaned and prepared between measurements to ensure accurate results.\n",
      "\n",
      "**Results**\n",
      "\n",
      "The study investigates the electrical conductivity and surface tension of lubricants. The results show the dependence of conductivity on the content of alcohol used and are presented in a figure.\n",
      "\n",
      "**Discussion and Conclusion**\n",
      "\n",
      "The study finds that as the concentration of alcohol increases, ionization occurs, leading to an increase in electrical conductivity. An exponential model is proposed to describe this behavior, and it is found that the length of the alcohol chain plays a fundamental role in the stability of the mixture. The study suggests that the increase in electrical conductivity is due to the formation of molecular aggregates, which is supported by surface tension measurements. The results are in good agreement with literature values.\n",
      "\n",
      "This comprehensive report provides a thorough analysis of the research paper, covering the introduction, methodology, results, and discussion and conclusion sections.\n",
      "\n",
      "\u001b[00m\n",
      "\u001b[1m\u001b[95m [DEBUG]: == Working Agent: Physicist Writer\u001b[00m\n",
      "\u001b[1m\u001b[95m [INFO]: == Starting Task: Extract the most important topics and key components of the report\n",
      "                    developed by the Physicist Researcher.\u001b[00m\n",
      "\n",
      "\n",
      "\u001b[1m> Entering new CrewAgentExecutor chain...\u001b[0m\n",
      "\u001b[32;1m\u001b[1;3mI now can give a great answer.\n",
      "\n",
      "Final Answer:\n",
      "\n",
      "**Comprehensive Summary of Research Paper: Characterization of Lubricants: Electrical Conductivity and Surface Tension**\n",
      "\n",
      "**Introduction**\n",
      "\n",
      "The research paper \"Characterization of Lubricants: Electrical Conductivity and Surface Tension\" investigates the development of new lubricants for electric vehicles (EVs) and hybrid vehicles (HVs). The study focuses on the electrical conductivity and surface tension of lubricants, which are critical properties for EVs and HVs. The goal is to design more suitable lubricants for these vehicles, which require different lubricant properties than traditional combustion vehicles.\n",
      "\n",
      "**Methodology**\n",
      "\n",
      "The experimental procedure involves preparing solutions with varying concentrations of alcohols (1-butanol, 1-hexanol, and 1-nonanol) and measuring their surface tension and electrical conductivity at 25°C. A tensiometer and a conductimeter are used to take these measurements. To ensure accurate results, the equipment is carefully cleaned and prepared between measurements.\n",
      "\n",
      "**Results**\n",
      "\n",
      "The study examines the electrical conductivity and surface tension of lubricants. The results, presented in a figure, demonstrate the dependence of conductivity on the content of alcohol used. The findings show that as the concentration of alcohol increases, ionization occurs, leading to an increase in electrical conductivity.\n",
      "\n",
      "**Discussion and Conclusion**\n",
      "\n",
      "The study proposes an exponential model to describe the behavior of electrical conductivity. The length of the alcohol chain is found to play a fundamental role in the stability of the mixture. The increase in electrical conductivity is attributed to the formation of molecular aggregates, which is supported by surface tension measurements. The results are in good agreement with literature values. This research provides valuable insights into the development of lubricants for EVs and HVs, highlighting the importance of considering electrical conductivity and surface tension in lubricant design.\n",
      "\n",
      "**Key Findings and Implications**\n",
      "\n",
      "* The study demonstrates the dependence of electrical conductivity on the concentration of alcohol used in lubricants.\n",
      "* The length of the alcohol chain plays a critical role in the stability of the mixture.\n",
      "* The formation of molecular aggregates contributes to the increase in electrical conductivity.\n",
      "* The results have implications for the development of lubricants for electric vehicles and hybrid vehicles.\n",
      "\n",
      "**Recommendations and Future Directions**\n",
      "\n",
      "* Further research is needed to explore the effects of different alcohol concentrations on lubricant properties.\n",
      "* The study's findings can be used to inform the design of lubricants for EVs and HVs.\n",
      "* Future studies should investigate the impact of lubricant properties on EV and HV performance.\n",
      "\n",
      "This comprehensive summary provides a detailed overview of the research paper, covering the introduction, methodology, results, discussion, and conclusion. The report highlights the key findings, implications, and recommendations for future research, making it an invaluable resource for researchers and industry professionals in the field of lubricant development.\u001b[0m\n",
      "\n",
      "\u001b[1m> Finished chain.\u001b[0m\n",
      "\u001b[1m\u001b[92m [DEBUG]: == [Physicist Writer] Task output: **Comprehensive Summary of Research Paper: Characterization of Lubricants: Electrical Conductivity and Surface Tension**\n",
      "\n",
      "**Introduction**\n",
      "\n",
      "The research paper \"Characterization of Lubricants: Electrical Conductivity and Surface Tension\" investigates the development of new lubricants for electric vehicles (EVs) and hybrid vehicles (HVs). The study focuses on the electrical conductivity and surface tension of lubricants, which are critical properties for EVs and HVs. The goal is to design more suitable lubricants for these vehicles, which require different lubricant properties than traditional combustion vehicles.\n",
      "\n",
      "**Methodology**\n",
      "\n",
      "The experimental procedure involves preparing solutions with varying concentrations of alcohols (1-butanol, 1-hexanol, and 1-nonanol) and measuring their surface tension and electrical conductivity at 25°C. A tensiometer and a conductimeter are used to take these measurements. To ensure accurate results, the equipment is carefully cleaned and prepared between measurements.\n",
      "\n",
      "**Results**\n",
      "\n",
      "The study examines the electrical conductivity and surface tension of lubricants. The results, presented in a figure, demonstrate the dependence of conductivity on the content of alcohol used. The findings show that as the concentration of alcohol increases, ionization occurs, leading to an increase in electrical conductivity.\n",
      "\n",
      "**Discussion and Conclusion**\n",
      "\n",
      "The study proposes an exponential model to describe the behavior of electrical conductivity. The length of the alcohol chain is found to play a fundamental role in the stability of the mixture. The increase in electrical conductivity is attributed to the formation of molecular aggregates, which is supported by surface tension measurements. The results are in good agreement with literature values. This research provides valuable insights into the development of lubricants for EVs and HVs, highlighting the importance of considering electrical conductivity and surface tension in lubricant design.\n",
      "\n",
      "**Key Findings and Implications**\n",
      "\n",
      "* The study demonstrates the dependence of electrical conductivity on the concentration of alcohol used in lubricants.\n",
      "* The length of the alcohol chain plays a critical role in the stability of the mixture.\n",
      "* The formation of molecular aggregates contributes to the increase in electrical conductivity.\n",
      "* The results have implications for the development of lubricants for electric vehicles and hybrid vehicles.\n",
      "\n",
      "**Recommendations and Future Directions**\n",
      "\n",
      "* Further research is needed to explore the effects of different alcohol concentrations on lubricant properties.\n",
      "* The study's findings can be used to inform the design of lubricants for EVs and HVs.\n",
      "* Future studies should investigate the impact of lubricant properties on EV and HV performance.\n",
      "\n",
      "This comprehensive summary provides a detailed overview of the research paper, covering the introduction, methodology, results, discussion, and conclusion. The report highlights the key findings, implications, and recommendations for future research, making it an invaluable resource for researchers and industry professionals in the field of lubricant development.\n",
      "\n",
      "\u001b[00m\n"
     ]
    }
   ],
   "source": [
    "result = Crew.kickoff()"
   ]
  },
  {
   "cell_type": "code",
   "execution_count": null,
   "id": "ef70d164-10d1-48cc-a3b4-d4e4b47977d2",
   "metadata": {},
   "outputs": [],
   "source": []
  }
 ],
 "metadata": {
  "kernelspec": {
   "display_name": "Python 3 (ipykernel)",
   "language": "python",
   "name": "python3"
  },
  "language_info": {
   "codemirror_mode": {
    "name": "ipython",
    "version": 3
   },
   "file_extension": ".py",
   "mimetype": "text/x-python",
   "name": "python",
   "nbconvert_exporter": "python",
   "pygments_lexer": "ipython3",
   "version": "3.11.5"
  }
 },
 "nbformat": 4,
 "nbformat_minor": 5
}
