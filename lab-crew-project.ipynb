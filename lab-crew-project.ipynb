{
 "cells": [
  {
   "cell_type": "code",
   "execution_count": 1,
   "id": "644eedc7-62a8-425a-b226-e3241c3a6fca",
   "metadata": {},
   "outputs": [],
   "source": [
    "from uuid import uuid4\n",
    "import os\n",
    "from dotenv import load_dotenv\n",
    "\n",
    "from langchain_community.document_loaders import PyPDFLoader\n",
    "from langchain.text_splitter import RecursiveCharacterTextSplitter\n",
    "from langchain_openai import OpenAIEmbeddings\n",
    "from langchain_groq import ChatGroq\n",
    "from langchain.vectorstores import Qdrant\n",
    "from langchain import hub\n",
    "from langchain.chains import RetrievalQA\n",
    "from langchain.prompts import PromptTemplate, ChatPromptTemplate\n",
    "from langchain.callbacks import StdOutCallbackHandler\n",
    "\n",
    "from qdrant_client import QdrantClient\n",
    "from qdrant_client.models import Distance, VectorParams\n",
    "from qdrant_client.models import PointStruct\n",
    "\n",
    "\n",
    "from crewai import Agent, Task, Crew\n",
    "from crewai_tools import BaseTool"
   ]
  },
  {
   "cell_type": "markdown",
   "id": "e86daa54-982f-4a1f-9ad7-8d0b1b917125",
   "metadata": {},
   "source": [
    "## Cargo claves"
   ]
  },
  {
   "cell_type": "code",
   "execution_count": 2,
   "id": "e1c2fbda-af84-4ba3-90ff-167aedface97",
   "metadata": {},
   "outputs": [],
   "source": [
    "load_dotenv()\n",
    "\n",
    "GROQ_API_KEY = os.getenv('GROQ_API_KEY')\n",
    "QDRANT_API_KEY = os.getenv('QDRANT_API_KEY')\n",
    "QDRANT_URL = os.getenv('QDRANT_URL')\n",
    "OPENAI_API_KEY = os.getenv('OPENAI_API_KEY')"
   ]
  },
  {
   "cell_type": "code",
   "execution_count": null,
   "id": "f064dfd6-4dba-45a0-8908-64393236a967",
   "metadata": {},
   "outputs": [],
   "source": [
    "from qdrant_client import QdrantClient\n",
    "\n",
    "qdrant_client = QdrantClient(\n",
    "    url=\"https://7fb9acbe-a3aa-4e57-94c0-c496d78947cf.us-east4-0.gcp.cloud.qdrant.io:6333\", \n",
    "    api_key=\"Sf0twa2JRMLttZ9Geb-xfgx4Q_xoWqO_V18vdNwzY0WqmY7a3d6jGw\",\n",
    ")"
   ]
  },
  {
   "cell_type": "markdown",
   "id": "09eb3888-110c-40cf-8d2c-0cf458f9f640",
   "metadata": {},
   "source": [
    "## Carga y split de documentos"
   ]
  },
  {
   "cell_type": "code",
   "execution_count": 3,
   "id": "f5e46286-6b14-45d3-abf5-1fb9931e94fe",
   "metadata": {},
   "outputs": [],
   "source": [
    "def doc_loader(pdf):\n",
    "    pdf_loader = PyPDFLoader(pdf)\n",
    "    text_splitter = RecursiveCharacterTextSplitter(chunk_size= 512, chunk_overlap= 50)\n",
    "    doc = pdf_loader.load_and_split(text_splitter)\n",
    "\n",
    "    return doc"
   ]
  },
  {
   "cell_type": "code",
   "execution_count": 4,
   "id": "21efc1f5-1338-4a14-b970-8f178b5e4c30",
   "metadata": {},
   "outputs": [],
   "source": [
    "doc = doc_loader(\"docs/tfg_paula.pdf\")"
   ]
  },
  {
   "cell_type": "code",
   "execution_count": 21,
   "id": "45886d5e-4d80-40d0-b3a0-ddd8ffff260f",
   "metadata": {},
   "outputs": [
    {
     "data": {
      "text/plain": [
       "'Trabajo de Fin de Grado Influencia del microbioma vaginal en el parto pretérmino espontáneo  Influencia del microbioma vaxinal nel parto pretérmino espontáneo  Vaginal microbiome influence in spontaneous pre-term birth                Autora: Paula Sofía Simón Alonso Tutor: Dr. Carlos López Ramón y Cajal Cotutor: Dr. Emilio Couceiro Naveira Departamento: Ginecología y Obstetricia   Junio 2024 Trabajo de Fin de Grao presentado en la Facultade de Medicina y Odontología de la Universidad de Santiago de'"
      ]
     },
     "execution_count": 21,
     "metadata": {},
     "output_type": "execute_result"
    }
   ],
   "source": [
    "doc[0].page_content"
   ]
  },
  {
   "cell_type": "markdown",
   "id": "c8dac0e5-e8e1-4fe3-978c-427eeda080b8",
   "metadata": {},
   "source": [
    "## Almacenamiento en la VDB de Qdrant"
   ]
  },
  {
   "cell_type": "code",
   "execution_count": 5,
   "id": "cbcadc7d-6c08-4511-b816-1567f25408f4",
   "metadata": {},
   "outputs": [
    {
     "data": {
      "text/plain": [
       "True"
      ]
     },
     "execution_count": 5,
     "metadata": {},
     "output_type": "execute_result"
    }
   ],
   "source": [
    "# Creo una colección en la base de datos vectorial\n",
    "\n",
    "client = QdrantClient(url=QDRANT_URL,\n",
    "                      api_key=QDRANT_API_KEY\n",
    "                     )\n",
    "\n",
    "\n",
    "client.create_collection(collection_name=\"tfg\",\n",
    "                         vectors_config={\"content\": VectorParams(size=1536, distance=Distance.COSINE)}\n",
    "                        )"
   ]
  },
  {
   "cell_type": "code",
   "execution_count": 22,
   "id": "de9b284c-04ed-4fc6-b69e-500a5050ead5",
   "metadata": {},
   "outputs": [],
   "source": [
    "# Almaceno documentos en la base de datos vectorial:\n",
    "\n",
    "embedding = OpenAIEmbeddings()\n",
    "\n",
    "def chunked_metadata(doc, client=client, collection_name=\"tfg\"):\n",
    "\n",
    "    chunked_metadata = []\n",
    "\n",
    "    for item in doc:\n",
    "\n",
    "      id = str(uuid4())\n",
    "      content = item.page_content\n",
    "      source = item.metadata[\"source\"]\n",
    "      page = item.metadata[\"page\"]\n",
    "\n",
    "      content_vector = embedding.embed_documents([content])[0]\n",
    "      vector_dict = {\"content\": content_vector}\n",
    "\n",
    "      payload = {\"page_content\": content,\n",
    "                 \"metadata\": {\"id\": id,\n",
    "                              \"source\": source,\n",
    "                              \"page\": page,\n",
    "                             }\n",
    "                }\n",
    "\n",
    "\n",
    "      metadata = PointStruct(id=id, vector=vector_dict, payload=payload)\n",
    "      chunked_metadata.append(metadata)\n",
    "\n",
    "    client.upsert(collection_name=collection_name,\n",
    "                  wait=True,\n",
    "                  points=chunked_metadata)"
   ]
  },
  {
   "cell_type": "code",
   "execution_count": 8,
   "id": "8bd2ce66-6290-4b96-ad79-659f2b218abf",
   "metadata": {},
   "outputs": [],
   "source": [
    "chunked_metadata(doc)"
   ]
  },
  {
   "cell_type": "code",
   "execution_count": 6,
   "id": "fbfc0f6b-4c6e-4627-ab26-139a26f524a0",
   "metadata": {},
   "outputs": [
    {
     "data": {
      "text/plain": [
       "CollectionsResponse(collections=[CollectionDescription(name='tfg_paula'), CollectionDescription(name='tfg')])"
      ]
     },
     "execution_count": 6,
     "metadata": {},
     "output_type": "execute_result"
    }
   ],
   "source": [
    "client.get_collections()"
   ]
  },
  {
   "cell_type": "code",
   "execution_count": 42,
   "id": "a41e5fef-7e09-45b7-a013-bb5ab4f91233",
   "metadata": {},
   "outputs": [
    {
     "name": "stdout",
     "output_type": "stream",
     "text": [
      "Points: 113 \n"
     ]
    }
   ],
   "source": [
    "attention_collection = client.get_collection(\"tfg\")\n",
    "\n",
    "print(f\"Points: {attention_collection.points_count} \")"
   ]
  },
  {
   "cell_type": "code",
   "execution_count": 43,
   "id": "94c58dc3-82b7-4c5a-ba2f-f7ab2bc143bd",
   "metadata": {},
   "outputs": [
    {
     "data": {
      "text/plain": [
       "[ScoredPoint(id='df0a7089-d9c2-4c57-bcf4-316ba75da51f', version=0, score=0.86286503, payload={'page_content': 'Los agregados moleculares son estructuras compuestas por moléculas de un\\nsurfactante. Cuando se añade un surfactante a un aceite, la parte polar de sus mo-\\nléculas se desplazará a la superficie para evitar el contacto con este. Si se aumenta\\nsu concentración, las moléculas empezaran a ocupar toda la superficie disponible\\nhasta saturarla. Cuando la concentración de surfactante sobrepasa este punto críti-\\nco, conocido como concentración micelar crítica (CMC), las moléculas empiezan a'}, vector=None, shard_key=None),\n",
       " ScoredPoint(id='8d4f8af8-0c6a-4541-a5ed-bea1e80aaaad', version=0, score=0.84515244, payload={'page_content': 'gar a un intercambio de moléculas de alcohol cargadas, saltando la carga negativa\\nentre ellos mientras la positiva queda inmóvil [3]. De esta forma se tendrían dos\\nestructuras cargadas que podrían conducir corriente eléctrica.\\nFigura 4: Proceso de formación de los agregados moleculares.\\n5'}, vector=None, shard_key=None),\n",
       " ScoredPoint(id='44c2c518-fc6a-4a96-bf54-e8aa37edd54f', version=0, score=0.8398814, payload={'page_content': 'C2H5OH+C2H5OH↔C2H5OH+\\n2+C2H5O−\\nEs interesante por tanto estudiar que sucede en mezclas de líquidos apolares con\\nalcoholes, sabiendo que estos últimos pueden disolverse gracias a su parte lipofílica.\\nPor otro lado, la interacción de sus cabezas polares dará lugar a la formación de\\npiscinas con mayor polaridad dentro de los agregados moleculares formados en la\\nmezcla, aumentando por ello la concentración iónica [3].\\n1.3. Naturaleza iónica de los agregados moleculares'}, vector=None, shard_key=None),\n",
       " ScoredPoint(id='b5f25e1f-6f9d-4d8b-bb35-5e58074c3f48', version=0, score=0.8387806, payload={'page_content': '1.3 Naturaleza iónica de los agregados moleculares\\nEn este trabajo, al tratar con un alcohol, el interior de estas estructuras puede\\nconsiderarse como una pequeña piscina de este (véase zona azul, Figura 3) don-\\nde ocurren los procesos de autodisociación anteriormente descritos, quedando las\\nmoléculas de alcohol ionizadas mientras que el agregado molecular permanece\\nneutro.\\nSin embargo, la colisión de dos de estos agregados moleculares puede dar lu-'}, vector=None, shard_key=None),\n",
       " ScoredPoint(id='d97e7b6d-746c-4da5-925a-849c349ab479', version=0, score=0.83775425, payload={'page_content': 'podríamos suponer, cualitativamente, que la formación de agregados moleculares\\n20'}, vector=None, shard_key=None)]"
      ]
     },
     "execution_count": 43,
     "metadata": {},
     "output_type": "execute_result"
    }
   ],
   "source": [
    "# Hagamos una busqueda para ver que documentos son más similares\n",
    "\n",
    "client.search(\n",
    "    collection_name=\"tfg\",\n",
    "    query_vector=(\"content\", embedding.embed_documents([\"Agregado molecular\"])[0]),\n",
    "    with_payload=[\"page_content\", \"source\"],\n",
    "    limit=5\n",
    ")"
   ]
  },
  {
   "cell_type": "markdown",
   "id": "fb76ee48-b5db-4fa0-8467-daadb61d48bf",
   "metadata": {},
   "source": [
    "## Inicializar la base de datos vectorial"
   ]
  },
  {
   "cell_type": "code",
   "execution_count": 9,
   "id": "a5f994f1-9ca4-4efa-a90f-d1f08c5baae6",
   "metadata": {},
   "outputs": [],
   "source": [
    "# Initialize vector store\n",
    "client = QdrantClient(url=QDRANT_URL,\n",
    "                      api_key=QDRANT_API_KEY\n",
    "                     )\n",
    "\n",
    "embedding = OpenAIEmbeddings()\n",
    "\n",
    "vectorstore = Qdrant(client=client,\n",
    "                     collection_name=\"tfg\",\n",
    "                     embeddings=embedding,\n",
    "                     vector_name=\"content\")"
   ]
  },
  {
   "cell_type": "code",
   "execution_count": 49,
   "id": "1be8261a-2d13-417d-bb7f-e6482d8221d0",
   "metadata": {},
   "outputs": [],
   "source": [
    "# Downlad prompt template\n",
    "\n",
    "rag_prompt = hub.pull(\"rlm/rag-prompt\")"
   ]
  },
  {
   "cell_type": "code",
   "execution_count": 64,
   "id": "9a6e6438-5566-45cc-87b0-a739f9202c6e",
   "metadata": {},
   "outputs": [
    {
     "data": {
      "text/plain": [
       "\"You are an assistant for question-answering tasks. Use the following pieces of retrieved context to answer the question. If you don't know the answer, just say that you don't know. Use four sentences maximum and keep the answer concise.\\nQuestion: {question} \\nContext: {context} \\nAnswer:\""
      ]
     },
     "execution_count": 64,
     "metadata": {},
     "output_type": "execute_result"
    }
   ],
   "source": [
    "rag_prompt.messages[0].prompt.template"
   ]
  },
  {
   "cell_type": "code",
   "execution_count": 6,
   "id": "034fd793-6688-4995-affe-0dd6dc4db0ea",
   "metadata": {},
   "outputs": [],
   "source": [
    "template = '''\n",
    "You are an assistant for question-answering tasks. \\\n",
    "Use the following pieces of retrieved context to answer the question. \\\n",
    "If you don't know the answer, just say that you don't know. \\\n",
    "Question: {question} \n",
    "Context: {context}\n",
    "Answer:\n",
    "'''"
   ]
  },
  {
   "cell_type": "markdown",
   "id": "3d9828c8-387d-48a2-a666-4b04d0d1c506",
   "metadata": {},
   "source": [
    "## RAG Pipeline"
   ]
  },
  {
   "cell_type": "code",
   "execution_count": 46,
   "id": "f4ba8769-e3c8-48c0-aed3-5a972eaf2ea3",
   "metadata": {},
   "outputs": [],
   "source": [
    "rag_prompt = ChatPromptTemplate.from_template(template)"
   ]
  },
  {
   "cell_type": "code",
   "execution_count": 10,
   "id": "5dda3729-a4fb-43f0-a4f8-98fea4003066",
   "metadata": {},
   "outputs": [],
   "source": [
    "retriever = vectorstore.as_retriever()"
   ]
  },
  {
   "cell_type": "code",
   "execution_count": 11,
   "id": "33897e41-6ef5-4ea7-b627-2393ff2aca2d",
   "metadata": {},
   "outputs": [],
   "source": [
    "handler = StdOutCallbackHandler()"
   ]
  },
  {
   "cell_type": "code",
   "execution_count": 12,
   "id": "5fae6637-fa07-4f28-a80b-75cfd77e4a47",
   "metadata": {},
   "outputs": [],
   "source": [
    "llm = ChatGroq(model=\"llama3-70b-8192\",\n",
    "               groq_api_key= GROQ_API_KEY)\n",
    "\n",
    "# Retrieval qa chain\n",
    "qa_chain = RetrievalQA.from_chain_type(llm=llm,\n",
    "                                       chain_type=\"stuff\",\n",
    "                                       callbacks=[handler],\n",
    "                                       retriever=retriever)"
   ]
  },
  {
   "cell_type": "code",
   "execution_count": 11,
   "id": "d1b5ef26-6698-4df0-b5b0-0bfeb05de5a2",
   "metadata": {},
   "outputs": [
    {
     "name": "stdout",
     "output_type": "stream",
     "text": [
      "\n",
      "\n",
      "\u001b[1m> Entering new RetrievalQA chain...\u001b[0m\n",
      "\n",
      "\u001b[1m> Finished chain.\u001b[0m\n"
     ]
    },
    {
     "data": {
      "text/plain": [
       "'De acuerdo al texto, la conductividad eléctrica es una propiedad intensiva que representa la capacidad que tiene un material para conducir la corriente eléctrica.'"
      ]
     },
     "execution_count": 11,
     "metadata": {},
     "output_type": "execute_result"
    }
   ],
   "source": [
    "# Invoke qa_chain gpt-3.5-turbo\n",
    "\n",
    "qa_chain.invoke({\"query\": \"Que es la conductividad electrica\"})[\"result\"]"
   ]
  },
  {
   "cell_type": "code",
   "execution_count": 73,
   "id": "4b955500-950f-4098-b34e-21456e0ed18d",
   "metadata": {},
   "outputs": [
    {
     "name": "stdout",
     "output_type": "stream",
     "text": [
      "\n",
      "\n",
      "\u001b[1m> Entering new RetrievalQA chain...\u001b[0m\n",
      "\n",
      "\u001b[1m> Finished chain.\u001b[0m\n"
     ]
    },
    {
     "data": {
      "text/plain": [
       "'Según el texto, los resultados obtenidos de la conductividad eléctrica son:\\n\\n* La conductividad eléctrica aumenta con la concentración de alcohol en la mezcla.\\n* La longitud de la cadena del alcohol juega un papel fundamental en la estabilidad de la mezcla, y se obtienen mejores resultados con alcoholes de cadena larga.\\n* La conductividad eléctrica es mayor en la mezcla de 1-Nonanol que en otras mezclas.\\n* La medida de la conductividad eléctrica puede ser poco certera debido a la inestabilidad de los agregados que se forman en la disolución.\\n\\nNo se mencionan otros resultados específicos de la conductividad eléctrica, pero se habla de la importancia de la longitud de la cadena del alcohol y la concentración de alcohol en la mezcla.'"
      ]
     },
     "execution_count": 73,
     "metadata": {},
     "output_type": "execute_result"
    }
   ],
   "source": [
    "qa_chain.invoke({\"query\": \"Que resultados se obtienen de la conductividad electrica\"})[\"result\"]"
   ]
  },
  {
   "cell_type": "code",
   "execution_count": 16,
   "id": "3aaa598c-5a21-4041-b59d-d9088c8bdfb1",
   "metadata": {},
   "outputs": [
    {
     "name": "stdout",
     "output_type": "stream",
     "text": [
      "\n",
      "\n",
      "\u001b[1m> Entering new RetrievalQA chain...\u001b[0m\n",
      "\n",
      "\u001b[1m> Finished chain.\u001b[0m\n"
     ]
    },
    {
     "data": {
      "text/plain": [
       "{'query': 'Can you analyze the research paper?',\n",
       " 'result': \"I'd be happy to try! However, I need more information about what you would like me to analyze. \\n\\nThe references provided appear to be a list of citations from a research paper, but without the actual paper, it's challenging to provide a comprehensive analysis.\\n\\nCould you please provide more context or clarify what specifically you would like me to analyze? For example, are you looking for an analysis of the methodology, results, conclusions, or something else? Additionally, do you have access to the full paper, and if so, can you share it with me?\"}"
      ]
     },
     "execution_count": 16,
     "metadata": {},
     "output_type": "execute_result"
    }
   ],
   "source": [
    "qa_chain.invoke(\"Can you analyze the research paper?\")"
   ]
  },
  {
   "cell_type": "code",
   "execution_count": 7,
   "id": "ad6a8392-9529-4d44-a410-240800de8b6a",
   "metadata": {},
   "outputs": [
    {
     "data": {
      "text/plain": [
       "PromptTemplate(input_variables=['question'], template='{question}')"
      ]
     },
     "execution_count": 7,
     "metadata": {},
     "output_type": "execute_result"
    }
   ],
   "source": [
    "qa_chain.combine_documents_chain.llm_chain.prompt.messages[1].prompt"
   ]
  },
  {
   "cell_type": "code",
   "execution_count": 13,
   "id": "efa4711b-91f3-40e2-af3e-87480a4578f1",
   "metadata": {},
   "outputs": [],
   "source": [
    "# Create custom tool to use the vector store\n",
    "\n",
    "class MyCustomTool(BaseTool):\n",
    "    name: str = \"Research Paper\"\n",
    "    description: str = \"Research Paper\"\n",
    "\n",
    "    def _run(self, argument: str):\n",
    "        return qa_chain.invoke(\"Can you analyze with detail the research paper?\")\n",
    "\n",
    "tool_instance = MyCustomTool()"
   ]
  },
  {
   "cell_type": "code",
   "execution_count": 14,
   "id": "e0350e05-134d-41dc-8512-b37225744b15",
   "metadata": {},
   "outputs": [],
   "source": [
    "### RESEARCHER ###\n",
    "\n",
    "# Agent\n",
    "reasarcher = Agent(\n",
    "    role=\"Physicist Researcher\",\n",
    "    goal='Understanding the published research paper and extract the main insights',\n",
    "    backstory=\"\"\"You work at a Physics Science school.\n",
    "                  A new paper has been published and you need to extract\n",
    "                  the main information and provide the main insights to\n",
    "                  the students.You have a knack for dissecting complex\n",
    "                  research papers\"\"\",\n",
    "    verbose=True,\n",
    "    llm= llm,\n",
    "    tools=[tool_instance],\n",
    "    allow_delegation=False\n",
    "    )\n",
    "\n",
    "\n",
    "# Tasks\n",
    "task_research = Task(\n",
    "    description=\"\"\"Conduct an in-depth analysis of the published research paper.\n",
    "                    Identify the key components and try to understand how each works.\"\"\",\n",
    "    expected_output=\"\"\"Your final answer must be a full analysis report of the research paper\"\"\",\n",
    "    agent=reasarcher,\n",
    "    output_file='researcher_analysis.md' \n",
    "\n",
    ")\n",
    "\n",
    "\n",
    "### WRITER ###\n",
    "\n",
    "# Agent\n",
    "writer = Agent(\n",
    "    role=\"Physicist Writer\",\n",
    "    goal= 'Craft easy to understand content for physics students',\n",
    "    backstory=\"\"\"You are working on writing a summary of a research paper.\n",
    "                  Use the content of the Physicist Researcher to develop\n",
    "                  a short comprehensive summary of the research paper\"\"\",\n",
    "    verbose=True,\n",
    "    llm= llm,\n",
    "    allow_delegation=False,\n",
    ")\n",
    "\n",
    "# Tasks\n",
    "task_writer = Task(\n",
    "    description=\"\"\"Extract the most important topics and key components of the report\n",
    "                    developed by the Physicist Researcher.\"\"\",\n",
    "    expected_output=\"\"\"Your final answer must be a short comprehensive summary \n",
    "                        to understand report for physics students\"\"\",\n",
    "    agent=writer,\n",
    "    output_file='writer_summary.md' \n",
    "\n",
    ")\n",
    "\n",
    "# CREWAI KICKOFF\n",
    "\n",
    "Crew = Crew(agents=[reasarcher, writer],\n",
    "            tasks=[task_research, task_writer],\n",
    "            verbose=99)"
   ]
  },
  {
   "cell_type": "code",
   "execution_count": 15,
   "id": "69554ea5-934e-4fc1-9d4c-b5fba4135992",
   "metadata": {},
   "outputs": [
    {
     "name": "stdout",
     "output_type": "stream",
     "text": [
      "\u001b[1m\u001b[95m [DEBUG]: == Working Agent: Medical Researcher\u001b[00m\n",
      "\u001b[1m\u001b[95m [INFO]: == Starting Task: Conduct an in-depth analysis of the published research paper.\n",
      "                    Identify the key components and try to understand how each works.\u001b[00m\n",
      "\n",
      "\n",
      "\u001b[1m> Entering new CrewAgentExecutor chain...\u001b[0m\n",
      "\u001b[32;1m\u001b[1;3mThought: I need to carefully read and understand the research paper to extract the main insights.\n",
      "\n",
      "Action: Research Paper\n",
      "Action Input: {\"argument\": \"string\"}\u001b[0m\n",
      "\n",
      "\u001b[1m> Entering new RetrievalQA chain...\u001b[0m\n",
      "\n",
      "\u001b[1m> Finished chain.\u001b[0m\n",
      "\u001b[95m \n",
      "\n",
      "{'query': 'Can you analyze with detail the research paper?', 'result': \"I can try to provide some general insights and information about the research paper based on the provided context. However, please note that I don't have access to the full paper, and my analysis will be limited to the snippets of information provided.\\n\\n**Research Topic:** The research paper appears to be focused on the microbiota associated with Preterm Premature Rupture of Membranes (PPT).\\n\\n**Methodology:** The study seems to have employed a systematic review approach, where the authors identified 81 studies, of which 22 were selected based on title and abstract, and 9 were included in the final review after full-text screening.\\n\\n**Inclusion and Exclusion Criteria:** The authors applied certain criteria to include or exclude studies, which resulted in 9 studies being included in the final review.\\n\\n**Measurement Tools:** The studies employed ultrasonography as the most precise measurement tool (46).\\n\\n**Study Characteristics:** The studies varied in terms of design and methodology, with differences in factors such as age, place of residence, and socioeconomic status between studies, but not within studies (55).\\n\\n**Microbiota Analysis:** All studies used 16S RNA ribosomal analysis, but each study measured different regions (V1, V2, V3, V4, and V5).\\n\\n**Findings:** The study suggests that the global composition of the microbiota, rather than the presence or absence of specific species, is associated with PPT (48). Many of the studies used the community state types (CST) proposed by Ravel et al. (38) to classify the microbiota of the samples.\\n\\n**Limitations:** The authors acknowledge that the CST are insufficient, implying that the current classification system may not be adequate.\\n\\n**Conclusion:** Unfortunately, I don't have access to the conclusion section (page 29), so I cannot provide further insights.\\n\\nPlease note that this analysis is limited to the provided snippets, and a more comprehensive analysis would require access to the full paper.\"}\n",
      "\u001b[00m\n",
      "\u001b[32;1m\u001b[1;3mThought: I now know the final answer\n",
      "Final Answer: \n",
      "\n",
      "**Research Paper Analysis Report**\n",
      "\n",
      "**Research Topic:**\n",
      "The research paper is focused on the microbiota associated with Preterm Premature Rupture of Membranes (PPT).\n",
      "\n",
      "**Methodology:**\n",
      "The study employed a systematic review approach, where the authors identified 81 studies, of which 22 were selected based on title and abstract, and 9 were included in the final review after full-text screening.\n",
      "\n",
      "**Inclusion and Exclusion Criteria:**\n",
      "The authors applied certain criteria to include or exclude studies, which resulted in 9 studies being included in the final review.\n",
      "\n",
      "**Measurement Tools:**\n",
      "The studies employed ultrasonography as the most precise measurement tool (46).\n",
      "\n",
      "**Study Characteristics:**\n",
      "The studies varied in terms of design and methodology, with differences in factors such as age, place of residence, and socioeconomic status between studies, but not within studies (55).\n",
      "\n",
      "**Microbiota Analysis:**\n",
      "All studies used 16S RNA ribosomal analysis, but each study measured different regions (V1, V2, V3, V4, and V5).\n",
      "\n",
      "**Findings:**\n",
      "The study suggests that the global composition of the microbiota, rather than the presence or absence of specific species, is associated with PPT (48). Many of the studies used the community state types (CST) proposed by Ravel et al. (38) to classify the microbiota of the samples.\n",
      "\n",
      "**Limitations:**\n",
      "The authors acknowledge that the CST are insufficient, implying that the current classification system may not be adequate.\n",
      "\n",
      "**Conclusion:**\n",
      "Unfortunately, the conclusion section (page 29) was not accessible, and therefore, further insights could not be provided.\n",
      "\n",
      "**Limitations of the Analysis:**\n",
      "Please note that this analysis is limited to the provided snippets, and a more comprehensive analysis would require access to the full paper.\n",
      "\n",
      "This analysis provides a general overview of the research paper, highlighting the research topic, methodology, study characteristics, and findings. However, due to the limited access to the full paper, the analysis is incomplete, and a more in-depth analysis would require access to the entire paper.\u001b[0m\n",
      "\n",
      "\u001b[1m> Finished chain.\u001b[0m\n",
      "\u001b[1m\u001b[92m [DEBUG]: == [Medical Researcher] Task output: **Research Paper Analysis Report**\n",
      "\n",
      "**Research Topic:**\n",
      "The research paper is focused on the microbiota associated with Preterm Premature Rupture of Membranes (PPT).\n",
      "\n",
      "**Methodology:**\n",
      "The study employed a systematic review approach, where the authors identified 81 studies, of which 22 were selected based on title and abstract, and 9 were included in the final review after full-text screening.\n",
      "\n",
      "**Inclusion and Exclusion Criteria:**\n",
      "The authors applied certain criteria to include or exclude studies, which resulted in 9 studies being included in the final review.\n",
      "\n",
      "**Measurement Tools:**\n",
      "The studies employed ultrasonography as the most precise measurement tool (46).\n",
      "\n",
      "**Study Characteristics:**\n",
      "The studies varied in terms of design and methodology, with differences in factors such as age, place of residence, and socioeconomic status between studies, but not within studies (55).\n",
      "\n",
      "**Microbiota Analysis:**\n",
      "All studies used 16S RNA ribosomal analysis, but each study measured different regions (V1, V2, V3, V4, and V5).\n",
      "\n",
      "**Findings:**\n",
      "The study suggests that the global composition of the microbiota, rather than the presence or absence of specific species, is associated with PPT (48). Many of the studies used the community state types (CST) proposed by Ravel et al. (38) to classify the microbiota of the samples.\n",
      "\n",
      "**Limitations:**\n",
      "The authors acknowledge that the CST are insufficient, implying that the current classification system may not be adequate.\n",
      "\n",
      "**Conclusion:**\n",
      "Unfortunately, the conclusion section (page 29) was not accessible, and therefore, further insights could not be provided.\n",
      "\n",
      "**Limitations of the Analysis:**\n",
      "Please note that this analysis is limited to the provided snippets, and a more comprehensive analysis would require access to the full paper.\n",
      "\n",
      "This analysis provides a general overview of the research paper, highlighting the research topic, methodology, study characteristics, and findings. However, due to the limited access to the full paper, the analysis is incomplete, and a more in-depth analysis would require access to the entire paper.\n",
      "\n",
      "\u001b[00m\n",
      "\u001b[1m\u001b[95m [DEBUG]: == Working Agent: Medical Writer\u001b[00m\n",
      "\u001b[1m\u001b[95m [INFO]: == Starting Task: Extract the most important topics and key components of the report\n",
      "                    developed by the Physicist Researcher.\u001b[00m\n",
      "\n",
      "\n",
      "\u001b[1m> Entering new CrewAgentExecutor chain...\u001b[0m\n",
      "\u001b[32;1m\u001b[1;3mI now can give a great answer!\n",
      "\n",
      "Final Answer:\n",
      "\n",
      "**Comprehensive Summary of Research Paper on Microbiota Associated with Preterm Premature Rupture of Membranes (PPT)**\n",
      "\n",
      "**Research Topic:**\n",
      "The microbiota associated with Preterm Premature Rupture of Membranes (PPT) was the focus of this research paper.\n",
      "\n",
      "**Methodology:**\n",
      "The study employed a systematic review approach, identifying 81 studies, of which 22 were selected based on title and abstract, and 9 were included in the final review after full-text screening.\n",
      "\n",
      "**Key Findings:**\n",
      "The study suggests that the global composition of the microbiota, rather than the presence or absence of specific species, is associated with PPT. The analysis of the microbiota was performed using 16S RNA ribosomal analysis, with different regions (V1, V2, V3, V4, and V5) measured in each study.\n",
      "\n",
      "**Study Characteristics:**\n",
      "The studies varied in terms of design and methodology, with differences in factors such as age, place of residence, and socioeconomic status between studies, but not within studies.\n",
      "\n",
      "**Measurement Tools:**\n",
      "Ultrasonography was employed as the most precise measurement tool in the studies.\n",
      "\n",
      "**Limitations:**\n",
      "The authors acknowledge that the current classification system of community state types (CST) may not be adequate, and the analysis is limited due to restricted access to the full paper.\n",
      "\n",
      "This comprehensive summary provides an overview of the research paper, highlighting the research topic, methodology, study characteristics, and key findings. The study sheds light on the association between microbiota and PPT, emphasizing the importance of considering the global composition of the microbiota rather than individual species.\u001b[0m\n",
      "\n",
      "\u001b[1m> Finished chain.\u001b[0m\n",
      "\u001b[1m\u001b[92m [DEBUG]: == [Medical Writer] Task output: **Comprehensive Summary of Research Paper on Microbiota Associated with Preterm Premature Rupture of Membranes (PPT)**\n",
      "\n",
      "**Research Topic:**\n",
      "The microbiota associated with Preterm Premature Rupture of Membranes (PPT) was the focus of this research paper.\n",
      "\n",
      "**Methodology:**\n",
      "The study employed a systematic review approach, identifying 81 studies, of which 22 were selected based on title and abstract, and 9 were included in the final review after full-text screening.\n",
      "\n",
      "**Key Findings:**\n",
      "The study suggests that the global composition of the microbiota, rather than the presence or absence of specific species, is associated with PPT. The analysis of the microbiota was performed using 16S RNA ribosomal analysis, with different regions (V1, V2, V3, V4, and V5) measured in each study.\n",
      "\n",
      "**Study Characteristics:**\n",
      "The studies varied in terms of design and methodology, with differences in factors such as age, place of residence, and socioeconomic status between studies, but not within studies.\n",
      "\n",
      "**Measurement Tools:**\n",
      "Ultrasonography was employed as the most precise measurement tool in the studies.\n",
      "\n",
      "**Limitations:**\n",
      "The authors acknowledge that the current classification system of community state types (CST) may not be adequate, and the analysis is limited due to restricted access to the full paper.\n",
      "\n",
      "This comprehensive summary provides an overview of the research paper, highlighting the research topic, methodology, study characteristics, and key findings. The study sheds light on the association between microbiota and PPT, emphasizing the importance of considering the global composition of the microbiota rather than individual species.\n",
      "\n",
      "\u001b[00m\n"
     ]
    }
   ],
   "source": [
    "result = Crew.kickoff()"
   ]
  },
  {
   "cell_type": "code",
   "execution_count": null,
   "id": "ef70d164-10d1-48cc-a3b4-d4e4b47977d2",
   "metadata": {},
   "outputs": [],
   "source": []
  }
 ],
 "metadata": {
  "kernelspec": {
   "display_name": "Python 3 (ipykernel)",
   "language": "python",
   "name": "python3"
  },
  "language_info": {
   "codemirror_mode": {
    "name": "ipython",
    "version": 3
   },
   "file_extension": ".py",
   "mimetype": "text/x-python",
   "name": "python",
   "nbconvert_exporter": "python",
   "pygments_lexer": "ipython3",
   "version": "3.11.5"
  }
 },
 "nbformat": 4,
 "nbformat_minor": 5
}
