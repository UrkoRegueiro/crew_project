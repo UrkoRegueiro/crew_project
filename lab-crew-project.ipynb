{
 "cells": [
  {
   "cell_type": "code",
   "execution_count": 1,
   "id": "644eedc7-62a8-425a-b226-e3241c3a6fca",
   "metadata": {},
   "outputs": [
    {
     "data": {
      "text/plain": [
       "True"
      ]
     },
     "execution_count": 1,
     "metadata": {},
     "output_type": "execute_result"
    }
   ],
   "source": [
    "from uuid import uuid4\n",
    "import os\n",
    "from dotenv import load_dotenv\n",
    "import pprint\n",
    "import json\n",
    "from datetime import datetime, timedelta, timezone\n",
    "\n",
    "from langchain_community.document_loaders import PyPDFLoader\n",
    "from langchain.text_splitter import RecursiveCharacterTextSplitter\n",
    "from langchain_openai import OpenAIEmbeddings\n",
    "from langchain_groq import ChatGroq\n",
    "from langchain.vectorstores import Qdrant\n",
    "from langchain import hub\n",
    "from langchain.chains import RetrievalQA\n",
    "from langchain.prompts import PromptTemplate, ChatPromptTemplate\n",
    "from langchain.callbacks import StdOutCallbackHandler\n",
    "\n",
    "from langchain_core.load import dumpd, dumps, load, loads\n",
    "\n",
    "\n",
    "#Youtube API\n",
    "from googleapiclient.discovery import build\n",
    "\n",
    "# Youtube transcript\n",
    "from langchain.document_loaders import YoutubeLoader\n",
    "from langchain.chains.summarize import load_summarize_chain\n",
    "from langchain.chains.llm import LLMChain\n",
    "from langchain.chains.combine_documents.stuff import StuffDocumentsChain\n",
    "from langchain.chains import MapReduceDocumentsChain, ReduceDocumentsChain\n",
    "\n",
    "\n",
    "# Vectorial DB\n",
    "from qdrant_client import QdrantClient\n",
    "from qdrant_client.models import Distance, VectorParams\n",
    "from qdrant_client.models import PointStruct\n",
    "\n",
    "\n",
    "# CrewAI\n",
    "from crewai import Agent, Task, Crew\n",
    "from crewai_tools import BaseTool\n",
    "\n",
    "load_dotenv()"
   ]
  },
  {
   "cell_type": "markdown",
   "id": "e86daa54-982f-4a1f-9ad7-8d0b1b917125",
   "metadata": {},
   "source": [
    "## Cargo claves"
   ]
  },
  {
   "cell_type": "code",
   "execution_count": 2,
   "id": "e1c2fbda-af84-4ba3-90ff-167aedface97",
   "metadata": {},
   "outputs": [],
   "source": [
    "GROQ_API_KEY = os.getenv('GROQ_API_KEY')\n",
    "QDRANT_API_KEY = os.getenv('QDRANT_API_KEY')\n",
    "QDRANT_URL = os.getenv('QDRANT_URL')\n",
    "OPENAI_API_KEY = os.getenv('OPENAI_API_KEY')\n",
    "YOUTUBE_API_KEY = os.getenv('YOUTUBE_API_KEY')"
   ]
  },
  {
   "cell_type": "markdown",
   "id": "94c984a7-1a95-425a-ac5b-eb339b4b1fb4",
   "metadata": {},
   "source": [
    "# Transcripcion videos Youtube"
   ]
  },
  {
   "cell_type": "code",
   "execution_count": 3,
   "id": "729ade8b-75a2-4195-8a23-48d01a8f1f76",
   "metadata": {},
   "outputs": [],
   "source": [
    "loader = YoutubeLoader.from_youtube_url(\"https://www.youtube.com/watch?v=W7K3o8HM3hs&ab_channel=JuanRam%C3%B3nRallo\",\n",
    "                                        add_video_info=True,\n",
    "                                        language=[\"es\"]\n",
    "                                       )\n",
    "transcript = loader.load()"
   ]
  },
  {
   "cell_type": "code",
   "execution_count": 4,
   "id": "c464d28a-2426-48fc-a494-81ce3510482c",
   "metadata": {},
   "outputs": [],
   "source": []
  },
  {
   "cell_type": "markdown",
   "id": "f541b73b-c872-4d3a-882a-b5883309867d",
   "metadata": {},
   "source": [
    "## Resumen\n",
    "[Documentación summarization](\"https://python.langchain.com/v0.2/docs/tutorials/summarization/#stuff\")\n",
    "\n",
    "Dado que las transcripciones serán textos largos necesitaremos dividir el texto en trozos. Veremos que técnica los da mejores resultados."
   ]
  },
  {
   "cell_type": "markdown",
   "id": "91541c8d-b466-46df-8a4e-c6848775bd36",
   "metadata": {},
   "source": [
    "- Primero dividimos la transcripción en trozos(probando diferentes tamaños):"
   ]
  },
  {
   "cell_type": "code",
   "execution_count": 5,
   "id": "591641e6-4c66-45f4-9418-721be751c691",
   "metadata": {},
   "outputs": [],
   "source": [
    "text_splitter = RecursiveCharacterTextSplitter(chunk_size=5000, chunk_overlap=1000)\n",
    "texts = text_splitter.split_documents(transcript)"
   ]
  },
  {
   "cell_type": "code",
   "execution_count": 15,
   "id": "2df73901-5ab1-4280-a663-7d4125c11439",
   "metadata": {},
   "outputs": [
    {
     "data": {
      "text/plain": [
       "'de la mutualidad de la abogacía y que debido a no haber efectuado aportaciones ientes a su plan personal privado de pensiones ahora mismo se encuentran con que van a cobrar una pensión que consideran demasiado Baja pues lo que están solicitando es un rescate público lo que están solicitando es poder dar el Salto ahora al sistema Público de pensiones con condiciones de jubilación mejoradas con respecto a las que tendrían si cobraran la pensión derivada del ahorro capitalizado y acumulado en sus cuentas privadas de capitalización Pero el punto verdaderamente criticable ni siquiera es que estos 2000 2500 mutualistas estén reclamando en estos momentos un rescate público tiene sentido que se articule una pasarela del sistema privado al sistema público siempre que no sea en perjuicio patrimonial del sistema público Es decir de todos aquellos que han cotizado forzosamente al sistema Público de reparto de pensiones no lo verdaderamente criticable no es esto lo verdaderamente criticable es que el gobierno Aprovechando que el pisuerga pasa por valladolit es decir Aprovechando que una minoría de abogados inscritos al sistema de previsión social de la mutualidad de la abogacía están reclamando un rescate público porque juzgan que sus pensiones futuras van a ser insuficientes como consecuencia de que no han ahorrado lo suficiente durante su vida profesional el gobierno no aprovechando esta coyuntura pretende eliminar la autonomía de la que hasta el momento disfrutaban los abogados y otros colectivos profesionales de cotizar a través de un sistema privado de pensiones y obligarlos a todos ellos a tener que acogerse sí o sí al sistema Público de reparto concretamente a través del régimen especial para trabajadores autónomos es decir que lo que quiere del gobierno es que a partir de 2027 los nuevos abogados Sí o sí coticen a través de la seguridad social y por qué quiere esto el gobierno pues por lo mismo que ha subido recientemente las cotizaciones a los trabajadores autónomos porque la seguridad social española el sistema Público de reparto está en números rojos y para compensar algo esos números rojos tiene que captar nuevos cotizantes a los que les va a cobrar hoy una cotización a cambio de prometerles en las próximas décadas una pensión que no les va a poder pagar en las condiciones que les está prometiendo hoy pero de momento coge el dinero y corre coge las cotizaciones sociales a la seguridad social tapa unos agujeros hoy tapa parte de los agujeros financieros hoy de la seguridad social y el gobernante que venga detrás en 2040 o 2050 que arree ese ya se encontrará con un agujero todavía mayor Pero ese no es un problema que vaya a afectar a los gobernantes actuales que son los que tienen que gestionar la cada vez más delicada situación financiera de la seguridad social ya en la actualidad en pocas palabras la falta de responsabilidad financiera de una minoría de abogados inscritos voluntariamente al régimen de previsión social de capitalización individual suministrado por la mutualidad de la abogacía está brindando al gobierno español la oportunidad de oro para nacionalizar de facto el ahorro de todos los futuros abogados de España en lugar de permitir como hasta ahora que esos abogados si así lo quieren gestionen a través de la mutualidad su propio ahorro personal La ruidosa minoría organizada de abogados que quieren ser rescatados por el estado está legitimando en medios de comunicación y ante la opinión pública el que el gobierno se anexion coactivamente el ahorro previsional futuro de los nuevos abogados está legitimando al gobierno para privar a los futuros Abogados del derecho que han tenido hasta ahora de escoger entre un sistema Público de reparto y un sistema privado de capitalización y lo que como ciudadanos libres y responsables deberíamos reclamarle al gobierno no es que elimine erradique Las escasas parcelas de libertad que en lo previsional siguen subsistiendo en España sino que posibilite la extensión de esa crucial libertad con responsabilidad para escoger entre el sistema Público de reparto de pensiones y el sistema privado de de pensiones no solo a los abogados sino Al conjunto de los trabajadores españoles [Música]'"
      ]
     },
     "execution_count": 15,
     "metadata": {},
     "output_type": "execute_result"
    }
   ],
   "source": [
    "texts[1].page_content"
   ]
  },
  {
   "cell_type": "code",
   "execution_count": 7,
   "id": "b3f69769-456e-4056-a5cc-23f1d73e2516",
   "metadata": {},
   "outputs": [
    {
     "data": {
      "text/plain": [
       "2"
      ]
     },
     "execution_count": 7,
     "metadata": {},
     "output_type": "execute_result"
    }
   ],
   "source": [
    "len(texts)"
   ]
  },
  {
   "cell_type": "markdown",
   "id": "2bf5e44e-a35b-4fc6-af56-6f89f4b357ea",
   "metadata": {},
   "source": [
    "- Definimos el LLM:"
   ]
  },
  {
   "cell_type": "code",
   "execution_count": 53,
   "id": "7a21881f-ef52-4856-953b-778c71e88182",
   "metadata": {},
   "outputs": [],
   "source": [
    "llm = ChatGroq(model=\"llama3-70b-8192\",\n",
    "               groq_api_key= GROQ_API_KEY)"
   ]
  },
  {
   "cell_type": "markdown",
   "id": "4f8f4de1-6ade-407a-af1a-8fc34ae4d78f",
   "metadata": {},
   "source": [
    "# Map-reduce"
   ]
  },
  {
   "cell_type": "markdown",
   "id": "1f2aa526-25f8-413c-8f0b-9f3629bb349b",
   "metadata": {},
   "source": [
    "- Creamos una cadena para hacer un resumen de cada trozo de transcripción"
   ]
  },
  {
   "cell_type": "code",
   "execution_count": 42,
   "id": "f3e07c5b-37ce-4b1c-8483-7a10f663e26e",
   "metadata": {},
   "outputs": [],
   "source": [
    "map_template = \"\"\"The following is a set of texts in spanish from a video transcription\n",
    "{texts}\n",
    "Based on this list of texts, please identify the main themes \n",
    "Helpful Answer in Spanish:\"\"\"\n",
    "map_prompt = PromptTemplate.from_template(map_template)\n",
    "\n",
    "map_chain = LLMChain(llm=llm,\n",
    "                     prompt=map_prompt)"
   ]
  },
  {
   "cell_type": "code",
   "execution_count": 43,
   "id": "5d2262d1-72d9-4792-a6ec-cdb1bcc5c643",
   "metadata": {},
   "outputs": [
    {
     "data": {
      "text/plain": [
       "LLMChain(prompt=PromptTemplate(input_variables=['texts'], template='The following is a set of texts in spanish from a video transcription\\n{texts}\\nBased on this list of texts, please identify the main themes \\nHelpful Answer in Spanish:'), llm=ChatGroq(client=<groq.resources.chat.completions.Completions object at 0x0000022E08F16D10>, async_client=<groq.resources.chat.completions.AsyncCompletions object at 0x0000022E08D32A50>, model_name='llama3-70b-8192', groq_api_key=SecretStr('**********')))"
      ]
     },
     "execution_count": 43,
     "metadata": {},
     "output_type": "execute_result"
    }
   ],
   "source": [
    "map_chain"
   ]
  },
  {
   "cell_type": "markdown",
   "id": "0dd10078-c5ac-407b-a71e-0ac7261534ca",
   "metadata": {},
   "source": [
    "- Creamos una cadena para hacer un resumen final de los resumenes de cada trozo"
   ]
  },
  {
   "cell_type": "code",
   "execution_count": 50,
   "id": "dc1c646b-1400-439a-8d5f-d1e540faa86e",
   "metadata": {},
   "outputs": [],
   "source": [
    "# Reduce\n",
    "reduce_template = \"\"\"The following is set of summaries in spanish:\n",
    "{texts}\n",
    "Take these and distill it into a final, consolidated summary of the main themes. \n",
    "Helpful Answer in Spanish:\"\"\"\n",
    "reduce_prompt = PromptTemplate.from_template(reduce_template)\n",
    "\n",
    "# Run chain\n",
    "reduce_chain = LLMChain(llm=llm,\n",
    "                        prompt=reduce_prompt)\n",
    "# Takes a list of documents, combines them into a single string, and passes this to an LLMChain\n",
    "combine_documents_chain = StuffDocumentsChain(llm_chain=reduce_chain,\n",
    "                                              document_variable_name=\"texts\")\n",
    "\n",
    "# Combines and iteratively reduces the mapped documents\n",
    "reduce_documents_chain = ReduceDocumentsChain(\n",
    "    # This is final chain that is called.\n",
    "    combine_documents_chain=combine_documents_chain,\n",
    "    # If documents exceed context for `StuffDocumentsChain`\n",
    "    collapse_documents_chain=combine_documents_chain,\n",
    "    # The maximum number of tokens to group documents into.\n",
    "    token_max=10000,\n",
    ")"
   ]
  },
  {
   "cell_type": "code",
   "execution_count": 53,
   "id": "49c7d162-d1a8-4aa2-84c1-b44427f50ca3",
   "metadata": {},
   "outputs": [],
   "source": [
    "# Combining documents by mapping a chain over them, then combining results\n",
    "map_reduce_chain = MapReduceDocumentsChain(\n",
    "    # Map chain\n",
    "    llm_chain=map_chain,\n",
    "    # Reduce chain\n",
    "    reduce_documents_chain=reduce_documents_chain,\n",
    "    # The variable name in the llm_chain to put the documents in\n",
    "    document_variable_name=\"texts\",\n",
    "    # Return the results of the map steps in the output\n",
    "    return_intermediate_steps=True,\n",
    ")"
   ]
  },
  {
   "cell_type": "code",
   "execution_count": 54,
   "id": "1f9eeb59-2d54-4fc1-a4e7-4c283e14c3ca",
   "metadata": {},
   "outputs": [
    {
     "name": "stderr",
     "output_type": "stream",
     "text": [
      "Token indices sequence length is longer than the specified maximum sequence length for this model (2787 > 1024). Running this sequence through the model will result in indexing errors\n"
     ]
    }
   ],
   "source": [
    "result = map_reduce_chain.invoke(texts)"
   ]
  },
  {
   "cell_type": "code",
   "execution_count": 55,
   "id": "1c7abf11-9bc3-4c56-bc42-830d03b9fbdf",
   "metadata": {},
   "outputs": [
    {
     "name": "stdout",
     "output_type": "stream",
     "text": [
      "Basándome en los textos, puedo identificar los siguientes temas principales consolidados:\n",
      "\n",
      "1. **Crítica al Partido Popular y su programa electoral**: La crítica al Partido Popular y su programa electoral es un tema recurrente, destacando la falta de transparencia, sinceridad y medidas concretas.\n",
      "\n",
      "2. **Desilusión con la política y los partidos políticos**: La desilusión con la política y los partidos políticos en general, y específicamente con el Partido Popular, es un tema destacado en varios textos.\n",
      "\n",
      "3. **Europa y valores europeos**: La importancia de Europa, los valores europeos como la libertad, la igualdad y la democracia, y la necesidad de reafirmar la identidad europea son temas importantes.\n",
      "\n",
      "4. **Desafíos actuales y futuro de Europa**: Los desafíos actuales que enfrenta Europa, como la demografía, la economía, la seguridad y la globalización, y la necesidad de abordarlos de manera efectiva para garantizar un futuro próspero.\n",
      "\n",
      "5. **Democracia y Estado de Derecho**: La importancia de la democracia y el estado de derecho, y la necesidad de defenderlos en Europa, es un tema destacado.\n",
      "\n",
      "6. **Política y liderazgo**: La capacidad de liderazgo y la toma de decisiones políticas efectivas para abordar los desafíos económicos y de competitividad en Europa también son mencionados.\n",
      "\n",
      "En resumen, los temas principales consolidados se centran en la crítica al Partido Popular, la desilusión con la política, la importancia de Europa y los valores europeos, los desafíos actuales y el futuro de Europa, la democracia y el estado de derecho, y la política y el liderazgo.\n"
     ]
    }
   ],
   "source": [
    "print(result[\"output_text\"])"
   ]
  },
  {
   "cell_type": "markdown",
   "id": "4f58d086-d26b-4bb6-a205-51934f2f7abb",
   "metadata": {},
   "source": [
    "# Refine\n",
    "\n",
    "En este caso se crea un resumen del primer trozo de la transcripción y se van añadiendo a este los siguientes trozos generando otro resumen refinado con la nueva información."
   ]
  },
  {
   "cell_type": "code",
   "execution_count": 57,
   "id": "b2046f6f-7fd4-4537-84b7-0de96d0e2865",
   "metadata": {},
   "outputs": [],
   "source": [
    "transcripcion = transcript_video(\"https://www.youtube.com/watch?v=Qs6BdBHiLwM&ab_channel=JuanRam%C3%B3nRallo\")"
   ]
  },
  {
   "cell_type": "code",
   "execution_count": 58,
   "id": "fe9840c9-7d47-4fb9-8985-c34b45194237",
   "metadata": {},
   "outputs": [
    {
     "data": {
      "text/plain": [
       "[Document(page_content='Cuáles serían Los Auténticos niveles de deuda Pública del Estado español si incluyeramos en esta cifra el dinero que el estado a deuda en pensiones a los futuros pensionistas veámoslo se suele decir que la deuda Pública del Estado español se ubica alrededor del 110 por del pib de hecho ya algo por debajo sin embargo esta cifra únicamente cuantifica el dinero que adeuda el estado español por los bonos en sentido amplio del término letras bonos y obligaciones del estado que el estado ha emitido en los mercados y que los inversores han adquirido pero en esta cifra de endeudamiento público no aparecen otros pasivos con los que también carga el estado español por ejemplo la deuda con proveedores del Estado español no aparece reflejada en esta cifra ahora bien como en general la deuda que las administraciones públicas tienen con los proveedores no es un monto extraordinariamente elevado puede ser el un el 2 el 3% del pib Lo cierto es que esta omisión no distorsiona demasiado la imagen final de la deuda Pública conjunta del Estado español ahora bien existe otra omisión que desde luego si lo hace No solo en el caso del Estado español sino de cualquier estado a lo largo y ancho del planeta Pero como ahora vamos a ver especialmente en el caso del Estado español a la omisión de qué otro pasivo me estoy refiriendo Pues a la deuda que mantiene el estado español con los pensionistas españoles los pensionistas españoles han devengado un derecho de cobro pensional futuro frente al Estado español y ese estado español tendrá que hacer frente a él pagando las pensiones por tanto es como si los pensionistas tuviesen un Bono que no pueden transferir a terceros pero tuviesen un Bono un título de deuda del Estado español en función del cual cobrarán sus pensiones futuras es decir que el gasto futuro en pensiones comprometido con los pensionistas por el estado español también constituye un pasivo de ese estado también es deuda pública aún cuando no la incluyamos en las estadísticas oficiales y el punto por tanto es A cuánto equivale la deuda pública en forma de gasto futuro del sistema Público de pensiones español Cuál es el valor presente el valor actualizado de todos los desembolsos que el estado español ya se ha comprometido a hacer con los pensionistas en el futuro no el gasto que se comprometerá a hacer Durante los próximos años sino el que ya se ha comprometido a efectuar la deuda que ya ha sido devengada en estos momentos Pues esta cifra aunque no aparezca en las estadísticas oficiales de deuda pública es una cifra que también nos ofrece eurostat y atención al siguiente gráfico porque os va a aterrorizar el valor presente del gasto futuro en pensiones que ya se ha comprometido que ya se ha obligado a hacer el estado español a lo largo de los próximos años equivale a atención al 500 por del pib repito 500 por del pib cinco veces más que toda la deuda pública emitida en los mercados en forma de bonos por el estado español se trata además y con bastante diferencia del estado europeo con mayores deudas implícitas en materia de pensiones por hacer una comparativa la deuda implícita en pensiones de Alemania es del 325 por del pib 175 puntos de pib menos que España ahora bien si estas cifras son correctas e insisto son cálculos además conservadores de eurostat si estas cifras son correctas Por qué a los inversores les suele generar mucha más inquietud la deuda pública emitida en los mercados en forma de bonos que apenas entre muchas comillas representa el 100 110 por del pib de España y no en cambio la deuda pensional implícita del estado que en el caso de España asciende a más del 500 por del pib por qué lo primero suele preocupar más que lo segundo Pues por una razón bastante sencilla porque los estados están mucho más acostumbrados a impag sin consecuencias la deuda implícita en materia de pensiones que a imp pagar porque conlleva consecuencias la deuda en forma de bonos emitidos en el mercado si dentro de 5 10 15 20 o 25 años el estado español es incapaz de atender la amortización de esa deuda implícita en forma de pensiones valor presente equivalente al 500 por del pib pues lo que hará llegado ese momento el estado español es bajar las pensiones recortar las pensiones y a los pensionistas de ese momento no les quedará otro remedio que encogerse de hombros como las lentejas lo tomas o lo dejas en cambio Si al Estado español se le ocurre obrar de la misma manera con los as con los inversores en bonos Oye que no me va bien pagarte que no alcanzo a pagarte te voy a recortar un poquito el tipo de interés que me había comprometido a entregarte o te voy a devolver menos principal del que me adelantaste si al Estado español se le ocurriera hacer esto entraría inmediatamente en default y pasaría a tener cerrado como le ha ocurrido a Argentina tantas veces su acceso a los mercados financieros En otras palabras la deuda implícita pensional que es enorme se puede impag de manera más o menos impune la deuda en forma de bonos en manos de los inversores no se puede pagar de manera impune y por eso a los inversores les preocupa más la acumulación de la segunda que de la primera pero si eso es así tened en cuenta que Durante las próximas décadas es muy previsible que lleguen recortes en las pensiones futuras que hoy el estado se ha comprometido a pagar y recortar no a priori sino a posteriori las pensiones supone que muchas personas que contaban con recibir un determinado nivel de ingresos a través del sistema Público de pensiones van a ver defraudadas sus expectativas van a tener unos ingresos menores a aquellos que les ha prometido el estado y que por tanto preveían que iban a tener por eso lo prudente a la hora de planificar financieramente nuestro futuro es anticipar o como poco tener presente la muy seria posibilidad de que nuestras pensiones futuras vayan a ser recortadas con respecto a las promesas a los compromisos a las deudas pensionales que hoy efectúa el estado y por eso Si nuestros ingresos pensionales futuros después del tijeretazo que previsiblemente les aplicará en el futuro el gobierno de España que haya en ese momento los consideramos insuficientes con respecto al tren de vida que deseamos vivir mantener en el futuro una vez jubilados no nos quedará otro remedio que hacer como por cierto hacen muchos otros europeos es decir complementar nuestra pensión pública con una pensión privada derivada del ahorro que hayamos acumulado a lo largo de nuestra vida profesional Y en este sentido una forma de ir ahorrando para preparar tu jubilación futura ante el previsible O al menos posible recorte de las pensiones futuras por parte del Estado español es mediante un plan de ahorro periódico a través de la plataforma que apadrina este vídeo Trade Republic como ya hemos explicado en vídeos anteriores una de las mejores formas de constituir un patrimonio personal cuantioso de del que poder recibir ingresos pasivos que complementen las inciertas pensiones públicas que nos sean entregadas en el futuro es mediante el ahorro periódico y la inversión de ese ahorro periódico a un índice bursátil global que proporcione rentabilidades después de inflación similares a las que históricamente esos índices bursátiles globales ya han proporcionado es decir rentabilidades alrededor del cco 6 o 7% al año en promedio Durante los años que nos resten hasta la jubilación y como también hemos explicado en otras ocasiones rentabilidades que no sean devoradas por las altísimas comisiones de gestión del instrumento que utilicemos para invertir en el mercado bursátil en este sentido uno de los instrumentos con comisiones más bajas son los fondos de gestión pasiva que replican el índice sin cargar tintas en comisiones sobre el inversor además como también hemos explicado en otras ocasiones en este caso el tiempo es oro cuanto antes Comencemos más patrimonio acumular remos por ejemplo un ahorro de 300 mensuales a lo largo de 40 años invertidos a una rentabilidad después de inflación del 6% que es inferior a la que ha proporcionado históricamente el estándar ampus 500 la bolsa estadounidense se traduciría al cabo de esos 40 años en un patrimonio de casi 600,000 una suma que permitiría complementar las menguantes pensiones públicas y este ahorro y reinversión periódico en índices bursátiles como el estándar urs 5 u otros lo puedes llevar a cabo a través de Trade Republic si quieres obtener más información sobre esta plataforma y los diversos servicios que ofrece la puedes obtener pinchando en el enlace que aparece en la caja descripción de este vídeo o en el comentario destacado Y si todavía tienes dudas sobre si el enorme volumen de pasivos estatales en materia de derechos pensionales acarreará o no acarreará recortes futuros en esas pensiones podemos efectuar un ejercicio alternativo y ese ejercicio es el de poner en relación todos los pasivos del estado con los ingresos anuales del Estado si el valor presente de los derechos nacionales del estado es de algo más del 500 por del pib y el valor de todos los bonos emitidos por el estado es de algo menos del 110 por del pib podemos decir que sus pasivos conjuntos ascienden al 6% del pib Pues bien actualmente el conjunto de todos los ingresos que tiene el Estado por cualquier concepto impuestos y cotizaciones sociales principalmente pero no exclusivamente asciende al 43 por del pib es decir que para hacer frente a todos los pasivos del Estado sería necesario destinar al completo La recaudación equivalente a 14 años de ingresos públicos y si bien en ocasiones suele decirse que la deuda pública nunca se paga que solo se refinancia lo que sí está bastante claro es que la deuda pública en forma de derechos pensionales sí Hay que pagarla y Hay que pagarla con unos ingresos públicos que precisamente porque la población ocupada por cuestiones demográficas no va a ser expansiva esos ingresos públicos no serán holgados para hacer frente a esa montaña de pasivos estatales que ya hemos devengado con los pensionistas del futuro así pues ahorremos para que la montaña de deuda pensional Futura no nos aplaste [Música]', metadata={'source': 'Qs6BdBHiLwM', 'title': 'El auténtico endeudamiento público de España: 600% del PIB', 'description': 'Unknown', 'view_count': 61987, 'thumbnail_url': 'https://i.ytimg.com/vi/Qs6BdBHiLwM/hq720.jpg?sqp=-oaymwEmCIAKENAF8quKqQMa8AEB-AH-CYAC0AWKAgwIABABGGUgZShlMA8=&rs=AOn4CLAqxSvtvqcR8300aPD2qkEb_yf6bg', 'publish_date': '2024-06-24 00:00:00', 'length': 792, 'author': 'Vlog'})]"
      ]
     },
     "execution_count": 58,
     "metadata": {},
     "output_type": "execute_result"
    }
   ],
   "source": [
    "transcripcion"
   ]
  },
  {
   "cell_type": "code",
   "execution_count": 62,
   "id": "edbba36e-f6cf-4a32-b44b-0caf5d7d9119",
   "metadata": {},
   "outputs": [],
   "source": [
    "prompt_template = \"\"\"Write a summary in SPANISH for a newspaper of the following:\n",
    "{text}\n",
    "SUMMARY:\"\"\"\n",
    "prompt = PromptTemplate.from_template(prompt_template)\n",
    "\n",
    "refine_template = (\n",
    "    \"Your job is to produce a final summary in SPANISH for a newspaper\\n\"\n",
    "    \"We have provided an existing summary in spanish up to a certain point: {existing_answer}\\n\"\n",
    "    \"We have the opportunity to refine the existing summary\"\n",
    "    \"(only if needed) with some more context below.\\n\"\n",
    "    \"------------\\n\"\n",
    "    \"{text}\\n\"\n",
    "    \"------------\\n\"\n",
    "    \"Given the new context, refine the original summary\"\n",
    "    \"If the context isn't useful, return the original summary.\"\n",
    ")\n",
    "refine_prompt = PromptTemplate.from_template(refine_template)\n",
    "\n",
    "# Chain\n",
    "chain = load_summarize_chain(llm=llm,\n",
    "                             chain_type=\"refine\",\n",
    "                             question_prompt=prompt,\n",
    "                             refine_prompt=refine_prompt,\n",
    "                             return_intermediate_steps=False,\n",
    "                             input_key=\"input_documents\",\n",
    "                             output_key=\"output_text\",\n",
    "                            )"
   ]
  },
  {
   "cell_type": "code",
   "execution_count": 63,
   "id": "0bb1102c-f137-4bcb-90e9-415b1146b817",
   "metadata": {},
   "outputs": [],
   "source": [
    "text_splitter = RecursiveCharacterTextSplitter(chunk_size=5000, chunk_overlap=1000)\n",
    "texts = text_splitter.split_documents(transcripcion)"
   ]
  },
  {
   "cell_type": "code",
   "execution_count": 64,
   "id": "5ebca2f8-86d7-4fc7-881b-2d4e78d882bf",
   "metadata": {},
   "outputs": [],
   "source": [
    "result = chain.invoke({\"input_documents\": texts}, return_only_outputs=True)"
   ]
  },
  {
   "cell_type": "code",
   "execution_count": 65,
   "id": "687f813c-9197-4a32-b662-df559c0d33ed",
   "metadata": {},
   "outputs": [
    {
     "name": "stdout",
     "output_type": "stream",
     "text": [
      "Here is a refined summary in Spanish:\n",
      "\n",
      "**La deuda pública española es mucho más alta de lo que se cree**\n",
      "\n",
      "La deuda pública española es mucho más alta de lo que se cree. Si se incluyera la cantidad de dinero que se debe a los futuros pensionistas, la cifra actual de alrededor del 110% del PIB se multiplicaría por cinco. Según Eurostat, el valor presente de los gastos futuros en pensiones comprometidos por el Estado español asciende a un alarmante 500% del PIB, lo que lo convierte en el país europeo con mayor deuda implícita en materia de pensiones.\n",
      "\n",
      "Esta deuda implícita puede llevar a una visión distorsionada de la situación económica real del país. Aunque no se refleja en las estadísticas oficiales de deuda pública, es un pasivo importante que el Estado español tendrá que enfrentar en el futuro. Sin embargo, es importante tener en cuenta que el Estado puede recortar las pensiones en el futuro para hacer frente a esta deuda implícita.\n",
      "\n",
      "Es probable que en las próximas décadas se produzcan recortes en las pensiones futuras que hoy el estado se ha comprometido a pagar. Esto significa que muchas personas que contaban con recibir un determinado nivel de ingresos a través del sistema público de pensiones van a ver defraudadas sus expectativas. Por lo tanto, es prudente anticipar la posibilidad de que nuestras pensiones futuras vayan a ser recortadas y planificar financieramente nuestro futuro de manera adecuada.\n",
      "\n",
      "Para ilustrar la magnitud del problema, si consideramos que el Estado tendría que destinar la recaudación equivalente a 14 años de ingresos públicos para hacer frente a todos los pasivos del Estado, es evidente que la deuda pública en forma de derechos pensionales es un tema que requiere atención urgente.\n",
      "\n",
      "Una forma de preparar nuestro futuro es ahorrando periódicamente a través de una plataforma como Trade Republic, que nos permite invertir en índices bursátiles globales con rentabilidades históricas de alrededor del 6 o 7% al año. De esta manera, podemos complementar nuestras pensiones públicas con una pensión privada y asegurar un futuro financiero más seguro.\n"
     ]
    }
   ],
   "source": [
    "print(result[\"output_text\"])"
   ]
  },
  {
   "cell_type": "markdown",
   "id": "b9a330cb-3f35-4743-9fd8-0acbcccd8f92",
   "metadata": {},
   "source": [
    "# Función para transcripcion"
   ]
  },
  {
   "cell_type": "code",
   "execution_count": 72,
   "id": "32da5bab-c347-46af-9645-fec066882488",
   "metadata": {},
   "outputs": [],
   "source": [
    "def transcriptor(url):\n",
    "    '''\n",
    "    Función utilizada para la transcripción de videos y su resumen.\n",
    "\n",
    "    Inputs:\n",
    "        - url: str -> La url del video.\n",
    "\n",
    "    Output:\n",
    "        - resumen: str -> El resumen del video.\n",
    "    '''\n",
    "\n",
    "    # Cargo y transcribo:\n",
    "    loader = YoutubeLoader.from_youtube_url(url, add_video_info=True, language=[\"es\"])\n",
    "    transcript = loader.load()\n",
    "    \n",
    "    return transcript[0].page_content"
   ]
  },
  {
   "cell_type": "markdown",
   "id": "2ad4127f-39ea-4b45-902a-9d3c0ff61876",
   "metadata": {},
   "source": [
    "# 2. Crew"
   ]
  },
  {
   "cell_type": "markdown",
   "id": "9a83968d-db1a-4ab9-8c4c-e8231ba0f44f",
   "metadata": {},
   "source": [
    "## 2.1. Agents"
   ]
  },
  {
   "cell_type": "markdown",
   "id": "26d455f2-3573-4b6f-8aab-91e070791eee",
   "metadata": {},
   "source": [
    "- Scraper"
   ]
  },
  {
   "cell_type": "code",
   "execution_count": 38,
   "id": "a6c88f3c-b609-4956-9922-86763769deaa",
   "metadata": {},
   "outputs": [],
   "source": [
    "def search_videos():\n",
    "    '''\n",
    "    Función que devuelve los videos de los últimos 5 días\n",
    "\n",
    "    Input:\n",
    "        - xxxx: str -->\n",
    "\n",
    "    Output:\n",
    "        - results: object --> JSON con la información obtenida(titulo, fecha y url)\n",
    "    '''\n",
    "\n",
    "    # Fecha de hace 5 días\n",
    "    today = datetime(datetime.now().year, datetime.now().month, datetime.now().day, tzinfo=timezone.utc)\n",
    "    two_days_ago = today - timedelta(days=5)\n",
    "    date_format = two_days_ago.strftime('%Y-%m-%dT%H:%M:%S.%f')[:-3] + 'Z'\n",
    "    \n",
    "    youtube = build(\"youtube\", \"v3\", developerKey= YOUTUBE_API_KEY)    \n",
    "    request = youtube.search().list(part= \"snippet\",\n",
    "                                    order= \"date\",\n",
    "                                    type= \"video\",\n",
    "                                    videoDuration= \"medium\",\n",
    "                                    publishedAfter= date_format,\n",
    "                                    channelId= \"UCBLCvUUCiSqBCEc-TqZ9rGw\",\n",
    "                                    maxResults=5\n",
    "                                   )\n",
    "    \n",
    "    response = request.execute()\n",
    "\n",
    "    results = {\"results\": []}\n",
    "\n",
    "    for video in response[\"items\"]:\n",
    "\n",
    "        title = video[\"snippet\"][\"title\"]\n",
    "        author = video[\"snippet\"][\"channelTitle\"]\n",
    "        date = video[\"snippet\"][\"publishTime\"]\n",
    "        url = video[\"id\"][\"videoId\"]\n",
    "        \n",
    "        results[\"results\"].append({\"title\": title,\n",
    "                                   \"author\": author\n",
    "                                   \"date\": date,\n",
    "                                   \"url\": f\"https://www.youtube.com/watch?v={url}&ab_channel=JuanRam%C3%B3nRallo\"\n",
    "                                  })\n",
    "    \n",
    "    return results"
   ]
  },
  {
   "cell_type": "code",
   "execution_count": 71,
   "id": "97015260-5f23-4aac-ba7f-4c797869f1fd",
   "metadata": {},
   "outputs": [
    {
     "data": {
      "text/plain": [
       "'Juan Ramón Rallo'"
      ]
     },
     "execution_count": 71,
     "metadata": {},
     "output_type": "execute_result"
    }
   ],
   "source": [
    "response[\"items\"][0][\"snippet\"][\"channelTitle\"]"
   ]
  },
  {
   "cell_type": "code",
   "execution_count": 33,
   "id": "e1b954c5-9cbe-476e-8bc2-4b8f479ed657",
   "metadata": {},
   "outputs": [],
   "source": [
    "results = get_url_videos()"
   ]
  },
  {
   "cell_type": "code",
   "execution_count": 39,
   "id": "0b71224d-0424-42ec-8be1-68e7dd829f47",
   "metadata": {},
   "outputs": [
    {
     "data": {
      "text/plain": [
       "[{'title': 'El auténtico endeudamiento público de España: 600% del PIB',\n",
       "  'date': '2024-06-24T18:55:59Z',\n",
       "  'url': 'https://www.youtube.com/watch?v=Qs6BdBHiLwM&ab_channel=JuanRam%C3%B3nRallo'},\n",
       " {'title': 'El discurso más importante de Jesús Huerta de Soto',\n",
       "  'date': '2024-06-22T18:26:00Z',\n",
       "  'url': 'https://www.youtube.com/watch?v=egiWev1lmlo&ab_channel=JuanRam%C3%B3nRallo'},\n",
       " {'title': 'El Gobierno quiere quedarse con los ahorros de los abogados',\n",
       "  'date': '2024-06-21T07:53:28Z',\n",
       "  'url': 'https://www.youtube.com/watch?v=W7K3o8HM3hs&ab_channel=JuanRam%C3%B3nRallo'},\n",
       " {'title': 'Eldiario.es ataca al Instituto Juan de Mariana por premiar a Javier Milei',\n",
       "  'date': '2024-06-20T16:28:49Z',\n",
       "  'url': 'https://www.youtube.com/watch?v=J1oFpWxWk1k&ab_channel=JuanRam%C3%B3nRallo'},\n",
       " {'title': 'Hegemonía en riesgo: el gasto de EEUU en intereses ya supera su gasto en Defensa',\n",
       "  'date': '2024-06-20T07:23:23Z',\n",
       "  'url': 'https://www.youtube.com/watch?v=Im0pSQ4slDw&ab_channel=JuanRam%C3%B3nRallo'}]"
      ]
     },
     "execution_count": 39,
     "metadata": {},
     "output_type": "execute_result"
    }
   ],
   "source": [
    "results[\"results\"]"
   ]
  },
  {
   "cell_type": "code",
   "execution_count": null,
   "id": "484c9abe-3244-4a25-b408-1872ab99e1bb",
   "metadata": {},
   "outputs": [],
   "source": [
    "### RESEARCHER ###\n",
    "\n",
    "# Agent:\n",
    "reasarcher = Agent(\n",
    "    role=\"Physicist Researcher\",\n",
    "    goal='Understand all sections of the research paper and describe the important information',\n",
    "    backstory=\"\"\"You work investigating at the Physics department of the university.\n",
    "                  A new paper has been published and you need to extract\n",
    "                  the main information and provide the information to\n",
    "                  your co-workers.You have a knack for dissecting complex\n",
    "                  research papers\"\"\",\n",
    "    verbose=True,\n",
    "    llm= llm,\n",
    "    tools=[tool_instance],\n",
    "    allow_delegation=False\n",
    "    )\n",
    "\n",
    "\n",
    "# Tasks:\n",
    "task_research = Task(\n",
    "    description=\"\"\"Conduct an in-depth analysis of the published research paper\"\"\",\n",
    "    expected_output=\"\"\"Your final answer must be a full analysis report of the research paper\"\"\",\n",
    "    agent=reasarcher,\n",
    "    output_file='researcher_analysis.md' \n",
    "\n",
    ")"
   ]
  },
  {
   "cell_type": "markdown",
   "id": "4dff5769-3ce2-4702-a85f-271106374dde",
   "metadata": {},
   "source": [
    "- Resumidor"
   ]
  },
  {
   "cell_type": "markdown",
   "id": "6f2706c5-aff7-434c-bad4-ceb58ca2a402",
   "metadata": {},
   "source": [
    "- Escritor"
   ]
  },
  {
   "cell_type": "markdown",
   "id": "f25b9842-11bc-46b1-b1a5-b894c0883108",
   "metadata": {},
   "source": [
    "- Editor"
   ]
  },
  {
   "cell_type": "code",
   "execution_count": null,
   "id": "14aaac3d-296c-4947-ace0-6b331e4915fd",
   "metadata": {},
   "outputs": [],
   "source": []
  },
  {
   "cell_type": "code",
   "execution_count": null,
   "id": "62e6317e-884a-4b86-a867-5f5213726e3f",
   "metadata": {},
   "outputs": [],
   "source": []
  },
  {
   "cell_type": "code",
   "execution_count": null,
   "id": "4902b6a4-3803-4b82-a07a-4205526c87b9",
   "metadata": {},
   "outputs": [],
   "source": []
  },
  {
   "cell_type": "code",
   "execution_count": null,
   "id": "ed2d1975-2fef-4afb-9628-cb213530fe7e",
   "metadata": {},
   "outputs": [],
   "source": [
    "### WRITER ###\n",
    "\n",
    "# Agent\n",
    "writer = Agent(\n",
    "    role=\"Physicist Writer\",\n",
    "    goal= 'Craft a detailed report to present to your co-workers',\n",
    "    backstory=\"\"\"You are working on writing a detailed summary of a research paper.\n",
    "                  Use the content of the Physicist Researcher to develop\n",
    "                  a comprehensive summary of the research paper\"\"\",\n",
    "    verbose=True,\n",
    "    llm= llm,\n",
    "    allow_delegation=False,\n",
    ")\n",
    "\n",
    "# Tasks\n",
    "task_writer = Task(\n",
    "    description=\"\"\"Extract the most important topics and key components of the report\n",
    "                    developed by the Physicist Researcher.\"\"\",\n",
    "    expected_output=\"\"\"Your final answer must be a summary \n",
    "                        to understand report for your co-workers\"\"\",\n",
    "    agent=writer,\n",
    "    output_file='writer_summary.md' \n",
    "\n",
    ")\n",
    "\n",
    "# CREWAI KICKOFF\n",
    "\n",
    "Crew = Crew(agents=[reasarcher, writer],\n",
    "            tasks=[task_research, task_writer],\n",
    "            verbose=99)"
   ]
  },
  {
   "cell_type": "code",
   "execution_count": null,
   "id": "12a99bf5-5f53-4e4f-9201-640c20af8b9e",
   "metadata": {},
   "outputs": [],
   "source": []
  },
  {
   "cell_type": "code",
   "execution_count": null,
   "id": "aa309e30-a380-49ec-967a-5a25b75e137f",
   "metadata": {},
   "outputs": [],
   "source": []
  },
  {
   "cell_type": "code",
   "execution_count": null,
   "id": "5165b0e2-a583-42f9-9329-5ae762b9ab8c",
   "metadata": {},
   "outputs": [],
   "source": []
  },
  {
   "cell_type": "code",
   "execution_count": null,
   "id": "37dbcea6-a795-4179-9c2b-a91c012ede0b",
   "metadata": {},
   "outputs": [],
   "source": []
  },
  {
   "cell_type": "code",
   "execution_count": null,
   "id": "227634f5-2d2a-4136-bbc0-16e86244a901",
   "metadata": {},
   "outputs": [],
   "source": []
  },
  {
   "cell_type": "code",
   "execution_count": null,
   "id": "15a625e6-7ed2-4d46-a66f-12555d8fc7c5",
   "metadata": {},
   "outputs": [],
   "source": []
  },
  {
   "cell_type": "code",
   "execution_count": null,
   "id": "aaf1bf45-960a-4817-a845-204ef840728a",
   "metadata": {},
   "outputs": [],
   "source": []
  },
  {
   "cell_type": "markdown",
   "id": "8389b998-2b36-43c7-80a9-a001e10bb812",
   "metadata": {},
   "source": [
    "# <u>LABORATORIO</u>"
   ]
  },
  {
   "cell_type": "markdown",
   "id": "09eb3888-110c-40cf-8d2c-0cf458f9f640",
   "metadata": {},
   "source": [
    "## Carga y split de documentos"
   ]
  },
  {
   "cell_type": "code",
   "execution_count": 3,
   "id": "f5e46286-6b14-45d3-abf5-1fb9931e94fe",
   "metadata": {},
   "outputs": [],
   "source": [
    "def doc_loader(pdf):\n",
    "    pdf_loader = PyPDFLoader(pdf)\n",
    "    text_splitter = RecursiveCharacterTextSplitter(chunk_size= 1024, chunk_overlap= 100)\n",
    "    doc = pdf_loader.load_and_split(text_splitter)\n",
    "\n",
    "    return doc"
   ]
  },
  {
   "cell_type": "code",
   "execution_count": 4,
   "id": "21efc1f5-1338-4a14-b970-8f178b5e4c30",
   "metadata": {},
   "outputs": [],
   "source": [
    "doc = doc_loader(\"docs/tfg.pdf\")"
   ]
  },
  {
   "cell_type": "markdown",
   "id": "c8dac0e5-e8e1-4fe3-978c-427eeda080b8",
   "metadata": {},
   "source": [
    "## Almacenamiento en la VDB de Qdrant"
   ]
  },
  {
   "cell_type": "code",
   "execution_count": 5,
   "id": "cbcadc7d-6c08-4511-b816-1567f25408f4",
   "metadata": {},
   "outputs": [
    {
     "data": {
      "text/plain": [
       "True"
      ]
     },
     "execution_count": 5,
     "metadata": {},
     "output_type": "execute_result"
    }
   ],
   "source": [
    "# Creo una colección en la base de datos vectorial\n",
    "\n",
    "client = QdrantClient(url=QDRANT_URL,\n",
    "                      api_key=QDRANT_API_KEY\n",
    "                     )\n",
    "\n",
    "\n",
    "client.create_collection(collection_name=\"tfg\",\n",
    "                         vectors_config={\"content\": VectorParams(size=1536, distance=Distance.COSINE)}\n",
    "                        )"
   ]
  },
  {
   "cell_type": "code",
   "execution_count": 6,
   "id": "de9b284c-04ed-4fc6-b69e-500a5050ead5",
   "metadata": {},
   "outputs": [],
   "source": [
    "# Almaceno documentos en la base de datos vectorial:\n",
    "\n",
    "embedding = OpenAIEmbeddings()\n",
    "\n",
    "def chunked_metadata(doc, client=client, collection_name=\"tfg\"):\n",
    "\n",
    "    chunked_metadata = []\n",
    "\n",
    "    for item in doc:\n",
    "\n",
    "      id = str(uuid4())\n",
    "      content = item.page_content\n",
    "      source = item.metadata[\"source\"]\n",
    "      page = item.metadata[\"page\"]\n",
    "\n",
    "      content_vector = embedding.embed_documents([content])[0]\n",
    "      vector_dict = {\"content\": content_vector}\n",
    "\n",
    "      payload = {\"page_content\": content,\n",
    "                 \"metadata\": {\"id\": id,\n",
    "                              \"source\": source,\n",
    "                              \"page\": page,\n",
    "                             }\n",
    "                }\n",
    "\n",
    "\n",
    "      metadata = PointStruct(id=id, vector=vector_dict, payload=payload)\n",
    "      chunked_metadata.append(metadata)\n",
    "\n",
    "    client.upsert(collection_name=collection_name,\n",
    "                  wait=True,\n",
    "                  points=chunked_metadata)"
   ]
  },
  {
   "cell_type": "code",
   "execution_count": 7,
   "id": "8bd2ce66-6290-4b96-ad79-659f2b218abf",
   "metadata": {},
   "outputs": [],
   "source": [
    "chunked_metadata(doc)"
   ]
  },
  {
   "cell_type": "markdown",
   "id": "5fa8bc5b-2f9c-40c2-8ce1-a2d19db48a3a",
   "metadata": {},
   "source": [
    "### Reviso que colecciones tenemos en el cluster0:"
   ]
  },
  {
   "cell_type": "code",
   "execution_count": null,
   "id": "fbfc0f6b-4c6e-4627-ab26-139a26f524a0",
   "metadata": {},
   "outputs": [],
   "source": [
    "client.get_collections()"
   ]
  },
  {
   "cell_type": "code",
   "execution_count": 42,
   "id": "a41e5fef-7e09-45b7-a013-bb5ab4f91233",
   "metadata": {},
   "outputs": [
    {
     "name": "stdout",
     "output_type": "stream",
     "text": [
      "Points: 113 \n"
     ]
    }
   ],
   "source": [
    "attention_collection = client.get_collection(\"tfg\")\n",
    "\n",
    "print(f\"Points: {attention_collection.points_count} \")"
   ]
  },
  {
   "cell_type": "code",
   "execution_count": 8,
   "id": "94c58dc3-82b7-4c5a-ba2f-f7ab2bc143bd",
   "metadata": {},
   "outputs": [
    {
     "data": {
      "text/plain": [
       "[ScoredPoint(id='0b349987-b9c8-4f9f-8795-b28ddbf8a430', version=0, score=0.7982359, payload={'page_content': 'para su archivo, consulta y empleo para usos académicos y de investigación con la\\nmención específica al autor.\\nEn Santiago de Compostela, a 6 de Febrero de 2023. Firmado,'}, vector=None, shard_key=None),\n",
       " ScoredPoint(id='b121feff-8762-492d-a0df-82223ed98710', version=0, score=0.7963041, payload={'page_content': '1. Introducción\\nEn la actualidad se hace necesaria una transición energética hacia la electrifica-\\nción debido a la urgencia de reducir las emisiones de CO2y la escasez, cada vez\\nmayor, de los combustibles fósiles. En el ámbito de la automoción, la industria es-\\ntá tratando de sustituir los vehículos de combustión (VCs) convencionales por una\\nnueva generación de vehículos eléctricos (VEs) e híbridos (VHs) con el objetivo de\\nreducir los gases de efecto invernadero.\\nComo en toda maquinaria, los lubricantes juegan un papel fundamental en la\\nvida útil de sus componentes, reduciendo la fricción, protegiéndolos de la corro-\\nsión y trasfiriendo el calor generado. Los nuevos VEs y VHs, a diferencia de los\\nVCs, contienen una mayor cantidad de componentes electrónicos en su sistema de\\npropulsión eléctrico y, sin embargo, estos siguen utilizando lubricantes de automo-\\nción convencionales. Se hace necesario por tanto, el estudio de nuevos lubricantes'}, vector=None, shard_key=None),\n",
       " ScoredPoint(id='d84738fa-5d30-4f25-9c09-9e91778c8513', version=0, score=0.79592705, payload={'page_content': 'FACULTAD DE FÍSICA\\nGRAO EN FÍSICA\\nCurso 2022-23\\nTRABAJO DE FIN DE GRADO\\nCARACTERIZACIÓN DE LUBRICANTES:CONDUCTIVIDAD ELÉCTRICA Y TENSIÓNSUPERFICIAL\\nAutor:\\nUrko Regueiro Ramos\\nTutor:\\nAlfredo José Amigo Pombo\\nDepartamento de Física Aplicada\\nCotutor:\\nÓscar Giner Rajala\\nDepartamento de Física Aplicada\\nFebrero 2023\\nO autor autoriza a consulta e emprego desta memoria para uso académico e de investigación (autorización detallada nas páxinas interiores).'}, vector=None, shard_key=None),\n",
       " ScoredPoint(id='aeea2ae5-4a06-4166-9283-935039f61474', version=0, score=0.7929298, payload={'page_content': 'Facultad de Física\\nGrado en Física\\nCurso 2022-23\\nTRABAJO DE FIN DE GRADO\\nCARACTERIZACIÓN DE LUBRICANTES: CONDUCTIVIDAD ELÉCTRICA Y TEN-\\nSIÓN SUPERFICIAL\\nAutor: Urko Regueiro Ramos\\nTutor: Alfredo José Amigo Pombo ,Departamento de Física Aplicada\\nCotutor: Óscar Giner Rajala ,Departamento de Física Aplicada\\nFecha de presentación: Febrero 2023'}, vector=None, shard_key=None),\n",
       " ScoredPoint(id='67250a15-aa36-422f-b70d-9c23070f687b', version=0, score=0.7907448, payload={'page_content': 'Los agregados moleculares son estructuras compuestas por moléculas de un\\nsurfactante. Cuando se añade un surfactante a un aceite, la parte polar de sus mo-\\nléculas se desplazará a la superficie para evitar el contacto con este. Si se aumenta\\nsu concentración, las moléculas empezaran a ocupar toda la superficie disponible\\nhasta saturarla. Cuando la concentración de surfactante sobrepasa este punto críti-\\nco, conocido como concentración micelar crítica (CMC), las moléculas empiezan a\\nagruparse formando estructuras en seno de la mezcla, como se ilustra en la Figura\\n4, que les permiten aislar sus partes polares del aceite.\\n4'}, vector=None, shard_key=None)]"
      ]
     },
     "execution_count": 8,
     "metadata": {},
     "output_type": "execute_result"
    }
   ],
   "source": [
    "# Hagamos una busqueda para ver que documentos son más similares\n",
    "\n",
    "client.search(\n",
    "    collection_name=\"tfg\",\n",
    "    query_vector=(\"content\", embedding.embed_documents([\"resumen\"])[0]),\n",
    "    with_payload=[\"page_content\", \"source\"],\n",
    "    limit=5\n",
    ")"
   ]
  },
  {
   "cell_type": "markdown",
   "id": "fb76ee48-b5db-4fa0-8467-daadb61d48bf",
   "metadata": {},
   "source": [
    "## Inicializar la base de datos vectorial"
   ]
  },
  {
   "cell_type": "code",
   "execution_count": 3,
   "id": "a5f994f1-9ca4-4efa-a90f-d1f08c5baae6",
   "metadata": {},
   "outputs": [],
   "source": [
    "# Initialize vector store\n",
    "client = QdrantClient(url=QDRANT_URL,\n",
    "                      api_key=QDRANT_API_KEY\n",
    "                     )\n",
    "\n",
    "embedding = OpenAIEmbeddings()\n",
    "\n",
    "vectorstore = Qdrant(client=client,\n",
    "                     collection_name=\"tfg\",\n",
    "                     embeddings=embedding,\n",
    "                     vector_name=\"content\")"
   ]
  },
  {
   "cell_type": "code",
   "execution_count": 49,
   "id": "1be8261a-2d13-417d-bb7f-e6482d8221d0",
   "metadata": {},
   "outputs": [],
   "source": [
    "# Downlad prompt template\n",
    "\n",
    "rag_prompt = hub.pull(\"rlm/rag-prompt\")"
   ]
  },
  {
   "cell_type": "code",
   "execution_count": 64,
   "id": "9a6e6438-5566-45cc-87b0-a739f9202c6e",
   "metadata": {},
   "outputs": [
    {
     "data": {
      "text/plain": [
       "\"You are an assistant for question-answering tasks. Use the following pieces of retrieved context to answer the question. If you don't know the answer, just say that you don't know. Use four sentences maximum and keep the answer concise.\\nQuestion: {question} \\nContext: {context} \\nAnswer:\""
      ]
     },
     "execution_count": 64,
     "metadata": {},
     "output_type": "execute_result"
    }
   ],
   "source": [
    "rag_prompt.messages[0].prompt.template"
   ]
  },
  {
   "cell_type": "markdown",
   "id": "3d9828c8-387d-48a2-a666-4b04d0d1c506",
   "metadata": {},
   "source": [
    "## RAG Pipeline"
   ]
  },
  {
   "cell_type": "code",
   "execution_count": 4,
   "id": "f4ba8769-e3c8-48c0-aed3-5a972eaf2ea3",
   "metadata": {},
   "outputs": [],
   "source": [
    "rag_prompt = '''\n",
    "You are an assistant for summary tasks. \\\n",
    "Use the following pieces of retrieved context to summarize. \\\n",
    "If you don't know the answer, just say that you don't know. \\\n",
    "\"{context}\" CONCISE SUMMARY: \n",
    "'''\n",
    "prompt = PromptTemplate(template=rag_prompt,\n",
    "                        input_variables=[\"context\", \"question\"])"
   ]
  },
  {
   "cell_type": "code",
   "execution_count": 5,
   "id": "5fae6637-fa07-4f28-a80b-75cfd77e4a47",
   "metadata": {},
   "outputs": [],
   "source": [
    "handler = StdOutCallbackHandler()\n",
    "retriever = vectorstore.as_retriever()\n",
    "\n",
    "llm = ChatGroq(model=\"llama3-70b-8192\",\n",
    "               groq_api_key= GROQ_API_KEY)\n",
    "\n",
    "# Retrieval qa chain\n",
    "qa_chain = RetrievalQA.from_chain_type(llm=llm,\n",
    "                                       chain_type=\"stuff\",\n",
    "                                       callbacks=[handler],\n",
    "                                       retriever=retriever,\n",
    "                                       chain_type_kwargs={\"prompt\": prompt})"
   ]
  },
  {
   "cell_type": "code",
   "execution_count": 7,
   "id": "d1b5ef26-6698-4df0-b5b0-0bfeb05de5a2",
   "metadata": {},
   "outputs": [
    {
     "name": "stdout",
     "output_type": "stream",
     "text": [
      "\n",
      "\n",
      "\u001b[1m> Entering new RetrievalQA chain...\u001b[0m\n",
      "\n",
      "\u001b[1m> Finished chain.\u001b[0m\n"
     ]
    },
    {
     "data": {
      "text/plain": [
       "'Aunque no hay un resumen explícito en el texto, se puede inferir que el estudio se enfoca en la caracterización de lubricantes, específicamente en la relación entre la longitud de la cadena del alcohol y la conductividad eléctrica y la tensión superficial. El estudio encontró que la longitud de la cadena del alcohol juega un papel fundamental en la estabilidad de la mezcla y que el aumento de la conductividad eléctrica se debe a la formación de agregados moleculares.'"
      ]
     },
     "execution_count": 7,
     "metadata": {},
     "output_type": "execute_result"
    }
   ],
   "source": [
    "# Invoke qa_chain gpt-3.5-turbo\n",
    "\n",
    "qa_chain.invoke({\"query\": \"Cual es el resumen del estudio?\"})[\"result\"]"
   ]
  },
  {
   "cell_type": "code",
   "execution_count": 73,
   "id": "4b955500-950f-4098-b34e-21456e0ed18d",
   "metadata": {},
   "outputs": [
    {
     "name": "stdout",
     "output_type": "stream",
     "text": [
      "\n",
      "\n",
      "\u001b[1m> Entering new RetrievalQA chain...\u001b[0m\n",
      "\n",
      "\u001b[1m> Finished chain.\u001b[0m\n"
     ]
    },
    {
     "data": {
      "text/plain": [
       "'Según el texto, los resultados obtenidos de la conductividad eléctrica son:\\n\\n* La conductividad eléctrica aumenta con la concentración de alcohol en la mezcla.\\n* La longitud de la cadena del alcohol juega un papel fundamental en la estabilidad de la mezcla, y se obtienen mejores resultados con alcoholes de cadena larga.\\n* La conductividad eléctrica es mayor en la mezcla de 1-Nonanol que en otras mezclas.\\n* La medida de la conductividad eléctrica puede ser poco certera debido a la inestabilidad de los agregados que se forman en la disolución.\\n\\nNo se mencionan otros resultados específicos de la conductividad eléctrica, pero se habla de la importancia de la longitud de la cadena del alcohol y la concentración de alcohol en la mezcla.'"
      ]
     },
     "execution_count": 73,
     "metadata": {},
     "output_type": "execute_result"
    }
   ],
   "source": [
    "qa_chain.invoke({\"query\": \"Que resultados se obtienen de la conductividad electrica\"})[\"result\"]"
   ]
  },
  {
   "cell_type": "code",
   "execution_count": 16,
   "id": "3aaa598c-5a21-4041-b59d-d9088c8bdfb1",
   "metadata": {},
   "outputs": [
    {
     "name": "stdout",
     "output_type": "stream",
     "text": [
      "\n",
      "\n",
      "\u001b[1m> Entering new RetrievalQA chain...\u001b[0m\n",
      "\n",
      "\u001b[1m> Finished chain.\u001b[0m\n"
     ]
    },
    {
     "data": {
      "text/plain": [
       "{'query': 'Can you analyze the research paper?',\n",
       " 'result': \"I'd be happy to try! However, I need more information about what you would like me to analyze. \\n\\nThe references provided appear to be a list of citations from a research paper, but without the actual paper, it's challenging to provide a comprehensive analysis.\\n\\nCould you please provide more context or clarify what specifically you would like me to analyze? For example, are you looking for an analysis of the methodology, results, conclusions, or something else? Additionally, do you have access to the full paper, and if so, can you share it with me?\"}"
      ]
     },
     "execution_count": 16,
     "metadata": {},
     "output_type": "execute_result"
    }
   ],
   "source": [
    "qa_chain.invoke(\"Can you analyze the research paper?\")"
   ]
  },
  {
   "cell_type": "code",
   "execution_count": 7,
   "id": "ad6a8392-9529-4d44-a410-240800de8b6a",
   "metadata": {},
   "outputs": [
    {
     "data": {
      "text/plain": [
       "PromptTemplate(input_variables=['question'], template='{question}')"
      ]
     },
     "execution_count": 7,
     "metadata": {},
     "output_type": "execute_result"
    }
   ],
   "source": [
    "qa_chain.combine_documents_chain.llm_chain.prompt.messages[1].prompt"
   ]
  },
  {
   "cell_type": "code",
   "execution_count": 6,
   "id": "efa4711b-91f3-40e2-af3e-87480a4578f1",
   "metadata": {},
   "outputs": [],
   "source": [
    "# Create custom tool to use the vector store\n",
    "\n",
    "class MyCustomTool(BaseTool):\n",
    "    name: str = \"Research Paper\"\n",
    "    description: str = \"A tool used to read and understand a research paper for extracting information.\"\n",
    "\n",
    "    def _run(self, argument: str):\n",
    "\n",
    "        if argument == \"string\":\n",
    "            return qa_chain.invoke(\"What is the research paper about?\")\n",
    "        else:\n",
    "            return qa_chain.invoke(argument)\n",
    "\n",
    "tool_instance = MyCustomTool()"
   ]
  },
  {
   "cell_type": "code",
   "execution_count": 7,
   "id": "e0350e05-134d-41dc-8512-b37225744b15",
   "metadata": {},
   "outputs": [],
   "source": [
    "### RESEARCHER ###\n",
    "\n",
    "# Agent\n",
    "reasarcher = Agent(\n",
    "    role=\"Physicist Researcher\",\n",
    "    goal='Understand all sections of the research paper and describe the important information',\n",
    "    backstory=\"\"\"You work investigating at the Physics department of the university.\n",
    "                  A new paper has been published and you need to extract\n",
    "                  the main information and provide the information to\n",
    "                  your co-workers.You have a knack for dissecting complex\n",
    "                  research papers\"\"\",\n",
    "    verbose=True,\n",
    "    llm= llm,\n",
    "    tools=[tool_instance],\n",
    "    allow_delegation=False\n",
    "    )\n",
    "\n",
    "\n",
    "# Tasks\n",
    "task_research = Task(\n",
    "    description=\"\"\"Conduct an in-depth analysis of the published research paper\"\"\",\n",
    "    expected_output=\"\"\"Your final answer must be a full analysis report of the research paper\"\"\",\n",
    "    agent=reasarcher,\n",
    "    output_file='researcher_analysis.md' \n",
    "\n",
    ")\n",
    "\n",
    "\n",
    "### WRITER ###\n",
    "\n",
    "# Agent\n",
    "writer = Agent(\n",
    "    role=\"Physicist Writer\",\n",
    "    goal= 'Craft a detailed report to present to your co-workers',\n",
    "    backstory=\"\"\"You are working on writing a detailed summary of a research paper.\n",
    "                  Use the content of the Physicist Researcher to develop\n",
    "                  a comprehensive summary of the research paper\"\"\",\n",
    "    verbose=True,\n",
    "    llm= llm,\n",
    "    allow_delegation=False,\n",
    ")\n",
    "\n",
    "# Tasks\n",
    "task_writer = Task(\n",
    "    description=\"\"\"Extract the most important topics and key components of the report\n",
    "                    developed by the Physicist Researcher.\"\"\",\n",
    "    expected_output=\"\"\"Your final answer must be a summary \n",
    "                        to understand report for your co-workers\"\"\",\n",
    "    agent=writer,\n",
    "    output_file='writer_summary.md' \n",
    "\n",
    ")\n",
    "\n",
    "# CREWAI KICKOFF\n",
    "\n",
    "Crew = Crew(agents=[reasarcher, writer],\n",
    "            tasks=[task_research, task_writer],\n",
    "            verbose=99)"
   ]
  },
  {
   "cell_type": "code",
   "execution_count": 8,
   "id": "69554ea5-934e-4fc1-9d4c-b5fba4135992",
   "metadata": {},
   "outputs": [
    {
     "name": "stdout",
     "output_type": "stream",
     "text": [
      "\u001b[1m\u001b[95m [DEBUG]: == Working Agent: Physicist Researcher\u001b[00m\n",
      "\u001b[1m\u001b[95m [INFO]: == Starting Task: Conduct an in-depth analysis of the published research paper\u001b[00m\n",
      "\n",
      "\n",
      "\u001b[1m> Entering new CrewAgentExecutor chain...\u001b[0m\n",
      "\u001b[32;1m\u001b[1;3mThought: I need to thoroughly read and understand the research paper to extract the main information.\n",
      "\n",
      "Action: Research Paper\n",
      "Action Input: {\"argument\": \"string\"}\u001b[0m\n",
      "\n",
      "\u001b[1m> Entering new RetrievalQA chain...\u001b[0m\n",
      "\n",
      "\u001b[1m> Finished chain.\u001b[0m\n",
      "\u001b[95m \n",
      "\n",
      "{'query': 'What is the research paper about?', 'result': 'Based on the provided context, here is a concise summary:\\n\\nThe document appears to be a Final Degree Project report in Physics, titled \"Characterization of Lubricants: Electrical Conductivity and Surface Tension\". The author is Urko Regueiro Ramos, and the tutors are Alfredo José Amigo Pombo and Óscar Giner Rajala from the Department of Applied Physics. The report was submitted in February 2023. The references cited in the report include various scientific papers and books related to physics, chemistry, and thermodynamics.'}\n",
      "\u001b[00m\n",
      "\u001b[32;1m\u001b[1;3mThought: Now that I have a general understanding of the research paper, I need to dive deeper into the introduction to understand the research question and objectives.\n",
      "\n",
      "Action: Research Paper\n",
      "Action Input: {\"argument\": \"Introduction\"}\u001b[0m\n",
      "\n",
      "\u001b[1m> Entering new RetrievalQA chain...\u001b[0m\n",
      "\n",
      "\u001b[1m> Finished chain.\u001b[0m\n",
      "\u001b[95m \n",
      "\n",
      "{'query': 'Introduction', 'result': 'Here is a concise summary of the provided text:\\n\\nThe document is a thesis titled \"Characterization of Lubricants: Electrical Conductivity and Surface Tension\" by Urko Regueiro Ramos. The thesis aims to study new lubricants for electric vehicles (EVs) and hybrid vehicles (HVs), which require different lubricant properties than traditional combustion vehicles. The study focuses on the electrical conductivity and surface tension of lubricants, with the goal of developing more suitable lubricants for EVs and HVs.'}\n",
      "\u001b[00m\n",
      "\u001b[32;1m\u001b[1;3mThought: Now that I have an understanding of the introduction, I need to understand the methodology used in the research.\n",
      "\n",
      "Action: Research Paper\n",
      "Action Input: {\"argument\": \"Methodology\"}\u001b[0m\n",
      "\n",
      "\u001b[1m> Entering new RetrievalQA chain...\u001b[0m\n",
      "\n",
      "\u001b[1m> Finished chain.\u001b[0m\n",
      "\u001b[95m \n",
      "\n",
      "{'query': 'Methodology', 'result': 'Here is a concise summary of the text:\\n\\nThe text describes an experimental procedure for characterizing lubricants, specifically measuring their electrical conductivity and surface tension. The procedure involves preparing solutions with different concentrations of alcohols (1-butanol, 1-hexanol, and 1-nonanol) and measuring their surface tension and electrical conductivity at 25°C. The measurements are taken using a tensiometer and a conductimeter, respectively. The equipment is carefully cleaned and prepared between measurements to ensure accurate results.'}\n",
      "\u001b[00m\n",
      "\u001b[32;1m\u001b[1;3mThought: Now that I have an understanding of the methodology, I need to understand the results of the research.\n",
      "\n",
      "Action: Research Paper\n",
      "Action Input: {\"argument\": \"Results\"}\u001b[0m\n",
      "\n",
      "\u001b[1m> Entering new RetrievalQA chain...\u001b[0m\n",
      "\n",
      "\u001b[1m> Finished chain.\u001b[0m\n",
      "\u001b[95m \n",
      "\n",
      "{'query': 'Results', 'result': 'Here is a concise summary of the provided context:\\n\\nThe text appears to be a thesis or research paper in the field of physics, specifically on the characterization of lubricants. The author, Urko Regueiro Ramos, investigates the electrical conductivity and surface tension of lubricants. The paper includes results and discussion sections, with a focus on the measurement of electrical conductivity in polyalphaolefins using different mixtures. The results are presented in a figure, showing the dependence of conductivity on the content of alcohol used.'}\n",
      "\u001b[00m\n",
      "\u001b[32;1m\u001b[1;3mThought: Now that I have an understanding of the results, I need to understand the discussion and conclusion of the research.\n",
      "\n",
      "Action: Research Paper\n",
      "Action Input: {\"argument\": \"Discussion and Conclusion\"}\u001b[0m\n",
      "\n",
      "\u001b[1m> Entering new RetrievalQA chain...\u001b[0m\n",
      "\n",
      "\u001b[1m> Finished chain.\u001b[0m\n",
      "\u001b[95m \n",
      "\n",
      "{'query': 'Discussion and Conclusion', 'result': 'Here is a concise summary of the text:\\n\\nThe study investigates the electrical conductivity of a binary system composed of an apolar liquid and an alcohol. The results show that as the concentration of alcohol increases, ionization occurs, leading to an increase in electrical conductivity. The study proposes an exponential model to describe this behavior and finds that the length of the alcohol chain plays a fundamental role in the stability of the mixture. The study also suggests that the increase in electrical conductivity is due to the formation of molecular aggregates, which is supported by surface tension measurements. The results are in good agreement with literature values.'}\n",
      "\u001b[00m\n",
      "\u001b[32;1m\u001b[1;3mThought: Now that I have all the necessary information, I can compile the final report.\n",
      "\n",
      "Final Answer:\n",
      "\n",
      "**Characterization of Lubricants: Electrical Conductivity and Surface Tension**\n",
      "\n",
      "**Introduction**\n",
      "\n",
      "This thesis, titled \"Characterization of Lubricants: Electrical Conductivity and Surface Tension\", aims to study new lubricants for electric vehicles (EVs) and hybrid vehicles (HVs), which require different lubricant properties than traditional combustion vehicles. The study focuses on the electrical conductivity and surface tension of lubricants, with the goal of developing more suitable lubricants for EVs and HVs.\n",
      "\n",
      "**Methodology**\n",
      "\n",
      "The experimental procedure involves preparing solutions with different concentrations of alcohols (1-butanol, 1-hexanol, and 1-nonanol) and measuring their surface tension and electrical conductivity at 25°C. The measurements are taken using a tensiometer and a conductimeter, respectively. The equipment is carefully cleaned and prepared between measurements to ensure accurate results.\n",
      "\n",
      "**Results**\n",
      "\n",
      "The study investigates the electrical conductivity and surface tension of lubricants. The results show the dependence of conductivity on the content of alcohol used and are presented in a figure.\n",
      "\n",
      "**Discussion and Conclusion**\n",
      "\n",
      "The study finds that as the concentration of alcohol increases, ionization occurs, leading to an increase in electrical conductivity. An exponential model is proposed to describe this behavior, and it is found that the length of the alcohol chain plays a fundamental role in the stability of the mixture. The study suggests that the increase in electrical conductivity is due to the formation of molecular aggregates, which is supported by surface tension measurements. The results are in good agreement with literature values.\n",
      "\n",
      "This comprehensive report provides a thorough analysis of the research paper, covering the introduction, methodology, results, and discussion and conclusion sections.\u001b[0m\n",
      "\n",
      "\u001b[1m> Finished chain.\u001b[0m\n",
      "\u001b[1m\u001b[92m [DEBUG]: == [Physicist Researcher] Task output: **Characterization of Lubricants: Electrical Conductivity and Surface Tension**\n",
      "\n",
      "**Introduction**\n",
      "\n",
      "This thesis, titled \"Characterization of Lubricants: Electrical Conductivity and Surface Tension\", aims to study new lubricants for electric vehicles (EVs) and hybrid vehicles (HVs), which require different lubricant properties than traditional combustion vehicles. The study focuses on the electrical conductivity and surface tension of lubricants, with the goal of developing more suitable lubricants for EVs and HVs.\n",
      "\n",
      "**Methodology**\n",
      "\n",
      "The experimental procedure involves preparing solutions with different concentrations of alcohols (1-butanol, 1-hexanol, and 1-nonanol) and measuring their surface tension and electrical conductivity at 25°C. The measurements are taken using a tensiometer and a conductimeter, respectively. The equipment is carefully cleaned and prepared between measurements to ensure accurate results.\n",
      "\n",
      "**Results**\n",
      "\n",
      "The study investigates the electrical conductivity and surface tension of lubricants. The results show the dependence of conductivity on the content of alcohol used and are presented in a figure.\n",
      "\n",
      "**Discussion and Conclusion**\n",
      "\n",
      "The study finds that as the concentration of alcohol increases, ionization occurs, leading to an increase in electrical conductivity. An exponential model is proposed to describe this behavior, and it is found that the length of the alcohol chain plays a fundamental role in the stability of the mixture. The study suggests that the increase in electrical conductivity is due to the formation of molecular aggregates, which is supported by surface tension measurements. The results are in good agreement with literature values.\n",
      "\n",
      "This comprehensive report provides a thorough analysis of the research paper, covering the introduction, methodology, results, and discussion and conclusion sections.\n",
      "\n",
      "\u001b[00m\n",
      "\u001b[1m\u001b[95m [DEBUG]: == Working Agent: Physicist Writer\u001b[00m\n",
      "\u001b[1m\u001b[95m [INFO]: == Starting Task: Extract the most important topics and key components of the report\n",
      "                    developed by the Physicist Researcher.\u001b[00m\n",
      "\n",
      "\n",
      "\u001b[1m> Entering new CrewAgentExecutor chain...\u001b[0m\n",
      "\u001b[32;1m\u001b[1;3mI now can give a great answer.\n",
      "\n",
      "Final Answer:\n",
      "\n",
      "**Comprehensive Summary of Research Paper: Characterization of Lubricants: Electrical Conductivity and Surface Tension**\n",
      "\n",
      "**Introduction**\n",
      "\n",
      "The research paper \"Characterization of Lubricants: Electrical Conductivity and Surface Tension\" investigates the development of new lubricants for electric vehicles (EVs) and hybrid vehicles (HVs). The study focuses on the electrical conductivity and surface tension of lubricants, which are critical properties for EVs and HVs. The goal is to design more suitable lubricants for these vehicles, which require different lubricant properties than traditional combustion vehicles.\n",
      "\n",
      "**Methodology**\n",
      "\n",
      "The experimental procedure involves preparing solutions with varying concentrations of alcohols (1-butanol, 1-hexanol, and 1-nonanol) and measuring their surface tension and electrical conductivity at 25°C. A tensiometer and a conductimeter are used to take these measurements. To ensure accurate results, the equipment is carefully cleaned and prepared between measurements.\n",
      "\n",
      "**Results**\n",
      "\n",
      "The study examines the electrical conductivity and surface tension of lubricants. The results, presented in a figure, demonstrate the dependence of conductivity on the content of alcohol used. The findings show that as the concentration of alcohol increases, ionization occurs, leading to an increase in electrical conductivity.\n",
      "\n",
      "**Discussion and Conclusion**\n",
      "\n",
      "The study proposes an exponential model to describe the behavior of electrical conductivity. The length of the alcohol chain is found to play a fundamental role in the stability of the mixture. The increase in electrical conductivity is attributed to the formation of molecular aggregates, which is supported by surface tension measurements. The results are in good agreement with literature values. This research provides valuable insights into the development of lubricants for EVs and HVs, highlighting the importance of considering electrical conductivity and surface tension in lubricant design.\n",
      "\n",
      "**Key Findings and Implications**\n",
      "\n",
      "* The study demonstrates the dependence of electrical conductivity on the concentration of alcohol used in lubricants.\n",
      "* The length of the alcohol chain plays a critical role in the stability of the mixture.\n",
      "* The formation of molecular aggregates contributes to the increase in electrical conductivity.\n",
      "* The results have implications for the development of lubricants for electric vehicles and hybrid vehicles.\n",
      "\n",
      "**Recommendations and Future Directions**\n",
      "\n",
      "* Further research is needed to explore the effects of different alcohol concentrations on lubricant properties.\n",
      "* The study's findings can be used to inform the design of lubricants for EVs and HVs.\n",
      "* Future studies should investigate the impact of lubricant properties on EV and HV performance.\n",
      "\n",
      "This comprehensive summary provides a detailed overview of the research paper, covering the introduction, methodology, results, discussion, and conclusion. The report highlights the key findings, implications, and recommendations for future research, making it an invaluable resource for researchers and industry professionals in the field of lubricant development.\u001b[0m\n",
      "\n",
      "\u001b[1m> Finished chain.\u001b[0m\n",
      "\u001b[1m\u001b[92m [DEBUG]: == [Physicist Writer] Task output: **Comprehensive Summary of Research Paper: Characterization of Lubricants: Electrical Conductivity and Surface Tension**\n",
      "\n",
      "**Introduction**\n",
      "\n",
      "The research paper \"Characterization of Lubricants: Electrical Conductivity and Surface Tension\" investigates the development of new lubricants for electric vehicles (EVs) and hybrid vehicles (HVs). The study focuses on the electrical conductivity and surface tension of lubricants, which are critical properties for EVs and HVs. The goal is to design more suitable lubricants for these vehicles, which require different lubricant properties than traditional combustion vehicles.\n",
      "\n",
      "**Methodology**\n",
      "\n",
      "The experimental procedure involves preparing solutions with varying concentrations of alcohols (1-butanol, 1-hexanol, and 1-nonanol) and measuring their surface tension and electrical conductivity at 25°C. A tensiometer and a conductimeter are used to take these measurements. To ensure accurate results, the equipment is carefully cleaned and prepared between measurements.\n",
      "\n",
      "**Results**\n",
      "\n",
      "The study examines the electrical conductivity and surface tension of lubricants. The results, presented in a figure, demonstrate the dependence of conductivity on the content of alcohol used. The findings show that as the concentration of alcohol increases, ionization occurs, leading to an increase in electrical conductivity.\n",
      "\n",
      "**Discussion and Conclusion**\n",
      "\n",
      "The study proposes an exponential model to describe the behavior of electrical conductivity. The length of the alcohol chain is found to play a fundamental role in the stability of the mixture. The increase in electrical conductivity is attributed to the formation of molecular aggregates, which is supported by surface tension measurements. The results are in good agreement with literature values. This research provides valuable insights into the development of lubricants for EVs and HVs, highlighting the importance of considering electrical conductivity and surface tension in lubricant design.\n",
      "\n",
      "**Key Findings and Implications**\n",
      "\n",
      "* The study demonstrates the dependence of electrical conductivity on the concentration of alcohol used in lubricants.\n",
      "* The length of the alcohol chain plays a critical role in the stability of the mixture.\n",
      "* The formation of molecular aggregates contributes to the increase in electrical conductivity.\n",
      "* The results have implications for the development of lubricants for electric vehicles and hybrid vehicles.\n",
      "\n",
      "**Recommendations and Future Directions**\n",
      "\n",
      "* Further research is needed to explore the effects of different alcohol concentrations on lubricant properties.\n",
      "* The study's findings can be used to inform the design of lubricants for EVs and HVs.\n",
      "* Future studies should investigate the impact of lubricant properties on EV and HV performance.\n",
      "\n",
      "This comprehensive summary provides a detailed overview of the research paper, covering the introduction, methodology, results, discussion, and conclusion. The report highlights the key findings, implications, and recommendations for future research, making it an invaluable resource for researchers and industry professionals in the field of lubricant development.\n",
      "\n",
      "\u001b[00m\n"
     ]
    }
   ],
   "source": [
    "result = Crew.kickoff()"
   ]
  },
  {
   "cell_type": "code",
   "execution_count": null,
   "id": "ef70d164-10d1-48cc-a3b4-d4e4b47977d2",
   "metadata": {},
   "outputs": [],
   "source": []
  }
 ],
 "metadata": {
  "kernelspec": {
   "display_name": "Python 3 (ipykernel)",
   "language": "python",
   "name": "python3"
  },
  "language_info": {
   "codemirror_mode": {
    "name": "ipython",
    "version": 3
   },
   "file_extension": ".py",
   "mimetype": "text/x-python",
   "name": "python",
   "nbconvert_exporter": "python",
   "pygments_lexer": "ipython3",
   "version": "3.11.5"
  }
 },
 "nbformat": 4,
 "nbformat_minor": 5
}
